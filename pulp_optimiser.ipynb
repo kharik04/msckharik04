{
 "cells": [
  {
   "cell_type": "code",
   "execution_count": 1,
   "metadata": {},
   "outputs": [],
   "source": [
    "from pulp import *"
   ]
  },
  {
   "cell_type": "code",
   "execution_count": 15,
   "metadata": {},
   "outputs": [
    {
     "data": {
      "text/plain": [
       "'Integer'"
      ]
     },
     "execution_count": 15,
     "metadata": {},
     "output_type": "execute_result"
    }
   ],
   "source": [
    "prob = LpProblem(\"toy\",LpMinimize)\n",
    "LpInteger"
   ]
  },
  {
   "cell_type": "code",
   "execution_count": 16,
   "metadata": {},
   "outputs": [],
   "source": [
    "tin, tout = [],[]\n",
    "for i in range(0,4):\n",
    "    tin.append(LpVariable(f'tin_{i}', lowBound=0 , cat='Continuous'))\n",
    "    tout.append(LpVariable(f'tout_{i}', lowBound=0 , cat='Continuous'))\n",
    "xs = []\n",
    "for i in range(0,3):\n",
    "    xs.append(LpVariable(f'xs_{i}', lowBound=0 , cat=LpInteger))\n",
    "\n",
    "deltas = []\n",
    "for i in range(0,2):\n",
    "    deltas.append(LpVariable(f'delta_{i}', lowBound=0 , cat=LpInteger))"
   ]
  },
  {
   "cell_type": "code",
   "execution_count": 17,
   "metadata": {},
   "outputs": [],
   "source": [
    "prob += tin[3], 'Objective Function'\n",
    "\n",
    "#1\n",
    "prob += (tin[0] <= tout[0]), 'c1'\n",
    "prob += (tin[1] <= tout[1]), 'c2'\n",
    "prob += (tin[2] <= tout[2]), 'c3'\n",
    "prob += (tin[3] <= tout[3]), 'c4'\n",
    "\n",
    "#2\n",
    "prob += (tout[0] <= tin[1]), 'c5'\n",
    "prob += (tout[2] <= tin[3]), 'c6'\n",
    "\n",
    "#3\n",
    "M=20000\n",
    "mrt = 53\n",
    "mst = 0\n",
    "prob += (tout[0] - tin[0] >= mrt + mst - M*(1-deltas[0])), 'c7'\n",
    "mrt = 32\n",
    "mst = 0\n",
    "prob += (tout[1] - tin[1] >= mrt + mst - M*(1-deltas[0])), 'c8'\n",
    "mrt = 53\n",
    "mst = 0\n",
    "prob += (tout[2] - tin[2] >= mrt + mst - M*(1-deltas[1])), 'c9'\n",
    "mrt = 2000\n",
    "mst = 0\n",
    "prob += (tout[3] - tin[3] >= mrt + mst - M*(1-deltas[1])), 'c10'\n",
    "\n",
    "#4\n",
    "EarIn = 28200\n",
    "prob += (tin[0] >= EarIn - M*(1-deltas[0])), 'c11'\n",
    "prob += (tin[2] >= EarIn - M*(1-deltas[1])), 'c12'\n",
    "\n",
    "#5\n",
    "#--\n",
    "\n",
    "#6\n",
    "prob += (deltas[0] + deltas[1] == 1), 'c13'\n",
    "\n",
    "\n",
    "#7\n",
    "prob += (xs[0] >= deltas[0]), 'c14'\n",
    "prob += (xs[1] >= deltas[0]), 'c15'\n",
    "prob += (xs[0] >= deltas[1]), 'c16'\n",
    "prob += (xs[2] >= deltas[1]), 'c17'"
   ]
  },
  {
   "cell_type": "code",
   "execution_count": 18,
   "metadata": {},
   "outputs": [
    {
     "data": {
      "text/plain": [
       "toy:\n",
       "MINIMIZE\n",
       "1*tin_3 + 0\n",
       "SUBJECT TO\n",
       "c1: tin_0 - tout_0 <= 0\n",
       "\n",
       "c2: tin_1 - tout_1 <= 0\n",
       "\n",
       "c3: tin_2 - tout_2 <= 0\n",
       "\n",
       "c4: tin_3 - tout_3 <= 0\n",
       "\n",
       "c5: - tin_1 + tout_0 <= 0\n",
       "\n",
       "c6: - tin_3 + tout_2 <= 0\n",
       "\n",
       "c7: - 20000 delta_0 - tin_0 + tout_0 >= -19947\n",
       "\n",
       "c8: - 20000 delta_0 - tin_1 + tout_1 >= -19968\n",
       "\n",
       "c9: - 20000 delta_1 - tin_2 + tout_2 >= -19947\n",
       "\n",
       "c10: - 20000 delta_1 - tin_3 + tout_3 >= -18000\n",
       "\n",
       "c11: - 20000 delta_0 + tin_0 >= 8200\n",
       "\n",
       "c12: - 20000 delta_1 + tin_2 >= 8200\n",
       "\n",
       "c13: delta_0 + delta_1 = 1\n",
       "\n",
       "c14: - delta_0 + xs_0 >= 0\n",
       "\n",
       "c15: - delta_0 + xs_1 >= 0\n",
       "\n",
       "c16: - delta_1 + xs_0 >= 0\n",
       "\n",
       "c17: - delta_1 + xs_2 >= 0\n",
       "\n",
       "VARIABLES\n",
       "0 <= delta_0 Integer\n",
       "0 <= delta_1 Integer\n",
       "tin_0 Continuous\n",
       "tin_1 Continuous\n",
       "tin_2 Continuous\n",
       "tin_3 Continuous\n",
       "tout_0 Continuous\n",
       "tout_1 Continuous\n",
       "tout_2 Continuous\n",
       "tout_3 Continuous\n",
       "0 <= xs_0 Integer\n",
       "0 <= xs_1 Integer\n",
       "0 <= xs_2 Integer"
      ]
     },
     "execution_count": 18,
     "metadata": {},
     "output_type": "execute_result"
    }
   ],
   "source": [
    "prob"
   ]
  },
  {
   "cell_type": "code",
   "execution_count": 20,
   "metadata": {},
   "outputs": [
    {
     "data": {
      "text/plain": [
       "1"
      ]
     },
     "execution_count": 20,
     "metadata": {},
     "output_type": "execute_result"
    }
   ],
   "source": [
    "prob.solve()"
   ]
  },
  {
   "cell_type": "code",
   "execution_count": 23,
   "metadata": {},
   "outputs": [
    {
     "name": "stdout",
     "output_type": "stream",
     "text": [
      "tin 28200.0\n",
      "tin 28253.0\n",
      "tin 8200.0\n",
      "tin 8200.0\n",
      "tout 28253.0\n",
      "tout 28285.0\n",
      "tout 8200.0\n",
      "tout 8200.0\n",
      "x 1.0\n",
      "x 1.0\n",
      "x 0.0\n",
      "delta 1.0\n",
      "delta 0.0\n"
     ]
    }
   ],
   "source": [
    "for tag,v in zip(['tin', 'tout', 'x', 'delta'],[tin, tout, xs, deltas]):\n",
    "    for e in v:\n",
    "        print(tag, e.varValue)"
   ]
  },
  {
   "cell_type": "code",
   "execution_count": null,
   "metadata": {},
   "outputs": [],
   "source": []
  }
 ],
 "metadata": {
  "kernelspec": {
   "display_name": "Python 3",
   "language": "python",
   "name": "python3"
  },
  "language_info": {
   "codemirror_mode": {
    "name": "ipython",
    "version": 3
   },
   "file_extension": ".py",
   "mimetype": "text/x-python",
   "name": "python",
   "nbconvert_exporter": "python",
   "pygments_lexer": "ipython3",
   "version": "3.6.9"
  }
 },
 "nbformat": 4,
 "nbformat_minor": 4
}
