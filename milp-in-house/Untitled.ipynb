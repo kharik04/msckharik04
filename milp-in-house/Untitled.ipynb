{
 "cells": [
  {
   "cell_type": "code",
   "execution_count": 9,
   "metadata": {},
   "outputs": [],
   "source": [
    "import cvxpy as cp\n",
    "import networkx as nx"
   ]
  },
  {
   "cell_type": "markdown",
   "metadata": {},
   "source": [
    "min -x-y  \n",
    "st  \n",
    "-2x + 2y >= 1  \n",
    "-8x + 10y<=13  \n",
    "x,y=>0  \n",
    "x,y in Z  "
   ]
  },
  {
   "cell_type": "code",
   "execution_count": 7,
   "metadata": {},
   "outputs": [
    {
     "name": "stdout",
     "output_type": "stream",
     "text": [
      "===============================================================================\n",
      "                                     CVXPY                                     \n",
      "                                    v1.1.14                                    \n",
      "===============================================================================\n",
      "(CVXPY) Aug 11 04:27:19 PM: Your problem has 2 variables, 4 constraints, and 0 parameters.\n",
      "(CVXPY) Aug 11 04:27:19 PM: It is compliant with the following grammars: DCP, DQCP\n",
      "(CVXPY) Aug 11 04:27:19 PM: (If you need to solve this problem multiple times, but with different data, consider using parameters.)\n",
      "(CVXPY) Aug 11 04:27:19 PM: CVXPY will first compile your problem; then, it will invoke a numerical solver to obtain a solution.\n",
      "-------------------------------------------------------------------------------\n",
      "                                  Compilation                                  \n",
      "-------------------------------------------------------------------------------\n",
      "(CVXPY) Aug 11 04:27:19 PM: Compiling problem (target solver=MOSEK).\n",
      "(CVXPY) Aug 11 04:27:19 PM: Reduction chain: Dcp2Cone -> CvxAttr2Constr -> ConeMatrixStuffing -> MOSEK\n",
      "(CVXPY) Aug 11 04:27:19 PM: Applying reduction Dcp2Cone\n",
      "(CVXPY) Aug 11 04:27:19 PM: Applying reduction CvxAttr2Constr\n",
      "(CVXPY) Aug 11 04:27:19 PM: Applying reduction ConeMatrixStuffing\n",
      "(CVXPY) Aug 11 04:27:19 PM: Applying reduction MOSEK\n",
      "(CVXPY) Aug 11 04:27:19 PM: Finished problem compilation (took 1.603e-02 seconds).\n",
      "-------------------------------------------------------------------------------\n",
      "                                Numerical solver                               \n",
      "-------------------------------------------------------------------------------\n",
      "(CVXPY) Aug 11 04:27:19 PM: Invoking solver MOSEK  to obtain a solution.\n",
      "\n",
      "\n",
      "Problem\n",
      "  Name                   :                 \n",
      "  Objective sense        : min             \n",
      "  Type                   : LO (linear optimization problem)\n",
      "  Constraints            : 4               \n",
      "  Cones                  : 0               \n",
      "  Scalar variables       : 2               \n",
      "  Matrix variables       : 0               \n",
      "  Integer variables      : 2               \n",
      "\n",
      "Optimizer started.\n",
      "Mixed integer optimizer started.\n",
      "Threads used: 4\n",
      "Presolve started.\n",
      "Presolve terminated. Time = 0.00\n",
      "Presolved problem: 0 variables, 0 constraints, 0 non-zeros\n",
      "Presolved problem: 0 general integer, 0 binary, 0 continuous\n",
      "Clique table size: 0\n",
      "BRANCHES RELAXS   ACT_NDS  DEPTH    BEST_INT_OBJ         BEST_RELAX_OBJ       REL_GAP(%)  TIME  \n",
      "0        0        1        0        -3.0000000000e+00    NA                   NA          0.0   \n",
      "0        1        1        0        -3.0000000000e+00    -3.0000000000e+00    0.00e+00    0.0   \n",
      "An optimal solution satisfying the relative gap tolerance of 1.00e-02(%) has been located.\n",
      "The relative gap is 0.00e+00(%).\n",
      "An optimal solution satisfying the absolute gap tolerance of 0.00e+00 has been located.\n",
      "The absolute gap is 0.00e+00.\n",
      "\n",
      "Objective of best integer solution : -3.000000000000e+00     \n",
      "Best objective bound               : -3.000000000000e+00     \n",
      "Construct solution objective       : Not employed\n",
      "User objective cut value           : Not employed\n",
      "Number of cuts generated           : 0\n",
      "Number of branches                 : 0\n",
      "Number of relaxations solved       : 1\n",
      "Number of interior point iterations: 0\n",
      "Number of simplex iterations       : 0\n",
      "Time spend presolving the root     : 0.00\n",
      "Time spend optimizing the root     : 0.00\n",
      "Mixed integer optimizer terminated. Time: 0.03\n",
      "\n",
      "Optimizer terminated. Time: 0.04    \n",
      "\n",
      "\n",
      "Integer solution solution summary\n",
      "  Problem status  : PRIMAL_FEASIBLE\n",
      "  Solution status : INTEGER_OPTIMAL\n",
      "  Primal.  obj: -3.0000000000e+00   nrm: 1e+01    Viol.  con: 0e+00    var: 0e+00    itg: 0e+00  \n",
      "-------------------------------------------------------------------------------\n",
      "                                    Summary                                    \n",
      "-------------------------------------------------------------------------------\n",
      "(CVXPY) Aug 11 04:27:19 PM: Problem status: optimal\n",
      "(CVXPY) Aug 11 04:27:19 PM: Optimal value: -3.000e+00\n",
      "(CVXPY) Aug 11 04:27:19 PM: Compilation took 1.603e-02 seconds\n",
      "(CVXPY) Aug 11 04:27:19 PM: Solver (including time spent in interface) took 5.205e-02 seconds\n"
     ]
    },
    {
     "data": {
      "text/plain": [
       "-3.0"
      ]
     },
     "execution_count": 7,
     "metadata": {},
     "output_type": "execute_result"
    }
   ],
   "source": [
    "x = cp.Variable(integer = True)\n",
    "y = cp.Variable(integer = True)\n",
    "prob = cp.Problem(cp.Minimize(-x-y),[-2*x+2*y>=1, -8*x+10*y<=13,x>=0,y>=0])\n",
    "prob.solve(solver = 'MOSEK', verbose = True)"
   ]
  },
  {
   "cell_type": "code",
   "execution_count": 22,
   "metadata": {},
   "outputs": [
    {
     "data": {
      "text/plain": [
       "-3.0"
      ]
     },
     "execution_count": 22,
     "metadata": {},
     "output_type": "execute_result"
    }
   ],
   "source": [
    "prob.value"
   ]
  },
  {
   "cell_type": "code",
   "execution_count": 8,
   "metadata": {},
   "outputs": [
    {
     "name": "stdout",
     "output_type": "stream",
     "text": [
      "1.0 2.0\n"
     ]
    }
   ],
   "source": [
    "print(x.value, y.value)"
   ]
  },
  {
   "cell_type": "code",
   "execution_count": 37,
   "metadata": {},
   "outputs": [],
   "source": [
    "class Problem():\n",
    "    def __init__(self, objective, cs):\n",
    "        self.objective = objective\n",
    "        self.cs = cs\n",
    "    def solve(self):\n",
    "        prob = cp.Problem(cp.Minimize(self.objective),self.cs)\n",
    "        prob.solve(solver = 'MOSEK', verbose = True)\n",
    "        return prob.value\n",
    "        "
   ]
  },
  {
   "cell_type": "code",
   "execution_count": 39,
   "metadata": {},
   "outputs": [
    {
     "name": "stdout",
     "output_type": "stream",
     "text": [
      "===============================================================================\n",
      "                                     CVXPY                                     \n",
      "                                    v1.1.14                                    \n",
      "===============================================================================\n",
      "(CVXPY) Aug 11 04:52:35 PM: Your problem has 2 variables, 4 constraints, and 0 parameters.\n",
      "(CVXPY) Aug 11 04:52:35 PM: It is compliant with the following grammars: DCP, DQCP\n",
      "(CVXPY) Aug 11 04:52:35 PM: (If you need to solve this problem multiple times, but with different data, consider using parameters.)\n",
      "(CVXPY) Aug 11 04:52:35 PM: CVXPY will first compile your problem; then, it will invoke a numerical solver to obtain a solution.\n",
      "-------------------------------------------------------------------------------\n",
      "                                  Compilation                                  \n",
      "-------------------------------------------------------------------------------\n",
      "(CVXPY) Aug 11 04:52:35 PM: Compiling problem (target solver=MOSEK).\n",
      "(CVXPY) Aug 11 04:52:35 PM: Reduction chain: Dcp2Cone -> CvxAttr2Constr -> ConeMatrixStuffing -> MOSEK\n",
      "(CVXPY) Aug 11 04:52:35 PM: Applying reduction Dcp2Cone\n",
      "(CVXPY) Aug 11 04:52:35 PM: Applying reduction CvxAttr2Constr\n",
      "(CVXPY) Aug 11 04:52:35 PM: Applying reduction ConeMatrixStuffing\n",
      "(CVXPY) Aug 11 04:52:35 PM: Applying reduction MOSEK\n",
      "(CVXPY) Aug 11 04:52:35 PM: Finished problem compilation (took 1.404e-02 seconds).\n",
      "-------------------------------------------------------------------------------\n",
      "                                Numerical solver                               \n",
      "-------------------------------------------------------------------------------\n",
      "(CVXPY) Aug 11 04:52:35 PM: Invoking solver MOSEK  to obtain a solution.\n",
      "\n",
      "\n",
      "Problem\n",
      "  Name                   :                 \n",
      "  Objective sense        : min             \n",
      "  Type                   : LO (linear optimization problem)\n",
      "  Constraints            : 4               \n",
      "  Cones                  : 0               \n",
      "  Scalar variables       : 2               \n",
      "  Matrix variables       : 0               \n",
      "  Integer variables      : 2               \n",
      "\n",
      "Optimizer started.\n",
      "Mixed integer optimizer started.\n",
      "Threads used: 4\n",
      "Presolve started.\n",
      "Presolve terminated. Time = 0.00\n",
      "Presolved problem: 0 variables, 0 constraints, 0 non-zeros\n",
      "Presolved problem: 0 general integer, 0 binary, 0 continuous\n",
      "Clique table size: 0\n",
      "BRANCHES RELAXS   ACT_NDS  DEPTH    BEST_INT_OBJ         BEST_RELAX_OBJ       REL_GAP(%)  TIME  \n",
      "0        0        1        0        -3.0000000000e+00    NA                   NA          0.0   \n",
      "0        1        1        0        -3.0000000000e+00    -3.0000000000e+00    0.00e+00    0.0   \n",
      "An optimal solution satisfying the relative gap tolerance of 1.00e-02(%) has been located.\n",
      "The relative gap is 0.00e+00(%).\n",
      "An optimal solution satisfying the absolute gap tolerance of 0.00e+00 has been located.\n",
      "The absolute gap is 0.00e+00.\n",
      "\n",
      "Objective of best integer solution : -3.000000000000e+00     \n",
      "Best objective bound               : -3.000000000000e+00     \n",
      "Construct solution objective       : Not employed\n",
      "User objective cut value           : Not employed\n",
      "Number of cuts generated           : 0\n",
      "Number of branches                 : 0\n",
      "Number of relaxations solved       : 1\n",
      "Number of interior point iterations: 0\n",
      "Number of simplex iterations       : 0\n",
      "Time spend presolving the root     : 0.00\n",
      "Time spend optimizing the root     : 0.00\n",
      "Mixed integer optimizer terminated. Time: 0.02\n",
      "\n",
      "Optimizer terminated. Time: 0.04    \n",
      "\n",
      "\n",
      "Integer solution solution summary\n",
      "  Problem status  : PRIMAL_FEASIBLE\n",
      "  Solution status : INTEGER_OPTIMAL\n",
      "  Primal.  obj: -3.0000000000e+00   nrm: 1e+01    Viol.  con: 0e+00    var: 0e+00    itg: 0e+00  \n",
      "-------------------------------------------------------------------------------\n",
      "                                    Summary                                    \n",
      "-------------------------------------------------------------------------------\n",
      "(CVXPY) Aug 11 04:52:35 PM: Problem status: optimal\n",
      "(CVXPY) Aug 11 04:52:35 PM: Optimal value: -3.000e+00\n",
      "(CVXPY) Aug 11 04:52:35 PM: Compilation took 1.404e-02 seconds\n",
      "(CVXPY) Aug 11 04:52:35 PM: Solver (including time spent in interface) took 5.175e-02 seconds\n"
     ]
    }
   ],
   "source": [
    "P0 = Problem(-x-y, [-2*x+2*y>=1, -8*x+10*y<=13,x>=0,y>=0])\n",
    "G = Graph(P0)\n",
    "G.expand()"
   ]
  },
  {
   "cell_type": "code",
   "execution_count": 40,
   "metadata": {},
   "outputs": [
    {
     "ename": "AttributeError",
     "evalue": "'Graph' object has no attribute 'costs'",
     "output_type": "error",
     "traceback": [
      "\u001b[0;31m---------------------------------------------------------------------------\u001b[0m",
      "\u001b[0;31mAttributeError\u001b[0m                            Traceback (most recent call last)",
      "\u001b[0;32m<ipython-input-40-452097caf5de>\u001b[0m in \u001b[0;36m<module>\u001b[0;34m\u001b[0m\n\u001b[0;32m----> 1\u001b[0;31m \u001b[0mG\u001b[0m\u001b[0;34m.\u001b[0m\u001b[0mcosts\u001b[0m\u001b[0;34m\u001b[0m\u001b[0;34m\u001b[0m\u001b[0m\n\u001b[0m",
      "\u001b[0;31mAttributeError\u001b[0m: 'Graph' object has no attribute 'costs'"
     ]
    }
   ],
   "source": [
    "G.costs"
   ]
  },
  {
   "cell_type": "code",
   "execution_count": 41,
   "metadata": {},
   "outputs": [],
   "source": [
    "import numpy as np\n",
    "class Graph():\n",
    "    def __init__(self, root):\n",
    "        self.frontier = [root]\n",
    "        self.\n",
    "    def expand(self):\n",
    "        costs = []\n",
    "        for n in self.frontier:\n",
    "            cost = n.solve()\n",
    "        "
   ]
  },
  {
   "cell_type": "code",
   "execution_count": 42,
   "metadata": {},
   "outputs": [
    {
     "data": {
      "text/plain": [
       "inf"
      ]
     },
     "execution_count": 42,
     "metadata": {},
     "output_type": "execute_result"
    }
   ],
   "source": [
    "np.inf"
   ]
  },
  {
   "cell_type": "code",
   "execution_count": null,
   "metadata": {},
   "outputs": [],
   "source": []
  }
 ],
 "metadata": {
  "kernelspec": {
   "display_name": "Python 3",
   "language": "python",
   "name": "python3"
  },
  "language_info": {
   "codemirror_mode": {
    "name": "ipython",
    "version": 3
   },
   "file_extension": ".py",
   "mimetype": "text/x-python",
   "name": "python",
   "nbconvert_exporter": "python",
   "pygments_lexer": "ipython3",
   "version": "3.6.9"
  }
 },
 "nbformat": 4,
 "nbformat_minor": 4
}
