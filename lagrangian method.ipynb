{
 "cells": [
  {
   "cell_type": "markdown",
   "metadata": {
    "collapsed": true
   },
   "source": [
    "# Construction of Route Graphs"
   ]
  },
  {
   "cell_type": "code",
   "execution_count": 1,
   "metadata": {},
   "outputs": [],
   "source": [
    "import json\n",
    "import time\n",
    "import networkx as nx\n",
    "import matplotlib.pyplot as plt\n",
    "import numpy as np\n",
    "import isodate\n",
    "import cvxpy as cp\n",
    "import gurobipy\n",
    "from functools import reduce"
   ]
  },
  {
   "cell_type": "markdown",
   "metadata": {},
   "source": [
    "### Load Json"
   ]
  },
  {
   "cell_type": "code",
   "execution_count": 2,
   "metadata": {},
   "outputs": [],
   "source": [
    "scenario = \"sample_scenario.json\"  # adjust path to the sample instance if it is not located there\n",
    "with open(scenario) as fp:\n",
    "    scenario = json.load(fp)"
   ]
  },
  {
   "cell_type": "markdown",
   "metadata": {},
   "source": [
    "### Process section requirements"
   ]
  },
  {
   "cell_type": "code",
   "execution_count": 3,
   "metadata": {},
   "outputs": [],
   "source": [
    "service_intentions = {}\n",
    "for si in scenario['service_intentions']:\n",
    "    requirements = {}\n",
    "    for i,req in enumerate(si['section_requirements']):\n",
    "        requirements[req['section_marker']] = {key:value for key,value in req.items()}\n",
    "        if i == 0:\n",
    "            requirements[req['section_marker']]['start_end'] = 'start'\n",
    "        elif i == len(si['section_requirements']) - 1:\n",
    "            requirements[req['section_marker']]['start_end'] = 'end'\n",
    "        else: \n",
    "            requirements[req['section_marker']]['start_end'] = None\n",
    "    service_intentions[si['id']] = requirements\n",
    "\n",
    "#get resources\n",
    "resources = {}\n",
    "for resource in scenario['resources']:\n",
    "    idx = resource['id']\n",
    "    if idx in resources:\n",
    "        print('something is wrong')\n",
    "    resources[idx] = resource['release_time']"
   ]
  },
  {
   "cell_type": "markdown",
   "metadata": {},
   "source": [
    "### Printing of nodes"
   ]
  },
  {
   "cell_type": "code",
   "execution_count": 4,
   "metadata": {},
   "outputs": [],
   "source": [
    "def from_node_id(route_path, route_section, index_in_path):\n",
    "    if \"route_alternative_marker_at_entry\" in route_section.keys() and \\\n",
    "            route_section[\"route_alternative_marker_at_entry\"] is not None and \\\n",
    "            len(route_section[\"route_alternative_marker_at_entry\"]) > 0:\n",
    "                return \"(\" + str(route_section[\"route_alternative_marker_at_entry\"][0]) + \")\"\n",
    "    else:\n",
    "        if index_in_path == 0:  # can only get here if this node is a very beginning of a route\n",
    "            return \"(\" + str(route_section[\"sequence_number\"]) + \"_beginning)\"\n",
    "        else:\n",
    "            return \"(\" + (str(route_path[\"route_sections\"][index_in_path - 1][\"sequence_number\"]) + \"->\" +\n",
    "                          str(route_section[\"sequence_number\"])) + \")\"\n",
    "def to_node_id(route_path, route_section, index_in_path):\n",
    "    if \"route_alternative_marker_at_exit\" in route_section.keys() and \\\n",
    "            route_section[\"route_alternative_marker_at_exit\"] is not None and \\\n",
    "            len(route_section[\"route_alternative_marker_at_exit\"]) > 0:\n",
    "\n",
    "                return \"(\" + str(route_section[\"route_alternative_marker_at_exit\"][0]) + \")\"\n",
    "    else:\n",
    "        if index_in_path == (len(route_path[\"route_sections\"]) - 1): # meaning this node is a very end of a route\n",
    "            return \"(\" + str(route_section[\"sequence_number\"]) + \"_end\" + \")\"\n",
    "        else:\n",
    "            return \"(\" + (str(route_section[\"sequence_number\"]) + \"->\" +\n",
    "                          str(route_path[\"route_sections\"][index_in_path + 1][\"sequence_number\"])) + \")\""
   ]
  },
  {
   "cell_type": "markdown",
   "metadata": {},
   "source": [
    "### Construct graph for every SI, and appropriate edge constraints"
   ]
  },
  {
   "cell_type": "code",
   "execution_count": 5,
   "metadata": {},
   "outputs": [],
   "source": [
    "route_section_keys = ['penalty', 'minimum_running_time']\n",
    "section_requirement_keys = ['start_end','min_stopping_time', 'entry_earliest', 'entry_latest',\n",
    "                           'exit_earliest', 'exit_latest', 'entry_delay_weight',\n",
    "                           'exit_delay_weight']"
   ]
  },
  {
   "cell_type": "code",
   "execution_count": 6,
   "metadata": {
    "scrolled": true
   },
   "outputs": [
    {
     "name": "stdout",
     "output_type": "stream",
     "text": [
      "\n",
      "Constructing route graph for route 111\n",
      "new route\n",
      "Adding Edge from (1_beginning) to (M1) with sequence number 1\n",
      "{'penalty': None, 'minimum_running_time': 'PT53S', 'resource_occupations': {'A1': 'PT30S', 'AB': 'PT30S'}, 'R': 30, 'section_marker': 'A', 'start_end': 'start', 'entry_earliest': '08:20:00', 'entry_delay_weight': 1, 'exit_delay_weight': 1, 'sequence_number': 1}\n",
      "Adding Edge from (M1) to (4->5) with sequence number 4\n",
      "{'penalty': None, 'minimum_running_time': 'PT32S', 'resource_occupations': {'AB': 'PT30S'}, 'R': 30, 'section_marker': None, 'sequence_number': 4}\n",
      "Adding Edge from (4->5) to (M2) with sequence number 5\n",
      "{'penalty': None, 'minimum_running_time': 'PT32S', 'resource_occupations': {'B': 'PT30S'}, 'R': 30, 'section_marker': 'B', 'start_end': None, 'min_stopping_time': 'PT3M', 'exit_earliest': '08:30:00', 'entry_delay_weight': 1, 'exit_delay_weight': 1, 'sequence_number': 5}\n",
      "Adding Edge from (M2) to (M3) with sequence number 6\n",
      "{'penalty': None, 'minimum_running_time': 'PT32S', 'resource_occupations': {'BX_1': 'PT30S'}, 'R': 30, 'section_marker': None, 'sequence_number': 6}\n",
      "Adding Edge from (M3) to (10->13) with sequence number 10\n",
      "{'penalty': None, 'minimum_running_time': 'PT32S', 'resource_occupations': {'XY_1': 'PT30S'}, 'R': 30, 'section_marker': None, 'sequence_number': 10}\n",
      "Adding Edge from (10->13) to (M4) with sequence number 13\n",
      "{'penalty': None, 'minimum_running_time': 'PT32S', 'resource_occupations': {'YC': 'PT30S', 'C1': 'PT30S'}, 'R': 30, 'section_marker': None, 'sequence_number': 13}\n",
      "Adding Edge from (M4) to (14_end) with sequence number 14\n",
      "{'penalty': None, 'minimum_running_time': 'PT32S', 'resource_occupations': {'C1': 'PT30S'}, 'R': 30, 'section_marker': 'C', 'start_end': 'end', 'exit_latest': '08:50:00', 'entry_delay_weight': 1, 'exit_delay_weight': 1, 'sequence_number': 14}\n",
      "new route\n",
      "Adding Edge from (2_beginning) to (M1) with sequence number 2\n",
      "{'penalty': None, 'minimum_running_time': 'PT53S', 'resource_occupations': {'A2': 'PT30S', 'AB': 'PT30S'}, 'R': 30, 'section_marker': 'A', 'start_end': 'start', 'entry_earliest': '08:20:00', 'entry_delay_weight': 1, 'exit_delay_weight': 1, 'sequence_number': 2}\n",
      "new route\n",
      "Adding Edge from (3_beginning) to (M1) with sequence number 3\n",
      "{'penalty': None, 'minimum_running_time': 'PT53S', 'resource_occupations': {'A3': 'PT30S', 'AB': 'PT30S'}, 'R': 30, 'section_marker': 'A', 'start_end': 'start', 'entry_earliest': '08:20:00', 'entry_delay_weight': 1, 'exit_delay_weight': 1, 'sequence_number': 3}\n",
      "new route\n",
      "Adding Edge from (M2) to (7->8) with sequence number 7\n",
      "{'penalty': None, 'minimum_running_time': 'PT32S', 'resource_occupations': {'BX_2': 'PT30S'}, 'R': 30, 'section_marker': None, 'sequence_number': 7}\n",
      "Adding Edge from (7->8) to (8->9) with sequence number 8\n",
      "{'penalty': None, 'minimum_running_time': 'PT32S', 'resource_occupations': {'XC': 'PT30S'}, 'R': 30, 'section_marker': None, 'sequence_number': 8}\n",
      "Adding Edge from (8->9) to (9_end) with sequence number 9\n",
      "{'penalty': None, 'minimum_running_time': 'PT32S', 'resource_occupations': {'C2': 'PT30S'}, 'R': 30, 'section_marker': 'C', 'start_end': 'end', 'exit_latest': '08:50:00', 'entry_delay_weight': 1, 'exit_delay_weight': 1, 'sequence_number': 9}\n",
      "new route\n",
      "Adding Edge from (M3) to (11->12) with sequence number 11\n",
      "{'penalty': None, 'minimum_running_time': 'PT32S', 'resource_occupations': {'XY_2': 'PT30S'}, 'R': 30, 'section_marker': None, 'sequence_number': 11}\n",
      "Adding Edge from (11->12) to (M4) with sequence number 12\n",
      "{'penalty': None, 'minimum_running_time': 'PT32S', 'resource_occupations': {'YC': 'PT30S', 'C1': 'PT30S'}, 'R': 30, 'section_marker': None, 'sequence_number': 12}\n",
      "\n",
      "Constructing route graph for route 113\n",
      "new route\n",
      "Adding Edge from (1_beginning) to (M1) with sequence number 1\n",
      "{'penalty': None, 'minimum_running_time': 'PT53S', 'resource_occupations': {'A1': 'PT30S', 'AB': 'PT30S'}, 'R': 30, 'section_marker': 'A', 'start_end': 'start', 'entry_earliest': '07:50:00', 'entry_delay_weight': 1, 'exit_delay_weight': 1, 'sequence_number': 1}\n",
      "Adding Edge from (M1) to (4->5) with sequence number 4\n",
      "{'penalty': None, 'minimum_running_time': 'PT32S', 'resource_occupations': {'AB': 'PT30S'}, 'R': 30, 'section_marker': None, 'sequence_number': 4}\n",
      "Adding Edge from (4->5) to (M2) with sequence number 5\n",
      "{'penalty': None, 'minimum_running_time': 'PT32S', 'resource_occupations': {'B': 'PT30S'}, 'R': 30, 'section_marker': 'B', 'sequence_number': 5}\n",
      "Adding Edge from (M2) to (M3) with sequence number 6\n",
      "{'penalty': None, 'minimum_running_time': 'PT32S', 'resource_occupations': {'BX_1': 'PT30S'}, 'R': 30, 'section_marker': None, 'sequence_number': 6}\n",
      "Adding Edge from (M3) to (10->13) with sequence number 10\n",
      "{'penalty': None, 'minimum_running_time': 'PT32S', 'resource_occupations': {'XY_1': 'PT30S'}, 'R': 30, 'section_marker': None, 'sequence_number': 10}\n",
      "Adding Edge from (10->13) to (M4) with sequence number 13\n",
      "{'penalty': None, 'minimum_running_time': 'PT32S', 'resource_occupations': {'YC': 'PT30S', 'C1': 'PT30S'}, 'R': 30, 'section_marker': None, 'sequence_number': 13}\n",
      "Adding Edge from (M4) to (14_end) with sequence number 14\n",
      "{'penalty': None, 'minimum_running_time': 'PT32S', 'resource_occupations': {'C1': 'PT30S'}, 'R': 30, 'section_marker': 'C', 'start_end': 'end', 'exit_latest': '08:16:00', 'entry_delay_weight': 1, 'exit_delay_weight': 1, 'sequence_number': 14}\n",
      "new route\n",
      "Adding Edge from (2_beginning) to (M1) with sequence number 2\n",
      "{'penalty': None, 'minimum_running_time': 'PT53S', 'resource_occupations': {'A2': 'PT30S', 'AB': 'PT30S'}, 'R': 30, 'section_marker': 'A', 'start_end': 'start', 'entry_earliest': '07:50:00', 'entry_delay_weight': 1, 'exit_delay_weight': 1, 'sequence_number': 2}\n",
      "new route\n",
      "Adding Edge from (3_beginning) to (M1) with sequence number 3\n",
      "{'penalty': None, 'minimum_running_time': 'PT53S', 'resource_occupations': {'A3': 'PT30S', 'AB': 'PT30S'}, 'R': 30, 'section_marker': 'A', 'start_end': 'start', 'entry_earliest': '07:50:00', 'entry_delay_weight': 1, 'exit_delay_weight': 1, 'sequence_number': 3}\n",
      "new route\n",
      "Adding Edge from (M2) to (7->8) with sequence number 7\n",
      "{'penalty': None, 'minimum_running_time': 'PT32S', 'resource_occupations': {'BX_2': 'PT30S'}, 'R': 30, 'section_marker': None, 'sequence_number': 7}\n",
      "Adding Edge from (7->8) to (8->9) with sequence number 8\n",
      "{'penalty': None, 'minimum_running_time': 'PT32S', 'resource_occupations': {'XC': 'PT30S'}, 'R': 30, 'section_marker': None, 'sequence_number': 8}\n",
      "Adding Edge from (8->9) to (9_end) with sequence number 9\n",
      "{'penalty': None, 'minimum_running_time': 'PT32S', 'resource_occupations': {'C2': 'PT30S'}, 'R': 30, 'section_marker': 'C', 'start_end': 'end', 'exit_latest': '08:16:00', 'entry_delay_weight': 1, 'exit_delay_weight': 1, 'sequence_number': 9}\n",
      "new route\n",
      "Adding Edge from (M3) to (11->12) with sequence number 11\n",
      "{'penalty': None, 'minimum_running_time': 'PT32S', 'resource_occupations': {'XY_2': 'PT30S'}, 'R': 30, 'section_marker': None, 'sequence_number': 11}\n",
      "Adding Edge from (11->12) to (M4) with sequence number 12\n",
      "{'penalty': None, 'minimum_running_time': 'PT32S', 'resource_occupations': {'YC': 'PT30S', 'C1': 'PT30S'}, 'R': 30, 'section_marker': None, 'sequence_number': 12}\n",
      "Finished building fahrweg-graphen in 0.007949590682983398 seconds\n"
     ]
    }
   ],
   "source": [
    "start_time = time.time()\n",
    "\n",
    "# now build the graph. Nodes are called \"previous_FAB -> next_FAB\" within lineare abschnittsfolgen and \"AK\" if\n",
    "# there is an Abschnittskennzeichen 'AK' on it\n",
    "route_graphs = dict()\n",
    "for route in scenario[\"routes\"]:# iterates over si?\n",
    "    \n",
    "    print(f\"\\nConstructing route graph for route {route['id']}\")\n",
    "    # set global graph settings\n",
    "    G = nx.DiGraph(route_id = route[\"id\"], name=\"Route-Graph for route \"+str(route[\"id\"]))\n",
    "\n",
    "    # add edges with data contained in the preprocessed graph\n",
    "    for path in route[\"route_paths\"]:#iterate over admissible routes\n",
    "        print('new route')\n",
    "        for (i, route_section) in enumerate(path[\"route_sections\"]):\n",
    "            sn = route_section['sequence_number']\n",
    "            print(\"Adding Edge from {} to {} with sequence number {}\".format(from_node_id(path, route_section, i), to_node_id(path, route_section, i), sn))\n",
    "            edge_data = {}\n",
    "            for key in route_section_keys:\n",
    "                if key in route_section:\n",
    "                    edge_data[key] = route_section[key]\n",
    "                else:\n",
    "                    edge_data[key] = None\n",
    "                \n",
    "            if 'resource_occupations' in route_section:\n",
    "                resource_occupations = {}\n",
    "                for resource in route_section['resource_occupations']:\n",
    "                    idx = resource['resource']\n",
    "                    R = resources[idx]\n",
    "                    resource_occupations[idx] = R\n",
    "                    #maximum? code below\n",
    "                    R=[isodate.parse_duration(value).seconds for key,value in resource_occupations.items()]\n",
    "            edge_data['resource_occupations'] = resource_occupations\n",
    "            edge_data['R'] = max(R)\n",
    "            \n",
    "            #get section marker\n",
    "            section_marker = None\n",
    "            if 'section_marker' in route_section:\n",
    "                try:\n",
    "                    section_marker = route_section['section_marker'][0]\n",
    "                except:\n",
    "                    pass\n",
    "            edge_data['section_marker'] = section_marker\n",
    "            \n",
    "            \n",
    "            \n",
    "            if section_marker in service_intentions[route['id']]:\n",
    "                for key in section_requirement_keys:\n",
    "                    if key in service_intentions[route['id']][section_marker]:\n",
    "                            edge_data[key] = service_intentions[route['id']][section_marker][key]\n",
    "        \n",
    "            edge_data['sequence_number'] = sn\n",
    "            \n",
    "            print(edge_data)\n",
    "            G.add_edge(from_node_id(path, route_section, i),\n",
    "                       to_node_id(path, route_section, i),\n",
    "                       edge_data = edge_data)\n",
    "\n",
    "    route_graphs[route[\"id\"]] = G\n",
    "\n",
    "print(\"Finished building fahrweg-graphen in {} seconds\".format(str(time.time() - start_time)))"
   ]
  },
  {
   "cell_type": "code",
   "execution_count": 7,
   "metadata": {},
   "outputs": [],
   "source": [
    "Lats = {}\n",
    "for si in route_graphs:\n",
    "    Latins = {}\n",
    "    Latouts = {}\n",
    "    for e in route_graphs[si].edges(data=True):\n",
    "        if 'entry_latest' in e[2]['edge_data']:\n",
    "            Latins[f'{e[0]},{e[1]}'] = e[2]['edge_data']['entry_latest']\n",
    "        if 'exit_latest' in e[2]['edge_data']:\n",
    "            Latouts[f'{e[0]},{e[1]}'] = e[2]['edge_data']['exit_latest']\n",
    "        Lats[si] = {'LatIn': None, 'LatOut':None}\n",
    "        Lats[si]['LatIn'] = Latins\n",
    "        Lats[si]['LatOut'] = Latouts"
   ]
  },
  {
   "cell_type": "code",
   "execution_count": 8,
   "metadata": {},
   "outputs": [
    {
     "data": {
      "text/plain": [
       "{111: {'LatIn': {},\n",
       "  'LatOut': {'(M4),(14_end)': '08:50:00', '(8->9),(9_end)': '08:50:00'}},\n",
       " 113: {'LatIn': {},\n",
       "  'LatOut': {'(M4),(14_end)': '08:16:00', '(8->9),(9_end)': '08:16:00'}}}"
      ]
     },
     "execution_count": 8,
     "metadata": {},
     "output_type": "execute_result"
    }
   ],
   "source": [
    "Lats"
   ]
  },
  {
   "cell_type": "markdown",
   "metadata": {},
   "source": [
    "### Draw Graphs"
   ]
  },
  {
   "cell_type": "markdown",
   "metadata": {
    "scrolled": true
   },
   "source": [
    "for route in route_graphs:\n",
    "    route_graph = route_graphs[route]\n",
    "\n",
    "    \"\"\"\n",
    "    for node in route_graph.nodes():\n",
    "        route_graph.node[node]['label'] = node\n",
    "\n",
    "    edge_labels = {}\n",
    "    for node1, node2, data in route_graph.edges(data=True):\n",
    "        edge_labels[(node1, node2)] = data['sequence_number'] \n",
    "\n",
    "    for edge in route_graph.edges():\n",
    "        route_graph.edges[edge]['label'] = edge_labels[edge]\n",
    "\n",
    "    # export as graphML file, see below\n",
    "    nx.write_graphml(route_graph, \"graph-111\"+\".graphml\")\n",
    "    \"\"\"\n",
    "    edge_labels = {}\n",
    "    for node1, node2, data in route_graph.edges(data=True):\n",
    "\n",
    "        edge_labels[(node1, node2)] = data['edge_data']['sequence_number']\n",
    "\n",
    "    # draw directly from networkx\n",
    "    pos = nx.spring_layout(route_graph)\n",
    "    nx.draw(route_graph, pos, edge_color='black', width=1, linewidths=1, node_size=500, node_color='pink', alpha=0.9)\n",
    "    nx.draw_networkx_edge_labels(route_graph,pos,edge_labels=edge_labels,font_color='red')\n",
    "    plt.show()"
   ]
  },
  {
   "cell_type": "markdown",
   "metadata": {},
   "source": [
    "### Find all admissible routes"
   ]
  },
  {
   "cell_type": "code",
   "execution_count": 9,
   "metadata": {},
   "outputs": [],
   "source": [
    "paths = {}\n",
    "for si in service_intentions:\n",
    "    startnodes=[]\n",
    "    endnodes = []\n",
    "    G = route_graphs[si]\n",
    "    for edge in G.edges(data=True):\n",
    "        if 'start_end' in edge[2]['edge_data']:\n",
    "            if edge[2]['edge_data']['start_end'] == 'start':\n",
    "                startnodes.append(edge[0])\n",
    "            if edge[2]['edge_data']['start_end'] == 'end':\n",
    "                endnodes.append(edge[1])\n",
    "    paths_si = []\n",
    "    for s in startnodes:\n",
    "        for e in endnodes:\n",
    "            for path in nx.all_simple_paths(G, source=s, target=e):\n",
    "                paths_si.append([(path[i], path[i+1]) for i in range(len(path)-1)])\n",
    "    paths[si] = paths_si"
   ]
  },
  {
   "cell_type": "code",
   "execution_count": 10,
   "metadata": {},
   "outputs": [],
   "source": [
    "si_list = []\n",
    "t_index_by_edge = {}\n",
    "delta_index_by_edge = {}\n",
    "edges_by_path = {}\n",
    "get_index_by_delta = {}\n",
    "j=0\n",
    "k=0\n",
    "for si in paths:\n",
    "    pathlist = []\n",
    "    ttemp = {}\n",
    "    dtemp = {}\n",
    "    for i,path in enumerate(paths[si]):\n",
    "        srlist = []\n",
    "        etemp = {}\n",
    "        for sr in path:\n",
    "            srlist.append((si,i,sr))\n",
    "            if sr in ttemp:\n",
    "                ttemp[sr].append(j)\n",
    "            else:\n",
    "                ttemp[sr] = [j]\n",
    "            \n",
    "            \n",
    "            if sr in dtemp:\n",
    "                dtemp[sr].append(k)\n",
    "            else:\n",
    "                dtemp[sr] = [k]\n",
    "            \n",
    "            etemp[sr] = j\n",
    "            if k in get_index_by_delta:\n",
    "                get_index_by_delta[k].append(j)\n",
    "            else:\n",
    "                get_index_by_delta[k] = [j]\n",
    "            j+=1\n",
    "        edges_by_path[k] = etemp\n",
    "            \n",
    "        k+=1\n",
    "        pathlist.append(srlist)\n",
    "    t_index_by_edge[si] = ttemp\n",
    "    delta_index_by_edge[si] = dtemp\n",
    "    si_list.append(pathlist)"
   ]
  },
  {
   "cell_type": "code",
   "execution_count": 11,
   "metadata": {},
   "outputs": [],
   "source": [
    "xindex = {}\n",
    "enum = 0\n",
    "for si in service_intentions:\n",
    "    xindexsi = {}\n",
    "    for i,e in enumerate(route_graphs[si].edges):\n",
    "        xindexsi[e] = i+enum\n",
    "    enum+=i+1\n",
    "    xindex[si] = xindexsi"
   ]
  },
  {
   "cell_type": "code",
   "execution_count": 12,
   "metadata": {},
   "outputs": [],
   "source": [
    "import itertools\n",
    "betaindex = []\n",
    "for (si1, si2) in list(itertools.combinations([key for key in service_intentions],2)):\n",
    "    intsc = list(set.intersection(set(route_graphs[si1].edges), set(route_graphs[si2].edges)))\n",
    "    for e in intsc:\n",
    "        betaindex.append((si1, si2, e))"
   ]
  },
  {
   "cell_type": "code",
   "execution_count": 13,
   "metadata": {},
   "outputs": [],
   "source": [
    "def recursive_len(item):\n",
    "    if type(item) == list:\n",
    "        return sum(recursive_len(subitem) for subitem in item)\n",
    "    else:\n",
    "        return 1"
   ]
  },
  {
   "cell_type": "code",
   "execution_count": 14,
   "metadata": {},
   "outputs": [
    {
     "data": {
      "text/plain": [
       "300"
      ]
     },
     "execution_count": 14,
     "metadata": {},
     "output_type": "execute_result"
    }
   ],
   "source": [
    "t_len = recursive_len(si_list)\n",
    "x_len = 0\n",
    "delta_len = 0\n",
    "for si in service_intentions:\n",
    "    x_len += len(route_graphs[si].edges)\n",
    "    delta_len += len(paths[si])\n",
    "beta_len = len(betaindex)\n",
    "total_length = t_len*2 + x_len + delta_len + beta_len\n",
    "total_length"
   ]
  },
  {
   "cell_type": "code",
   "execution_count": 15,
   "metadata": {},
   "outputs": [
    {
     "data": {
      "text/plain": [
       "{111: {'t': 60, 'x': 14, 'delta': 9, 'slack': 9},\n",
       " 113: {'t': 60, 'x': 14, 'delta': 9, 'slack': 9}}"
      ]
     },
     "execution_count": 15,
     "metadata": {},
     "output_type": "execute_result"
    }
   ],
   "source": [
    "TL={}\n",
    "i = 0\n",
    "for si, si_id in zip(si_list, service_intentions):\n",
    "    temp = {} \n",
    "    temp['t'] = recursive_len(si)\n",
    "    temp['x'] = len(route_graphs[si_id].edges)\n",
    "    temp['delta'] = len(paths[si_id])\n",
    "    slacknum = 0\n",
    "    for r in si:\n",
    "        for rs in r:\n",
    "            edge_data = route_graphs[si_id].edges[rs[2]]['edge_data']\n",
    "            if 'entry_delay_weight' in edge_data and 'entry_latest' in edge_data:\n",
    "                slacknum+=1\n",
    "            if 'exit_delay_weight' in edge_data and 'exit_latest' in edge_data:\n",
    "                slacknum+=1\n",
    "            i+=1\n",
    "    temp['slack'] = slacknum\n",
    "    TL[si_id] = temp\n",
    "slack_len = sum([TL[si]['slack'] for si in service_intentions])\n",
    "total_length+=slack_len\n",
    "TL"
   ]
  },
  {
   "cell_type": "markdown",
   "metadata": {},
   "source": [
    "### Variables\n",
    "\n",
    "|t_in| = sum of the length of all service intentions, total number of paths per si and route sections per path  \n",
    "|t_out| same as t_in  \n",
    "\n",
    "|x| all service intentions and their route sections\n",
    "\n",
    "|delta| all service intentions and their paths\n",
    "\n",
    "$v = [t_{in}, t_{out} , x, \\delta]$"
   ]
  },
  {
   "cell_type": "markdown",
   "metadata": {},
   "source": [
    "#### Minimize objective function"
   ]
  },
  {
   "cell_type": "markdown",
   "metadata": {},
   "source": [
    "$J(x)=\\{ \\frac{1}{60} \\sum_{SI, R, RS} win_{rs}max(0, \n",
    "t_{si,r,rs}^{in} - LatIn_{si,rs}) + wout_{rs} max(0, t_{si,r,rs}^{out} - LatOut_{si,rs}) + p_{si,rs}x_{si,rs} \\}$  \n",
    "\n"
   ]
  },
  {
   "cell_type": "markdown",
   "metadata": {},
   "source": [
    "#### Subject to"
   ]
  },
  {
   "cell_type": "markdown",
   "metadata": {},
   "source": [
    "time into a section comes before time out: \n",
    "\n",
    "\n",
    "(1)  $t_{si,r,rs}^{in} \\leq t_{si,r,rs}^{out}$  \n",
    "\n",
    "time into next section comes after time out from previous section:  \n",
    "(2)  $t_{si,r,rs}^{out} = t_{si,r,rs+1}^{in}$\n",
    "\n",
    "if r is the selected path, satisfy minimum running and stopping time:  \n",
    "(3)  $t_{si,r,rs}^{out} - t_{si,r,rs}^{in} \\geq mrt_{si, r, rs} + mst_{si, r, rs} - M(1-\\delta_{si,r})$\n",
    "\n",
    "Earliest in constraint:  \n",
    "(4)  $t_{si,r,rs}^{in} \\geq EarIn_{si,r,rs} - M(1-\\delta_{si,r})$  \n",
    "\n",
    "Earliest out constraint:  \n",
    "(5)  $t_{si,r,rs}^{out} \\geq EarOut_{si,r,rs} - M(1-\\delta_{si,r})$\n",
    "\n",
    "Select only one path to every service:  \n",
    "(6)  $\\sum_{r \\in P} \\delta_{si,r} = 1$  \n",
    "\n",
    "All route sections on the chosen track are occupied  \n",
    "(7)  $x_{si, re} \\geq \\delta_{si, r}$  \n",
    "\n",
    "(8) $t_{si_1,r_1,re}^{in} - t_{si_2,r_2,re}^{in} \\leq M(1-\\beta_{si_1,si_2,re}) + M(2- \\delta_{si_1,r_1} - \\delta_{si_2,r_2})$  \n",
    "\n",
    "(9) $t_{si_2,r_2,re}^{in} - t_{si_1,r_1,re}^{in} + \\epsilon \\leq M\\beta_{si_1,si_2,re} + M(2- \\delta_{si_1,r_1} - \\delta_{si_2,r_2})$\n",
    "\n",
    "(10) $t_{si_1,r_1,re}^{out} - t_{si_2,r_2,re}^{in} + R \\leq M(1-\\beta_{si_1,si_2,re}) + M(2- \\delta_{si_1,r_1} - \\delta_{si_2,r_2})$\n",
    "\n",
    "(11) $t_{si_2,r_2,re}^{out} - t_{si_1,r_1,re}^{in} + R \\leq M\\beta_{si_1,si_2,re} + M(2- \\delta_{si_1,r_1} - \\delta_{si_2,r_2})$"
   ]
  },
  {
   "cell_type": "markdown",
   "metadata": {},
   "source": [
    "LatIn = entry_latest  \n",
    "EarOut = exit_earliest  \n",
    "EarIn = entry_earliest  \n",
    "LatOut = exit_latest"
   ]
  },
  {
   "cell_type": "code",
   "execution_count": 16,
   "metadata": {},
   "outputs": [],
   "source": [
    "from time import strftime\n",
    "from time import gmtime\n",
    "\n",
    "def str_to_sec(s):\n",
    "    s=s.split(':')\n",
    "    return int(s[0])*60*60+int(s[1])*60+int(s[2])\n",
    "def sec_to_str(x):\n",
    "    return strftime(\"%H:%M:%S\", gmtime(x))"
   ]
  },
  {
   "cell_type": "markdown",
   "metadata": {},
   "source": [
    "## Modelling approach"
   ]
  },
  {
   "cell_type": "markdown",
   "metadata": {},
   "source": [
    "### Constraints"
   ]
  },
  {
   "cell_type": "code",
   "execution_count": 17,
   "metadata": {},
   "outputs": [],
   "source": [
    "Mmrtmst = [1]\n",
    "MEarOut = [1]\n",
    "MEarIn = [1]\n",
    "for si in route_graphs:\n",
    "    for e in route_graphs[si].edges(data=True):\n",
    "        edge_data = e[2]['edge_data']\n",
    "        if ('exit_earliest' in edge_data):\n",
    "            EarOut = str_to_sec(edge_data['exit_earliest'])\n",
    "            MEarOut.append(EarOut)\n",
    "        if ('entry_earliest' in edge_data):\n",
    "            EarIn = str_to_sec(edge_data['entry_earliest'])\n",
    "            MEarIn.append(EarIn)\n",
    "        if ('min_stopping_time' in edge_data) or ('minimum_running_time' in edge_data):\n",
    "            mst = 0\n",
    "            mrt = 0\n",
    "            if 'min_stopping_time' in edge_data:\n",
    "                mst = isodate.parse_duration(edge_data['min_stopping_time']).seconds\n",
    "            if 'minimum_running_time' in edge_data:\n",
    "                mrt = isodate.parse_duration(edge_data['minimum_running_time']).seconds\n",
    "            Mmrtmst.append(mrt+mst)"
   ]
  },
  {
   "cell_type": "code",
   "execution_count": 99,
   "metadata": {},
   "outputs": [],
   "source": [
    "A = np.array([None]*total_length)\n",
    "b = np.array([None])\n",
    "c = np.zeros(total_length)\n",
    "testv = [None]*total_length\n",
    "\n",
    "\n",
    "currlen = 0\n",
    "bool_idx = []\n",
    "for si, si_id in zip(si_list, service_intentions):\n",
    "    tempsum = 0\n",
    "    j=0\n",
    "    sumtemp = np.zeros(total_length)\n",
    "    i =0\n",
    "    s=0\n",
    "    for r, path in zip(si, paths[si_id]):\n",
    "        for enum, rs in enumerate(r):\n",
    "            edge_data = route_graphs[si_id].edges[rs[2]]['edge_data']\n",
    "            #slack\n",
    "            tin_idx = currlen + i + TL[si_id]['slack'] \n",
    "            tout_idx = currlen + i + TL[si_id]['slack'] + TL[si_id]['t']\n",
    "            delta_idx = currlen + j + TL[si_id]['slack'] + 2*TL[si_id]['t']\n",
    "            ad_x = 0\n",
    "            for t in TL:\n",
    "                if t==si_id:\n",
    "                    break\n",
    "                ad_x += TL[si_id]['x']\n",
    "            x_idx = currlen + xindex[si_id][rs[2]] + TL[si_id]['slack'] + 2*TL[si_id]['t'] + TL[si_id]['delta'] -ad_x\n",
    "            \n",
    "            bool_idx.append(delta_idx)\n",
    "            bool_idx.append(x_idx)\n",
    "            \n",
    "            if 'entry_delay_weight' in edge_data and 'entry_latest' in edge_data:\n",
    "                temp = np.zeros(total_length)\n",
    "                temp[currlen + s] = -1\n",
    "                temp[tin_idx] = float(edge_data['entry_delay_weight'])\n",
    "                tempb = np.array([float(edge_data['entry_delay_weight'])*str_to_sec(edge_data['entry_latest'])])\n",
    "                b = np.vstack((b,tempb))\n",
    "                A = np.vstack((A,temp))\n",
    "                \n",
    "                temp = np.zeros(total_length)\n",
    "                temp[currlen + s] = -1\n",
    "                tempb = np.array([0])\n",
    "                b = np.vstack((b,tempb))\n",
    "                A = np.vstack((A,temp))\n",
    "                \n",
    "                c[currlen + s] = 1\n",
    "            \n",
    "                testv[currlen + s] = f'slack_{s}_{si_id}'\n",
    "                s+=1\n",
    "                \n",
    "            if 'exit_delay_weight' in edge_data and 'exit_latest' in edge_data:\n",
    "                temp = np.zeros(total_length)\n",
    "                temp[currlen + s] = -1\n",
    "                temp[tout_idx] = float(edge_data['exit_delay_weight'])\n",
    "                tempb = np.array([float(edge_data['exit_delay_weight'])*str_to_sec(edge_data['exit_latest'])])\n",
    "                b = np.vstack((b,tempb))\n",
    "                A = np.vstack((A,temp))\n",
    "                \n",
    "                temp = np.zeros(total_length)\n",
    "                temp[currlen + s] = -1\n",
    "                tempb = np.array([0])\n",
    "                b = np.vstack((b,tempb))\n",
    "                A = np.vstack((A,temp))\n",
    "                \n",
    "                c[currlen + s] = 1\n",
    "                \n",
    "                testv[currlen + s] = f'slack_{s}_{si_id}'\n",
    "                s+=1\n",
    "\n",
    "            \n",
    "            temp = np.zeros(total_length)\n",
    "            temp[tin_idx] = -1\n",
    "            tempb = np.array([0])\n",
    "            b = np.vstack((b,tempb))\n",
    "            A = np.vstack((A,temp))\n",
    "            testv[tin_idx] = f'tin_{i}_{si_id}'\n",
    "            \n",
    "            temp = np.zeros(total_length)\n",
    "            temp[tout_idx] = -1\n",
    "            tempb = np.array([0])\n",
    "            b = np.vstack((b,tempb))\n",
    "            A = np.vstack((A,temp))\n",
    "            testv[tout_idx] = f'tout_{i}_{si_id}'\n",
    "            \n",
    "            #(1)\n",
    "            temp = np.zeros(total_length)\n",
    "            temp[tin_idx] = 1\n",
    "            temp[tout_idx] = -1\n",
    "            tempb = np.array([0])\n",
    "            b = np.vstack((b,tempb))\n",
    "            A = np.vstack((A,temp))\n",
    "            # (2)\n",
    "            if enum!=len(r)-1:\n",
    "                temp = np.zeros(total_length)\n",
    "                temp[tin_idx+1] = 1\n",
    "                temp[tout_idx]=-1\n",
    "                tempb = np.array([0])\n",
    "                b = np.vstack((b,tempb))\n",
    "                A = np.vstack((A,temp))\n",
    "                temp = -1*temp.copy()\n",
    "                A = np.vstack((A,temp))\n",
    "                b = np.vstack((b,tempb))\n",
    "\n",
    "            #(3)\n",
    "            M=max(Mmrtmst)\n",
    "            if ('min_stopping_time' in edge_data) or ('minimum_running_time' in edge_data):\n",
    "                mst = 0\n",
    "                mrt = 0\n",
    "                if 'min_stopping_time' in edge_data:\n",
    "                    mst = isodate.parse_duration(edge_data['min_stopping_time']).seconds\n",
    "                if 'minimum_running_time' in edge_data:\n",
    "                    mrt = isodate.parse_duration(edge_data['minimum_running_time']).seconds\n",
    "\n",
    "                temp = np.zeros(total_length)\n",
    "                temp[tin_idx] = 1\n",
    "                temp[tout_idx] = -1\n",
    "                temp[delta_idx] = M\n",
    "                tempb = np.array([M-mrt-mst])\n",
    "                b = np.vstack((b,tempb))\n",
    "                A = np.vstack((A,temp))\n",
    "\n",
    "            # (4)\n",
    "            M=max(MEarIn)\n",
    "            if ('entry_earliest' in edge_data):\n",
    "                EarIn = str_to_sec(edge_data['entry_earliest'])\n",
    "                \n",
    "                temp = np.zeros(total_length)\n",
    "                temp[tin_idx] = -1\n",
    "                temp[delta_idx] = M\n",
    "                tempb = np.array([M-EarIn])\n",
    "                b = np.vstack((b,tempb))\n",
    "                A = np.vstack((A,temp))\n",
    "\n",
    "            #(5)\n",
    "            M=max(MEarOut)    \n",
    "            if ('exit_earliest' in edge_data):\n",
    "                EarOut = str_to_sec(edge_data['exit_earliest'])\n",
    "                \n",
    "                temp = np.zeros(total_length)\n",
    "                temp[tout_idx] = -1\n",
    "                temp[delta_idx] = M\n",
    "                tempb = np.array([M-EarOut])\n",
    "                b = np.vstack((b,tempb))\n",
    "                A = np.vstack((A,temp))\n",
    "\n",
    "            # (7)\n",
    "            temp = np.zeros(total_length)\n",
    "            temp[delta_idx] = 1\n",
    "            temp[x_idx] = -1\n",
    "            tempb = np.array([0])\n",
    "            b = np.vstack((b,tempb))\n",
    "            A = np.vstack((A,temp))\n",
    "            \n",
    "            testv[x_idx] = f'x_{xindex[si_id][rs[2]]}_{si_id}'\n",
    "            testv[delta_idx] = f'delta_{j}_{si_id}'\n",
    "            i+=1\n",
    "        # (6)\n",
    "        sumtemp[delta_idx] = 1\n",
    "        j+=1\n",
    "    tempb = np.array([1])\n",
    "    b = np.vstack((b,tempb))\n",
    "    A = np.vstack((A,sumtemp))\n",
    "    sumtemp = -1*sumtemp.copy()\n",
    "    tempb = -1*tempb.copy()\n",
    "    b = np.vstack((b,tempb))\n",
    "    A = np.vstack((A,sumtemp))\n",
    "    currlen += TL[si_id]['slack'] + 2*TL[si_id]['t'] + TL[si_id]['delta'] + TL[si_id]['x']\n",
    "\n",
    "\n",
    "\n",
    "\n",
    "A_coup = np.array([None]*total_length)\n",
    "b_coup = np.array([None])\n",
    "\n",
    "i = 0\n",
    "eps = 0\n",
    "M = 100000\n",
    "R=0\n",
    "LenSI = total_length - beta_len\n",
    "for (si1, si2, e) in betaindex:\n",
    "    deltaidx1 = delta_index_by_edge[si1][e]\n",
    "    deltaidx2 = delta_index_by_edge[si2][e]\n",
    "    \n",
    "    \n",
    "    prevsi = []\n",
    "    for siprevel in [si for si in service_intentions]:\n",
    "        if siprevel==si1:\n",
    "            break\n",
    "        prevsi.append(siprevel)\n",
    "    adjuster1 = sum([TL[siprevel]['slack'] + 2*TL[siprevel]['t']+TL[siprevel]['delta']+TL[siprevel]['x'] for siprevel in prevsi])\n",
    "    \n",
    "    prevsi = []\n",
    "    for siprevel in [si for si in service_intentions]:\n",
    "        if siprevel==si2:\n",
    "            break\n",
    "        prevsi.append(siprevel)\n",
    "    adjuster2 = sum([TL[siprevel]['slack'] + 2*TL[siprevel]['t']+TL[siprevel]['delta']+TL[siprevel]['x'] for siprevel in prevsi])\n",
    "    \n",
    "    \n",
    "    for idx1 in deltaidx1:\n",
    "        for idx2 in deltaidx2:\n",
    "            tin1_idx = edges_by_path[idx1][e] - adjuster1 + TL[si_id]['slack']\n",
    "            tin2_idx = edges_by_path[idx2][e] - adjuster2 + TL[si_id]['slack']\n",
    "            tout1_idx = edges_by_path[idx1][e] - adjuster1 + TL[si_id]['slack'] + TL[si_id]['t']\n",
    "            tout2_idx = edges_by_path[idx2][e] - adjuster2 + TL[si_id]['slack'] + TL[si_id]['t']\n",
    "            delta1_idx = idx1+TL[si_id]['slack']+2*TL[si1]['t'] - adjuster1\n",
    "            delta2_idx = idx2+TL[si_id]['slack']+2*TL[si1]['t'] - adjuster2\n",
    "            \n",
    "            temp = np.zeros(total_length)\n",
    "            temp[tin1_idx] = 1\n",
    "            temp[tin2_idx] = -1\n",
    "            temp[delta1_idx] = M\n",
    "            temp[delta2_idx] = M\n",
    "            temp[LenSI+i] = M\n",
    "            tempb = np.array([3*M])\n",
    "            b_coup = np.vstack((b,tempb))\n",
    "            A_coup = np.vstack((A,temp))\n",
    "            \n",
    "            \n",
    "            temp = np.zeros(total_length)\n",
    "            temp[tin1_idx] = -1\n",
    "            temp[tin2_idx] = 1\n",
    "            temp[delta1_idx] = M\n",
    "            temp[delta2_idx] = M\n",
    "            temp[LenSI+i] = -M\n",
    "            tempb = np.array([2*M-eps])\n",
    "            b_coup = np.vstack((b,tempb))\n",
    "            A_coup = np.vstack((A,temp))\n",
    "            \n",
    "            \n",
    "            temp = np.zeros(total_length)\n",
    "            temp[tin2_idx] = -1\n",
    "            temp[tout1_idx] = 1\n",
    "            temp[delta1_idx] = M\n",
    "            temp[delta2_idx] = M\n",
    "            temp[LenSI+i] = M\n",
    "            tempb = np.array([3*M-R])\n",
    "            b_coup = np.vstack((b,tempb))\n",
    "            A_coup = np.vstack((A,temp))\n",
    "            \n",
    "            \n",
    "            temp = np.zeros(total_length)\n",
    "            temp[tin1_idx] = -1\n",
    "            temp[tout2_idx] = 1\n",
    "            temp[delta1_idx] = M\n",
    "            temp[delta2_idx] = M\n",
    "            temp[LenSI+i] = -M\n",
    "            tempb = np.array([2*M-R])\n",
    "            b_coup = np.vstack((b,tempb))\n",
    "            A_coup = np.vstack((A,temp))\n",
    "    testv[LenSI+i] = f'beta_{i}'       \n",
    "    bool_idx.append(LenSI+i)\n",
    "    i+=1\n",
    "\n",
    "bool_idx =list(set(bool_idx))\n",
    "A=A[1:]\n",
    "b=b[1:].flatten()\n",
    "\n",
    "A_coup=A_coup[1:]\n",
    "b_coup=b_coup[1:].flatten()"
   ]
  },
  {
   "cell_type": "markdown",
   "metadata": {},
   "source": [
    "### Objective function"
   ]
  },
  {
   "cell_type": "code",
   "execution_count": null,
   "metadata": {},
   "outputs": [],
   "source": []
  },
  {
   "cell_type": "markdown",
   "metadata": {},
   "source": [
    "### Solver"
   ]
  },
  {
   "cell_type": "code",
   "execution_count": 100,
   "metadata": {},
   "outputs": [
    {
     "name": "stdout",
     "output_type": "stream",
     "text": [
      "===============================================================================\n",
      "                                     CVXPY                                     \n",
      "                                    v1.1.14                                    \n",
      "===============================================================================\n",
      "(CVXPY) Aug 21 04:24:02 PM: Your problem has 318 variables, 1 constraints, and 0 parameters.\n",
      "(CVXPY) Aug 21 04:24:02 PM: It is compliant with the following grammars: DCP, DQCP\n",
      "(CVXPY) Aug 21 04:24:02 PM: (If you need to solve this problem multiple times, but with different data, consider using parameters.)\n",
      "(CVXPY) Aug 21 04:24:02 PM: CVXPY will first compile your problem; then, it will invoke a numerical solver to obtain a solution.\n",
      "-------------------------------------------------------------------------------\n",
      "                                  Compilation                                  \n",
      "-------------------------------------------------------------------------------\n",
      "(CVXPY) Aug 21 04:24:02 PM: Compiling problem (target solver=MOSEK).\n",
      "(CVXPY) Aug 21 04:24:02 PM: Reduction chain: Dcp2Cone -> CvxAttr2Constr -> ConeMatrixStuffing -> MOSEK\n",
      "(CVXPY) Aug 21 04:24:02 PM: Applying reduction Dcp2Cone\n",
      "(CVXPY) Aug 21 04:24:02 PM: Applying reduction CvxAttr2Constr\n",
      "(CVXPY) Aug 21 04:24:02 PM: Applying reduction ConeMatrixStuffing\n",
      "(CVXPY) Aug 21 04:24:02 PM: Applying reduction MOSEK\n",
      "(CVXPY) Aug 21 04:24:02 PM: Finished problem compilation (took 2.144e-02 seconds).\n",
      "-------------------------------------------------------------------------------\n",
      "                                Numerical solver                               \n",
      "-------------------------------------------------------------------------------\n",
      "(CVXPY) Aug 21 04:24:02 PM: Invoking solver MOSEK  to obtain a solution.\n",
      "\n",
      "\n",
      "Problem\n",
      "  Name                   :                 \n",
      "  Objective sense        : min             \n",
      "  Type                   : LO (linear optimization problem)\n",
      "  Constraints            : 1743            \n",
      "  Cones                  : 0               \n",
      "  Scalar variables       : 318             \n",
      "  Matrix variables       : 0               \n",
      "  Integer variables      : 60              \n",
      "\n",
      "Optimizer started.\n",
      "Mixed integer optimizer started.\n",
      "Threads used: 4\n",
      "Presolve started.\n",
      "Presolve terminated. Time = 0.01\n",
      "Presolved problem: 0 variables, 0 constraints, 0 non-zeros\n",
      "Presolved problem: 0 general integer, 0 binary, 0 continuous\n",
      "Clique table size: 0\n",
      "BRANCHES RELAXS   ACT_NDS  DEPTH    BEST_INT_OBJ         BEST_RELAX_OBJ       REL_GAP(%)  TIME  \n",
      "0        0        1        0        0.0000000000e+00     NA                   NA          0.0   \n",
      "0        1        1        0        0.0000000000e+00     0.0000000000e+00     0.00e+00    0.0   \n",
      "An optimal solution satisfying the relative gap tolerance of 1.00e-02(%) has been located.\n",
      "The relative gap is 0.00e+00(%).\n",
      "An optimal solution satisfying the absolute gap tolerance of 0.00e+00 has been located.\n",
      "The absolute gap is 0.00e+00.\n",
      "\n",
      "Objective of best integer solution : 0.000000000000e+00      \n",
      "Best objective bound               : 0.000000000000e+00      \n",
      "Construct solution objective       : Not employed\n",
      "User objective cut value           : Not employed\n",
      "Number of cuts generated           : 0\n",
      "Number of branches                 : 0\n",
      "Number of relaxations solved       : 1\n",
      "Number of interior point iterations: 0\n",
      "Number of simplex iterations       : 0\n",
      "Time spend presolving the root     : 0.01\n",
      "Time spend optimizing the root     : 0.00\n",
      "Mixed integer optimizer terminated. Time: 0.03\n",
      "\n",
      "Optimizer terminated. Time: 0.05    \n",
      "\n",
      "\n",
      "Integer solution solution summary\n",
      "  Problem status  : PRIMAL_FEASIBLE\n",
      "  Solution status : INTEGER_OPTIMAL\n",
      "  Primal.  obj: 0.0000000000e+00    nrm: 1e+05    Viol.  con: 0e+00    var: 0e+00    itg: 0e+00  \n",
      "-------------------------------------------------------------------------------\n",
      "                                    Summary                                    \n",
      "-------------------------------------------------------------------------------\n",
      "(CVXPY) Aug 21 04:24:02 PM: Problem status: optimal\n",
      "(CVXPY) Aug 21 04:24:02 PM: Optimal value: 0.000e+00\n",
      "(CVXPY) Aug 21 04:24:02 PM: Compilation took 2.144e-02 seconds\n",
      "(CVXPY) Aug 21 04:24:02 PM: Solver (including time spent in interface) took 6.455e-02 seconds\n"
     ]
    },
    {
     "data": {
      "text/plain": [
       "0.0"
      ]
     },
     "execution_count": 100,
     "metadata": {},
     "output_type": "execute_result"
    }
   ],
   "source": [
    "bool_vars_idx = [(x,) for x in bool_idx]\n",
    "\n",
    "x = cp.Variable(A.shape[1], boolean = bool_vars_idx)\n",
    "\n",
    "p = cp.Problem(cp.Minimize(c.T@x),\n",
    "                 [np.vstack((A,A_coup))@x<=np.concatenate((b,b_coup))])\n",
    "p.solve(solver = 'MOSEK', verbose = True)"
   ]
  },
  {
   "cell_type": "markdown",
   "metadata": {},
   "source": [
    "### Lagrangian relaxation"
   ]
  },
  {
   "cell_type": "markdown",
   "metadata": {},
   "source": [
    "### Display solution"
   ]
  },
  {
   "cell_type": "code",
   "execution_count": 54,
   "metadata": {},
   "outputs": [],
   "source": [
    "def display_solution(tin, tout, deltas, xs):\n",
    "    deltas = deltas.value\n",
    "    tin = tin.value\n",
    "    tout = tout.value\n",
    "    xs = xs.value\n",
    "    #betas = betas.value\n",
    "    ad_paths = np.where(deltas==1)[0]\n",
    "    paths_flat = []\n",
    "    timetable = {}\n",
    "    penalty = 0\n",
    "    for si in paths:\n",
    "        paths_flat += paths[si]\n",
    "    for (si,ad_path) in zip(service_intentions, ad_paths):\n",
    "        p = paths_flat[ad_path]\n",
    "        timetable[si] = {'tin': [], 'tout':[]}\n",
    "        for idx,e in zip(get_index_by_delta[ad_path],p):\n",
    "            timetable[si]['tin'].append((tin[idx]))\n",
    "            timetable[si]['tout'].append((tout[idx]))\n",
    "            estr = e[0]+','+e[1]\n",
    "            print(f'si: {si}, edge: {estr}, tin: {sec_to_str(tin[idx])}, tout: {sec_to_str(tout[idx])}')\n",
    "            if estr in Lats[si]['LatIn']:\n",
    "                #print('LatIn', Lats[si]['LatIn'][estr])\n",
    "                pen = max(0,tin[idx] - str_to_sec(Lats[si]['LatIn'][estr]))\n",
    "                penalty+=pen\n",
    "                print('penalty:', pen)\n",
    "            if estr in Lats[si]['LatOut']:\n",
    "                #print('LatOut', Lats[si]['LatOut'][estr])\n",
    "                pen= max(0,tout[idx] - str_to_sec(Lats[si]['LatOut'][estr]))\n",
    "                print('penalty:', pen)\n",
    "                penalty+=pen\n",
    "            #print(route_graphs[si].edges[e])\n",
    "    import matplotlib.pyplot as plt\n",
    "    plt.figure(figsize = (20,15))\n",
    "    s=100\n",
    "    for si in timetable:\n",
    "        plt.scatter(range(len(timetable[si]['tin'])),timetable[si]['tin'], marker = 'o', label = si, s=s)\n",
    "        plt.scatter(range(1,len(timetable[si]['tout'])+1),timetable[si]['tout'], marker = 'x', label = si, s=s)\n",
    "    plt.legend()"
   ]
  },
  {
   "cell_type": "code",
   "execution_count": 88,
   "metadata": {},
   "outputs": [
    {
     "data": {
      "text/plain": [
       "<matplotlib.image.AxesImage at 0x7f6409332518>"
      ]
     },
     "execution_count": 88,
     "metadata": {},
     "output_type": "execute_result"
    },
    {
     "data": {
      "image/png": "[encoded data removed]",
      "text/plain": [
       "<Figure size 360x936 with 1 Axes>"
      ]
     },
     "metadata": {
      "needs_background": "light"
     },
     "output_type": "display_data"
    }
   ],
   "source": [
    "A = A.astype(float)\n",
    "A[A.nonzero()]=1\n",
    "from matplotlib import pyplot as plt\n",
    "(x,y) = A.shape\n",
    "S=5\n",
    "plt.figure(figsize = (S,int(S*x/y)))\n",
    "plt.imshow(A, cmap='Greys',  interpolation='nearest')"
   ]
  },
  {
   "cell_type": "markdown",
   "metadata": {},
   "source": [
    "### Constraint check"
   ]
  }
 ],
 "metadata": {
  "kernelspec": {
   "display_name": "Python 3",
   "language": "python",
   "name": "python3"
  },
  "language_info": {
   "codemirror_mode": {
    "name": "ipython",
    "version": 3
   },
   "file_extension": ".py",
   "mimetype": "text/x-python",
   "name": "python",
   "nbconvert_exporter": "python",
   "pygments_lexer": "ipython3",
   "version": "3.6.9"
  }
 },
 "nbformat": 4,
 "nbformat_minor": 1
}
