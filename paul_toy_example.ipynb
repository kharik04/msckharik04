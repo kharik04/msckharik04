{
 "cells": [
  {
   "cell_type": "markdown",
   "metadata": {},
   "source": [
    "### Explanation of the problem"
   ]
  },
  {
   "cell_type": "raw",
   "metadata": {},
   "source": [
    "Graph:\n",
    "\n",
    "\n",
    "(0)->(1)->(2)  \n",
    "      |  \n",
    "      ->(3)\n",
    "     \n",
    " \n",
    "(0) is start node, (2),(3) are end nodes, so train can go routes (0)->(1)->(2) or (0)->(1)->(3)"
   ]
  },
  {
   "cell_type": "markdown",
   "metadata": {},
   "source": [
    "si - service intention (which train, for now just one train in toy example)  \n",
    "r - route (path in the graph)  \n",
    "rs - route section (edges of the graph)  \n",
    "tin - time into a route section  \n",
    "tou - time out of a route section  \n",
    "M - a large number for linearisation of constraints  \n",
    "EarIn - earliest time into a route section  \n",
    "EarOut - earliest time out of a route section  \n",
    "$\\delta_{si, r}$ = 1 if route chosen is to be used, and 0 otherwise  \n",
    "$x_{si, rs}$ = 1 if route section is to be used, and 0 otherwise  \n",
    "mrt - the minimum running time at an edge for a train  \n",
    "mst - the minimum stopping time at an edge for a train"
   ]
  },
  {
   "cell_type": "markdown",
   "metadata": {},
   "source": [
    "## Constraints for the problem"
   ]
  },
  {
   "cell_type": "markdown",
   "metadata": {},
   "source": [
    "time into a section comes before time out: \n",
    "\n",
    "\n",
    "(1)  $t_{si,r,rs}^{in} \\leq t_{si,r,rs}^{out}$  \n",
    "\n",
    "time into next section comes after time out from previous section:  \n",
    "(2)  $t_{si,r,rs}^{out} \\leq t_{si,r,rs+1}^{in}$\n",
    "\n",
    "if r is the selected path, satisfy minimum running and stopping time:  \n",
    "(3)  $t_{si,r,rs}^{out} - t_{si,r,rs}^{in} \\geq mrt_{si, r, rs} + mst_{si, r, rs} - M(1-\\delta_{si,r})$\n",
    "\n",
    "Earliest in constraint:  \n",
    "(4)  $t_{si,r,rs}^{in} \\geq EarIn_{si,r,rs} - M(1-\\delta_{si,r})$  \n",
    "\n",
    "Earliest out constraint:  \n",
    "(5)  $t_{si,r,rs}^{out} \\geq EarOut_{si,r,rs} - M(1-\\delta_{si,r})$\n",
    "\n",
    "Select only one path to every service:  \n",
    "(6)  $\\sum_{r \\in P} \\delta_{si,r} = 1$  \n",
    "\n",
    "All route sections on the chosen track are occupied  \n",
    "(7)  $x_{si, re} \\geq \\delta_{si, r}$\n"
   ]
  },
  {
   "cell_type": "raw",
   "metadata": {},
   "source": [
    "define tin, tout as a list of times of every edge for every route. There are two routes, so list is: \n",
    "[(0)->(1), (1)->(2), (0)->(1), (1)->(3)]\n",
    "\n",
    "there are 3 total edges, so x is a list of those: [(0)->(1), (1)->(2), (1)->(3)]\n",
    "\n",
    "there are two total routes, so delta is of size two [(0)->(1)->(2) , (0)->(1)->(3)]"
   ]
  },
  {
   "cell_type": "markdown",
   "metadata": {},
   "source": [
    "### Programme constraints, add into a variable called cs"
   ]
  },
  {
   "cell_type": "code",
   "execution_count": 7,
   "metadata": {},
   "outputs": [],
   "source": [
    "import cvxpy as cp\n",
    "tin = [cp.Variable(nonneg = True)]*4\n",
    "tout = [cp.Variable(nonneg = True)]*4\n",
    "xs = [cp.Variable(boolean = True)]*3\n",
    "deltas = [cp.Variable(boolean = True)]*2\n",
    "\n",
    "\n",
    "cs = []\n",
    "\n",
    "\n",
    "#1\n",
    "cs.append((tin[0] <= tout[0]))\n",
    "cs.append((tin[1] <= tout[1]))\n",
    "cs.append((tin[2] <= tout[2]))\n",
    "cs.append((tin[3] <= tout[3]))\n",
    "\n",
    "#2\n",
    "cs.append((tout[0] <= tin[1]))\n",
    "cs.append((tout[2] <= tin[3]))\n",
    "\n",
    "#3\n",
    "M=2000\n",
    "mrt = 53\n",
    "mst = 0\n",
    "cs.append((tout[0] - tin[0] >= mrt + mst - M*(1-deltas[0])))\n",
    "mrt = 32\n",
    "mst = 0\n",
    "cs.append((tout[1] - tin[1] >= mrt + mst - M*(1-deltas[0])))\n",
    "mrt = 53\n",
    "mst = 0\n",
    "cs.append((tout[2] - tin[2] >= mrt + mst - M*(1-deltas[1])))\n",
    "mrt = 2000\n",
    "mst = 0\n",
    "cs.append((tout[3] - tin[3] >= mrt + mst - M*(1-deltas[1])))\n",
    "\n",
    "#4\n",
    "EarIn = 28200\n",
    "cs.append((tin[0] >= EarIn - M*(1-deltas[0])))\n",
    "cs.append((tin[2] >= EarIn - M*(1-deltas[1])))\n",
    "\n",
    "#5\n",
    "#--\n",
    "\n",
    "#6\n",
    "cs.append((deltas[0] + deltas[1] == 1))\n",
    "\n",
    "\n",
    "#7\n",
    "cs.append((xs[0] >= deltas[0]))\n",
    "cs.append((xs[1] >= deltas[0]))\n",
    "cs.append((xs[0] >= deltas[1]))\n",
    "cs.append((xs[2] >= deltas[1]))"
   ]
  },
  {
   "cell_type": "code",
   "execution_count": 8,
   "metadata": {},
   "outputs": [
    {
     "name": "stdout",
     "output_type": "stream",
     "text": [
      "===============================================================================\n",
      "                                     CVXPY                                     \n",
      "                                    v1.1.14                                    \n",
      "===============================================================================\n",
      "(CVXPY) Aug 08 02:08:10 PM: Your problem has 4 variables, 17 constraints, and 0 parameters.\n",
      "(CVXPY) Aug 08 02:08:10 PM: It is compliant with the following grammars: DCP, DQCP\n",
      "(CVXPY) Aug 08 02:08:10 PM: (If you need to solve this problem multiple times, but with different data, consider using parameters.)\n",
      "(CVXPY) Aug 08 02:08:10 PM: CVXPY will first compile your problem; then, it will invoke a numerical solver to obtain a solution.\n",
      "-------------------------------------------------------------------------------\n",
      "                                  Compilation                                  \n",
      "-------------------------------------------------------------------------------\n",
      "(CVXPY) Aug 08 02:08:10 PM: Compiling problem (target solver=MOSEK).\n",
      "(CVXPY) Aug 08 02:08:10 PM: Reduction chain: Dcp2Cone -> CvxAttr2Constr -> ConeMatrixStuffing -> MOSEK\n",
      "(CVXPY) Aug 08 02:08:10 PM: Applying reduction Dcp2Cone\n",
      "(CVXPY) Aug 08 02:08:10 PM: Applying reduction CvxAttr2Constr\n",
      "(CVXPY) Aug 08 02:08:10 PM: Applying reduction ConeMatrixStuffing\n",
      "(CVXPY) Aug 08 02:08:10 PM: Applying reduction MOSEK\n",
      "(CVXPY) Aug 08 02:08:10 PM: Finished problem compilation (took 4.256e-02 seconds).\n",
      "-------------------------------------------------------------------------------\n",
      "                                Numerical solver                               \n",
      "-------------------------------------------------------------------------------\n",
      "(CVXPY) Aug 08 02:08:10 PM: Invoking solver MOSEK  to obtain a solution.\n",
      "\n",
      "\n",
      "Problem\n",
      "  Name                   :                 \n",
      "  Objective sense        : min             \n",
      "  Type                   : LO (linear optimization problem)\n",
      "  Constraints            : 21              \n",
      "  Cones                  : 0               \n",
      "  Scalar variables       : 4               \n",
      "  Matrix variables       : 0               \n",
      "  Integer variables      : 2               \n",
      "\n",
      "Optimizer started.\n",
      "Mixed integer optimizer started.\n",
      "Threads used: 4\n",
      "Presolve started.\n",
      "Presolve terminated. Time = 0.00\n",
      "Clique table size: 0\n",
      "BRANCHES RELAXS   ACT_NDS  DEPTH    BEST_INT_OBJ         BEST_RELAX_OBJ       REL_GAP(%)  TIME  \n",
      "\n",
      "Objective of best integer solution : Not available.\n",
      "Best objective bound               : Not available.\n",
      "Construct solution objective       : Not employed\n",
      "User objective cut value           : Not employed\n",
      "Number of cuts generated           : 0\n",
      "Number of branches                 : 0\n",
      "Number of relaxations solved       : 0\n",
      "Number of interior point iterations: 0\n",
      "Number of simplex iterations       : 0\n",
      "Time spend presolving the root     : 0.00\n",
      "Time spend optimizing the root     : 0.00\n",
      "Mixed integer optimizer terminated. Time: 0.03\n",
      "\n",
      "Optimizer terminated. Time: 0.07    \n",
      "\n",
      "\n",
      "Integer solution solution summary\n",
      "  Problem status  : PRIMAL_INFEASIBLE\n",
      "  Solution status : UNKNOWN\n",
      "  Primal.  obj: 0.0000000000e+00    nrm: 0e+00    Viol.  con: 3e+04    var: 0e+00    itg: 0e+00  \n",
      "-------------------------------------------------------------------------------\n",
      "                                    Summary                                    \n",
      "-------------------------------------------------------------------------------\n",
      "(CVXPY) Aug 08 02:08:10 PM: Problem status: infeasible\n",
      "(CVXPY) Aug 08 02:08:10 PM: Optimal value: inf\n",
      "(CVXPY) Aug 08 02:08:10 PM: Compilation took 4.256e-02 seconds\n",
      "(CVXPY) Aug 08 02:08:10 PM: Solver (including time spent in interface) took 8.496e-02 seconds\n"
     ]
    },
    {
     "data": {
      "text/plain": [
       "inf"
      ]
     },
     "execution_count": 8,
     "metadata": {},
     "output_type": "execute_result"
    }
   ],
   "source": [
    "prob = cp.Problem(cp.Minimize(0),\n",
    "                 cs)\n",
    "prob.solve(solver = 'MOSEK', verbose = True)"
   ]
  },
  {
   "cell_type": "markdown",
   "metadata": {},
   "source": [
    "### View variable values"
   ]
  },
  {
   "cell_type": "code",
   "execution_count": null,
   "metadata": {},
   "outputs": [],
   "source": [
    "for tag,v in zip(['tin', 'tout', 'x', 'delta'],[tin, tout, xs, deltas]):\n",
    "    for e in v:\n",
    "        print(tag, e.value)"
   ]
  },
  {
   "cell_type": "markdown",
   "metadata": {},
   "source": [
    "### Mosek says the prolem is infeasible, but"
   ]
  },
  {
   "cell_type": "markdown",
   "metadata": {},
   "source": [
    "### Proof that there is a feasible integer solution:"
   ]
  },
  {
   "cell_type": "code",
   "execution_count": 5,
   "metadata": {},
   "outputs": [],
   "source": [
    "#Proposed solution\n",
    "tin = [28200, 28253, 28200, 28253]\n",
    "tout = [28253, 28285, 28253, 28253+2000]\n",
    "deltas = [1, 0]\n",
    "xs = [1,1,0]\n",
    "\n",
    "\n",
    "cs = []\n",
    "\n",
    "\n",
    "#1\n",
    "cs.append((tin[0] <= tout[0]))\n",
    "cs.append((tin[1] <= tout[1]))\n",
    "cs.append((tin[2] <= tout[2]))\n",
    "cs.append((tin[3] <= tout[3]))\n",
    "\n",
    "#2\n",
    "cs.append((tout[0] <= tin[1]))\n",
    "cs.append((tout[2] <= tin[3]))\n",
    "\n",
    "#3\n",
    "M=2000\n",
    "mrt = 53\n",
    "mst = 0\n",
    "cs.append((tout[0] - tin[0] >= mrt + mst - M*(1-deltas[0])))\n",
    "mrt = 32\n",
    "mst = 0\n",
    "cs.append((tout[1] - tin[1] >= mrt + mst - M*(1-deltas[0])))\n",
    "mrt = 53\n",
    "mst = 0\n",
    "cs.append((tout[2] - tin[2] >= mrt + mst - M*(1-deltas[1])))\n",
    "mrt = 2000\n",
    "mst = 0\n",
    "cs.append((tout[3] - tin[3] >= mrt + mst - M*(1-deltas[1])))\n",
    "\n",
    "#4\n",
    "EarIn = 28200\n",
    "cs.append((tin[0] >= EarIn - M*(1-deltas[0])))\n",
    "cs.append((tin[2] >= EarIn - M*(1-deltas[1])))\n",
    "\n",
    "#5\n",
    "#--\n",
    "\n",
    "#6\n",
    "cs.append((deltas[0] + deltas[1] == 1))\n",
    "\n",
    "\n",
    "#7\n",
    "cs.append((xs[0] >= deltas[0]))\n",
    "cs.append((xs[1] >= deltas[0]))\n",
    "cs.append((xs[0] >= deltas[1]))\n",
    "cs.append((xs[2] >= deltas[1]))"
   ]
  },
  {
   "cell_type": "markdown",
   "metadata": {},
   "source": [
    "All constraints come out as true for the proposed solution:"
   ]
  },
  {
   "cell_type": "code",
   "execution_count": 6,
   "metadata": {},
   "outputs": [
    {
     "data": {
      "text/plain": [
       "[True,\n",
       " True,\n",
       " True,\n",
       " True,\n",
       " True,\n",
       " True,\n",
       " True,\n",
       " True,\n",
       " True,\n",
       " True,\n",
       " True,\n",
       " True,\n",
       " True,\n",
       " True,\n",
       " True,\n",
       " True,\n",
       " True]"
      ]
     },
     "execution_count": 6,
     "metadata": {},
     "output_type": "execute_result"
    }
   ],
   "source": [
    "cs"
   ]
  },
  {
   "cell_type": "markdown",
   "metadata": {},
   "source": [
    "### What is wrong here? Why does MOSEK say problem is infeasible"
   ]
  }
 ],
 "metadata": {
  "kernelspec": {
   "display_name": "Python 3",
   "language": "python",
   "name": "python3"
  },
  "language_info": {
   "codemirror_mode": {
    "name": "ipython",
    "version": 3
   },
   "file_extension": ".py",
   "mimetype": "text/x-python",
   "name": "python",
   "nbconvert_exporter": "python",
   "pygments_lexer": "ipython3",
   "version": "3.6.9"
  }
 },
 "nbformat": 4,
 "nbformat_minor": 4
}
