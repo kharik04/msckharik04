{
 "cells": [
  {
   "cell_type": "markdown",
   "metadata": {
    "collapsed": true
   },
   "source": [
    "# Construction of Route Graphs"
   ]
  },
  {
   "cell_type": "code",
   "execution_count": 1,
   "metadata": {},
   "outputs": [],
   "source": [
    "import json\n",
    "import time\n",
    "import networkx as nx\n",
    "import matplotlib.pyplot as plt\n",
    "import numpy as np\n",
    "import isodate"
   ]
  },
  {
   "cell_type": "markdown",
   "metadata": {},
   "source": [
    "### Load Json"
   ]
  },
  {
   "cell_type": "code",
   "execution_count": 2,
   "metadata": {},
   "outputs": [],
   "source": [
    "scenario = \"sample_scenario.json\"  # adjust path to the sample instance if it is not located there\n",
    "with open(scenario) as fp:\n",
    "    scenario = json.load(fp)"
   ]
  },
  {
   "cell_type": "markdown",
   "metadata": {},
   "source": [
    "### Process section requirements"
   ]
  },
  {
   "cell_type": "code",
   "execution_count": 3,
   "metadata": {},
   "outputs": [],
   "source": [
    "service_intentions = {}\n",
    "for si in scenario['service_intentions']:\n",
    "    requirements = {}\n",
    "    for i,req in enumerate(si['section_requirements']):\n",
    "        requirements[req['section_marker']] = {key:value for key,value in req.items()}\n",
    "        if i == 0:\n",
    "            requirements[req['section_marker']]['start_end'] = 'start'\n",
    "        elif i == len(si['section_requirements']) - 1:\n",
    "            requirements[req['section_marker']]['start_end'] = 'end'\n",
    "        else: \n",
    "            requirements[req['section_marker']]['start_end'] = None\n",
    "    service_intentions[si['id']] = requirements"
   ]
  },
  {
   "cell_type": "markdown",
   "metadata": {},
   "source": [
    "### Printing of nodes"
   ]
  },
  {
   "cell_type": "code",
   "execution_count": 4,
   "metadata": {},
   "outputs": [],
   "source": [
    "def from_node_id(route_path, route_section, index_in_path):\n",
    "    if \"route_alternative_marker_at_entry\" in route_section.keys() and \\\n",
    "            route_section[\"route_alternative_marker_at_entry\"] is not None and \\\n",
    "            len(route_section[\"route_alternative_marker_at_entry\"]) > 0:\n",
    "                return \"(\" + str(route_section[\"route_alternative_marker_at_entry\"][0]) + \")\"\n",
    "    else:\n",
    "        if index_in_path == 0:  # can only get here if this node is a very beginning of a route\n",
    "            return \"(\" + str(route_section[\"sequence_number\"]) + \"_beginning)\"\n",
    "        else:\n",
    "            return \"(\" + (str(route_path[\"route_sections\"][index_in_path - 1][\"sequence_number\"]) + \"->\" +\n",
    "                          str(route_section[\"sequence_number\"])) + \")\"\n",
    "def to_node_id(route_path, route_section, index_in_path):\n",
    "    if \"route_alternative_marker_at_exit\" in route_section.keys() and \\\n",
    "            route_section[\"route_alternative_marker_at_exit\"] is not None and \\\n",
    "            len(route_section[\"route_alternative_marker_at_exit\"]) > 0:\n",
    "\n",
    "                return \"(\" + str(route_section[\"route_alternative_marker_at_exit\"][0]) + \")\"\n",
    "    else:\n",
    "        if index_in_path == (len(route_path[\"route_sections\"]) - 1): # meaning this node is a very end of a route\n",
    "            return \"(\" + str(route_section[\"sequence_number\"]) + \"_end\" + \")\"\n",
    "        else:\n",
    "            return \"(\" + (str(route_section[\"sequence_number\"]) + \"->\" +\n",
    "                          str(route_path[\"route_sections\"][index_in_path + 1][\"sequence_number\"])) + \")\""
   ]
  },
  {
   "cell_type": "markdown",
   "metadata": {},
   "source": [
    "### Construct graph for every SI, and appropriate edge constraints"
   ]
  },
  {
   "cell_type": "code",
   "execution_count": 5,
   "metadata": {},
   "outputs": [],
   "source": [
    "route_section_keys = ['penalty', 'minimum_running_time']\n",
    "section_requirement_keys = ['start_end','min_stopping_time', 'entry_earliest', 'entry_latest',\n",
    "                           'exit_earliest', 'exit_latest', 'entry_delay_weight',\n",
    "                           'exit_delay_weight']"
   ]
  },
  {
   "cell_type": "code",
   "execution_count": 6,
   "metadata": {},
   "outputs": [
    {
     "name": "stdout",
     "output_type": "stream",
     "text": [
      "\n",
      "Constructing route graph for route 111\n",
      "new route\n",
      "Adding Edge from (1_beginning) to (M1) with sequence number 1\n",
      "{'penalty': None, 'minimum_running_time': 'PT53S', 'section_marker': 'A', 'start_end': 'start', 'entry_earliest': '08:20:00', 'entry_delay_weight': 1, 'exit_delay_weight': 1, 'sequence_number': 1}\n",
      "Adding Edge from (M1) to (4->5) with sequence number 4\n",
      "{'penalty': None, 'minimum_running_time': 'PT32S', 'section_marker': None, 'sequence_number': 4}\n",
      "Adding Edge from (4->5) to (M2) with sequence number 5\n",
      "{'penalty': None, 'minimum_running_time': 'PT32S', 'section_marker': 'B', 'start_end': None, 'min_stopping_time': 'PT3M', 'exit_earliest': '08:30:00', 'entry_delay_weight': 1, 'exit_delay_weight': 1, 'sequence_number': 5}\n",
      "Adding Edge from (M2) to (M3) with sequence number 6\n",
      "{'penalty': None, 'minimum_running_time': 'PT32S', 'section_marker': None, 'sequence_number': 6}\n",
      "Adding Edge from (M3) to (10->13) with sequence number 10\n",
      "{'penalty': None, 'minimum_running_time': 'PT32S', 'section_marker': None, 'sequence_number': 10}\n",
      "Adding Edge from (10->13) to (M4) with sequence number 13\n",
      "{'penalty': None, 'minimum_running_time': 'PT32S', 'section_marker': None, 'sequence_number': 13}\n",
      "Adding Edge from (M4) to (14_end) with sequence number 14\n",
      "{'penalty': None, 'minimum_running_time': 'PT32S', 'section_marker': 'C', 'start_end': 'end', 'exit_latest': '08:50:00', 'entry_delay_weight': 1, 'exit_delay_weight': 1, 'sequence_number': 14}\n",
      "new route\n",
      "Adding Edge from (2_beginning) to (M1) with sequence number 2\n",
      "{'penalty': None, 'minimum_running_time': 'PT53S', 'section_marker': 'A', 'start_end': 'start', 'entry_earliest': '08:20:00', 'entry_delay_weight': 1, 'exit_delay_weight': 1, 'sequence_number': 2}\n",
      "new route\n",
      "Adding Edge from (3_beginning) to (M1) with sequence number 3\n",
      "{'penalty': None, 'minimum_running_time': 'PT53S', 'section_marker': 'A', 'start_end': 'start', 'entry_earliest': '08:20:00', 'entry_delay_weight': 1, 'exit_delay_weight': 1, 'sequence_number': 3}\n",
      "new route\n",
      "Adding Edge from (M2) to (7->8) with sequence number 7\n",
      "{'penalty': None, 'minimum_running_time': 'PT32S', 'section_marker': None, 'sequence_number': 7}\n",
      "Adding Edge from (7->8) to (8->9) with sequence number 8\n",
      "{'penalty': None, 'minimum_running_time': 'PT32S', 'section_marker': None, 'sequence_number': 8}\n",
      "Adding Edge from (8->9) to (9_end) with sequence number 9\n",
      "{'penalty': None, 'minimum_running_time': 'PT32S', 'section_marker': 'C', 'start_end': 'end', 'exit_latest': '08:50:00', 'entry_delay_weight': 1, 'exit_delay_weight': 1, 'sequence_number': 9}\n",
      "new route\n",
      "Adding Edge from (M3) to (11->12) with sequence number 11\n",
      "{'penalty': None, 'minimum_running_time': 'PT32S', 'section_marker': None, 'sequence_number': 11}\n",
      "Adding Edge from (11->12) to (M4) with sequence number 12\n",
      "{'penalty': None, 'minimum_running_time': 'PT32S', 'section_marker': None, 'sequence_number': 12}\n",
      "\n",
      "Constructing route graph for route 113\n",
      "new route\n",
      "Adding Edge from (1_beginning) to (M1) with sequence number 1\n",
      "{'penalty': None, 'minimum_running_time': 'PT53S', 'section_marker': 'A', 'start_end': 'start', 'entry_earliest': '07:50:00', 'entry_delay_weight': 1, 'exit_delay_weight': 1, 'sequence_number': 1}\n",
      "Adding Edge from (M1) to (4->5) with sequence number 4\n",
      "{'penalty': None, 'minimum_running_time': 'PT32S', 'section_marker': None, 'sequence_number': 4}\n",
      "Adding Edge from (4->5) to (M2) with sequence number 5\n",
      "{'penalty': None, 'minimum_running_time': 'PT32S', 'section_marker': 'B', 'sequence_number': 5}\n",
      "Adding Edge from (M2) to (M3) with sequence number 6\n",
      "{'penalty': None, 'minimum_running_time': 'PT32S', 'section_marker': None, 'sequence_number': 6}\n",
      "Adding Edge from (M3) to (10->13) with sequence number 10\n",
      "{'penalty': None, 'minimum_running_time': 'PT32S', 'section_marker': None, 'sequence_number': 10}\n",
      "Adding Edge from (10->13) to (M4) with sequence number 13\n",
      "{'penalty': None, 'minimum_running_time': 'PT32S', 'section_marker': None, 'sequence_number': 13}\n",
      "Adding Edge from (M4) to (14_end) with sequence number 14\n",
      "{'penalty': None, 'minimum_running_time': 'PT32S', 'section_marker': 'C', 'start_end': 'end', 'exit_latest': '08:16:00', 'entry_delay_weight': 1, 'exit_delay_weight': 1, 'sequence_number': 14}\n",
      "new route\n",
      "Adding Edge from (2_beginning) to (M1) with sequence number 2\n",
      "{'penalty': None, 'minimum_running_time': 'PT53S', 'section_marker': 'A', 'start_end': 'start', 'entry_earliest': '07:50:00', 'entry_delay_weight': 1, 'exit_delay_weight': 1, 'sequence_number': 2}\n",
      "new route\n",
      "Adding Edge from (3_beginning) to (M1) with sequence number 3\n",
      "{'penalty': None, 'minimum_running_time': 'PT53S', 'section_marker': 'A', 'start_end': 'start', 'entry_earliest': '07:50:00', 'entry_delay_weight': 1, 'exit_delay_weight': 1, 'sequence_number': 3}\n",
      "new route\n",
      "Adding Edge from (M2) to (7->8) with sequence number 7\n",
      "{'penalty': None, 'minimum_running_time': 'PT32S', 'section_marker': None, 'sequence_number': 7}\n",
      "Adding Edge from (7->8) to (8->9) with sequence number 8\n",
      "{'penalty': None, 'minimum_running_time': 'PT32S', 'section_marker': None, 'sequence_number': 8}\n",
      "Adding Edge from (8->9) to (9_end) with sequence number 9\n",
      "{'penalty': None, 'minimum_running_time': 'PT32S', 'section_marker': 'C', 'start_end': 'end', 'exit_latest': '08:16:00', 'entry_delay_weight': 1, 'exit_delay_weight': 1, 'sequence_number': 9}\n",
      "new route\n",
      "Adding Edge from (M3) to (11->12) with sequence number 11\n",
      "{'penalty': None, 'minimum_running_time': 'PT32S', 'section_marker': None, 'sequence_number': 11}\n",
      "Adding Edge from (11->12) to (M4) with sequence number 12\n",
      "{'penalty': None, 'minimum_running_time': 'PT32S', 'section_marker': None, 'sequence_number': 12}\n",
      "Finished building fahrweg-graphen in 0.007254600524902344 seconds\n"
     ]
    }
   ],
   "source": [
    "start_time = time.time()\n",
    "\n",
    "# now build the graph. Nodes are called \"previous_FAB -> next_FAB\" within lineare abschnittsfolgen and \"AK\" if\n",
    "# there is an Abschnittskennzeichen 'AK' on it\n",
    "route_graphs = dict()\n",
    "for route in scenario[\"routes\"]:# iterates over si?\n",
    "    \n",
    "    print(f\"\\nConstructing route graph for route {route['id']}\")\n",
    "    # set global graph settings\n",
    "    G = nx.DiGraph(route_id = route[\"id\"], name=\"Route-Graph for route \"+str(route[\"id\"]))\n",
    "\n",
    "    # add edges with data contained in the preprocessed graph\n",
    "    for path in route[\"route_paths\"]:#iterate over admissible routes\n",
    "        print('new route')\n",
    "        for (i, route_section) in enumerate(path[\"route_sections\"]):\n",
    "            sn = route_section['sequence_number']\n",
    "            print(\"Adding Edge from {} to {} with sequence number {}\".format(from_node_id(path, route_section, i), to_node_id(path, route_section, i), sn))\n",
    "            edge_data = {}\n",
    "            for key in route_section_keys:\n",
    "                if key in route_section:\n",
    "                    edge_data[key] = route_section[key]\n",
    "                else:\n",
    "                    edge_data[key] = None\n",
    "            #get section marker\n",
    "            section_marker = None\n",
    "            if 'section_marker' in route_section:\n",
    "                section_marker = route_section['section_marker'][0]\n",
    "            edge_data['section_marker'] = section_marker\n",
    "            \n",
    "            if section_marker in service_intentions[route['id']]:\n",
    "                for key in section_requirement_keys:\n",
    "                    if key in service_intentions[route['id']][section_marker]:\n",
    "                            edge_data[key] = service_intentions[route['id']][section_marker][key]\n",
    "        \n",
    "            edge_data['sequence_number'] = sn\n",
    "            \n",
    "            print(edge_data)\n",
    "            G.add_edge(from_node_id(path, route_section, i),\n",
    "                       to_node_id(path, route_section, i),\n",
    "                       edge_data = edge_data)\n",
    "\n",
    "    route_graphs[route[\"id\"]] = G\n",
    "\n",
    "print(\"Finished building fahrweg-graphen in {} seconds\".format(str(time.time() - start_time)))"
   ]
  },
  {
   "cell_type": "markdown",
   "metadata": {},
   "source": [
    "### Draw Graphs"
   ]
  },
  {
   "cell_type": "code",
   "execution_count": 7,
   "metadata": {},
   "outputs": [
    {
     "data": {
      "image/png": "[encoded data removed]",
      "text/plain": [
       "<Figure size 432x288 with 1 Axes>"
      ]
     },
     "metadata": {},
     "output_type": "display_data"
    }
   ],
   "source": [
    "route_graph = route_graphs[111]\n",
    "\n",
    "\"\"\"\n",
    "for node in route_graph.nodes():\n",
    "    route_graph.node[node]['label'] = node\n",
    "\n",
    "edge_labels = {}\n",
    "for node1, node2, data in route_graph.edges(data=True):\n",
    "    edge_labels[(node1, node2)] = data['sequence_number'] \n",
    "\n",
    "for edge in route_graph.edges():\n",
    "    route_graph.edges[edge]['label'] = edge_labels[edge]\n",
    "\n",
    "# export as graphML file, see below\n",
    "nx.write_graphml(route_graph, \"graph-111\"+\".graphml\")\n",
    "\"\"\"\n",
    "edge_labels = {}\n",
    "for node1, node2, data in route_graph.edges(data=True):\n",
    "    \n",
    "    edge_labels[(node1, node2)] = data['edge_data']['sequence_number']\n",
    "    \n",
    "# draw directly from networkx\n",
    "pos = nx.spring_layout(route_graph)\n",
    "nx.draw(route_graph, pos, edge_color='black', width=1, linewidths=1, node_size=500, node_color='pink', alpha=0.9)\n",
    "nx.draw_networkx_edge_labels(route_graph,pos,edge_labels=edge_labels,font_color='red')\n",
    "plt.show()"
   ]
  },
  {
   "cell_type": "code",
   "execution_count": 8,
   "metadata": {},
   "outputs": [
    {
     "data": {
      "image/png": "[encoded data removed]",
      "text/plain": [
       "<Figure size 432x288 with 1 Axes>"
      ]
     },
     "metadata": {},
     "output_type": "display_data"
    }
   ],
   "source": [
    "route_graph = route_graphs[113]\n",
    "\n",
    "\"\"\"\n",
    "for node in route_graph.nodes():\n",
    "    route_graph.node[node]['label'] = node\n",
    "\n",
    "edge_labels = {}\n",
    "for node1, node2, data in route_graph.edges(data=True):\n",
    "    edge_labels[(node1, node2)] = data['sequence_number'] \n",
    "\n",
    "for edge in route_graph.edges():\n",
    "    route_graph.edges[edge]['label'] = edge_labels[edge]\n",
    "\n",
    "# export as graphML file, see below\n",
    "nx.write_graphml(route_graph, \"graph-111\"+\".graphml\")\n",
    "\"\"\"\n",
    "edge_labels = {}\n",
    "for node1, node2, data in route_graph.edges(data=True):\n",
    "    edge_labels[(node1, node2)] = data['edge_data']['sequence_number']\n",
    "\n",
    "# draw directly from networkx\n",
    "pos = nx.spring_layout(route_graph)\n",
    "nx.draw(route_graph, pos, edge_color='black', width=1, linewidths=1, node_size=500, node_color='pink', alpha=0.9)\n",
    "nx.draw_networkx_edge_labels(route_graph,pos,edge_labels=edge_labels,font_color='red')\n",
    "plt.show()"
   ]
  },
  {
   "cell_type": "markdown",
   "metadata": {},
   "source": [
    "### Find all admissible routes"
   ]
  },
  {
   "cell_type": "code",
   "execution_count": 9,
   "metadata": {},
   "outputs": [],
   "source": [
    "paths = {}\n",
    "for si in service_intentions:\n",
    "    startnodes=[]\n",
    "    endnodes = []\n",
    "    G = route_graphs[si]\n",
    "    for edge in G.edges(data=True):\n",
    "        if 'start_end' in edge[2]['edge_data']:\n",
    "            if edge[2]['edge_data']['start_end'] == 'start':\n",
    "                startnodes.append(edge[0])\n",
    "            if edge[2]['edge_data']['start_end'] == 'end':\n",
    "                endnodes.append(edge[1])\n",
    "    paths_si = []\n",
    "    for s in startnodes:\n",
    "        for e in endnodes:\n",
    "            for path in nx.all_simple_paths(G, source=s, target=e):\n",
    "                paths_si.append([(path[i], path[i+1]) for i in range(len(path)-1)])\n",
    "    paths[si] = paths_si"
   ]
  },
  {
   "cell_type": "code",
   "execution_count": 10,
   "metadata": {},
   "outputs": [],
   "source": [
    "si_list = []\n",
    "for si in paths:\n",
    "    pathlist = []\n",
    "    for i,path in enumerate(paths[si]):\n",
    "        srlist = []\n",
    "        for sr in path:\n",
    "            srlist.append((si,i,sr))\n",
    "        pathlist.append(srlist)\n",
    "    si_list.append(pathlist)"
   ]
  },
  {
   "cell_type": "code",
   "execution_count": 11,
   "metadata": {
    "scrolled": true
   },
   "outputs": [
    {
     "data": {
      "text/plain": [
       "[[[(111, 0, ('(1_beginning)', '(M1)')),\n",
       "   (111, 0, ('(M1)', '(4->5)')),\n",
       "   (111, 0, ('(4->5)', '(M2)')),\n",
       "   (111, 0, ('(M2)', '(M3)')),\n",
       "   (111, 0, ('(M3)', '(10->13)')),\n",
       "   (111, 0, ('(10->13)', '(M4)')),\n",
       "   (111, 0, ('(M4)', '(14_end)'))],\n",
       "  [(111, 1, ('(1_beginning)', '(M1)')),\n",
       "   (111, 1, ('(M1)', '(4->5)')),\n",
       "   (111, 1, ('(4->5)', '(M2)')),\n",
       "   (111, 1, ('(M2)', '(M3)')),\n",
       "   (111, 1, ('(M3)', '(11->12)')),\n",
       "   (111, 1, ('(11->12)', '(M4)')),\n",
       "   (111, 1, ('(M4)', '(14_end)'))],\n",
       "  [(111, 2, ('(1_beginning)', '(M1)')),\n",
       "   (111, 2, ('(M1)', '(4->5)')),\n",
       "   (111, 2, ('(4->5)', '(M2)')),\n",
       "   (111, 2, ('(M2)', '(7->8)')),\n",
       "   (111, 2, ('(7->8)', '(8->9)')),\n",
       "   (111, 2, ('(8->9)', '(9_end)'))],\n",
       "  [(111, 3, ('(2_beginning)', '(M1)')),\n",
       "   (111, 3, ('(M1)', '(4->5)')),\n",
       "   (111, 3, ('(4->5)', '(M2)')),\n",
       "   (111, 3, ('(M2)', '(M3)')),\n",
       "   (111, 3, ('(M3)', '(10->13)')),\n",
       "   (111, 3, ('(10->13)', '(M4)')),\n",
       "   (111, 3, ('(M4)', '(14_end)'))],\n",
       "  [(111, 4, ('(2_beginning)', '(M1)')),\n",
       "   (111, 4, ('(M1)', '(4->5)')),\n",
       "   (111, 4, ('(4->5)', '(M2)')),\n",
       "   (111, 4, ('(M2)', '(M3)')),\n",
       "   (111, 4, ('(M3)', '(11->12)')),\n",
       "   (111, 4, ('(11->12)', '(M4)')),\n",
       "   (111, 4, ('(M4)', '(14_end)'))],\n",
       "  [(111, 5, ('(2_beginning)', '(M1)')),\n",
       "   (111, 5, ('(M1)', '(4->5)')),\n",
       "   (111, 5, ('(4->5)', '(M2)')),\n",
       "   (111, 5, ('(M2)', '(7->8)')),\n",
       "   (111, 5, ('(7->8)', '(8->9)')),\n",
       "   (111, 5, ('(8->9)', '(9_end)'))],\n",
       "  [(111, 6, ('(3_beginning)', '(M1)')),\n",
       "   (111, 6, ('(M1)', '(4->5)')),\n",
       "   (111, 6, ('(4->5)', '(M2)')),\n",
       "   (111, 6, ('(M2)', '(M3)')),\n",
       "   (111, 6, ('(M3)', '(10->13)')),\n",
       "   (111, 6, ('(10->13)', '(M4)')),\n",
       "   (111, 6, ('(M4)', '(14_end)'))],\n",
       "  [(111, 7, ('(3_beginning)', '(M1)')),\n",
       "   (111, 7, ('(M1)', '(4->5)')),\n",
       "   (111, 7, ('(4->5)', '(M2)')),\n",
       "   (111, 7, ('(M2)', '(M3)')),\n",
       "   (111, 7, ('(M3)', '(11->12)')),\n",
       "   (111, 7, ('(11->12)', '(M4)')),\n",
       "   (111, 7, ('(M4)', '(14_end)'))],\n",
       "  [(111, 8, ('(3_beginning)', '(M1)')),\n",
       "   (111, 8, ('(M1)', '(4->5)')),\n",
       "   (111, 8, ('(4->5)', '(M2)')),\n",
       "   (111, 8, ('(M2)', '(7->8)')),\n",
       "   (111, 8, ('(7->8)', '(8->9)')),\n",
       "   (111, 8, ('(8->9)', '(9_end)'))]],\n",
       " [[(113, 0, ('(1_beginning)', '(M1)')),\n",
       "   (113, 0, ('(M1)', '(4->5)')),\n",
       "   (113, 0, ('(4->5)', '(M2)')),\n",
       "   (113, 0, ('(M2)', '(M3)')),\n",
       "   (113, 0, ('(M3)', '(10->13)')),\n",
       "   (113, 0, ('(10->13)', '(M4)')),\n",
       "   (113, 0, ('(M4)', '(14_end)'))],\n",
       "  [(113, 1, ('(1_beginning)', '(M1)')),\n",
       "   (113, 1, ('(M1)', '(4->5)')),\n",
       "   (113, 1, ('(4->5)', '(M2)')),\n",
       "   (113, 1, ('(M2)', '(M3)')),\n",
       "   (113, 1, ('(M3)', '(11->12)')),\n",
       "   (113, 1, ('(11->12)', '(M4)')),\n",
       "   (113, 1, ('(M4)', '(14_end)'))],\n",
       "  [(113, 2, ('(1_beginning)', '(M1)')),\n",
       "   (113, 2, ('(M1)', '(4->5)')),\n",
       "   (113, 2, ('(4->5)', '(M2)')),\n",
       "   (113, 2, ('(M2)', '(7->8)')),\n",
       "   (113, 2, ('(7->8)', '(8->9)')),\n",
       "   (113, 2, ('(8->9)', '(9_end)'))],\n",
       "  [(113, 3, ('(2_beginning)', '(M1)')),\n",
       "   (113, 3, ('(M1)', '(4->5)')),\n",
       "   (113, 3, ('(4->5)', '(M2)')),\n",
       "   (113, 3, ('(M2)', '(M3)')),\n",
       "   (113, 3, ('(M3)', '(10->13)')),\n",
       "   (113, 3, ('(10->13)', '(M4)')),\n",
       "   (113, 3, ('(M4)', '(14_end)'))],\n",
       "  [(113, 4, ('(2_beginning)', '(M1)')),\n",
       "   (113, 4, ('(M1)', '(4->5)')),\n",
       "   (113, 4, ('(4->5)', '(M2)')),\n",
       "   (113, 4, ('(M2)', '(M3)')),\n",
       "   (113, 4, ('(M3)', '(11->12)')),\n",
       "   (113, 4, ('(11->12)', '(M4)')),\n",
       "   (113, 4, ('(M4)', '(14_end)'))],\n",
       "  [(113, 5, ('(2_beginning)', '(M1)')),\n",
       "   (113, 5, ('(M1)', '(4->5)')),\n",
       "   (113, 5, ('(4->5)', '(M2)')),\n",
       "   (113, 5, ('(M2)', '(7->8)')),\n",
       "   (113, 5, ('(7->8)', '(8->9)')),\n",
       "   (113, 5, ('(8->9)', '(9_end)'))],\n",
       "  [(113, 6, ('(3_beginning)', '(M1)')),\n",
       "   (113, 6, ('(M1)', '(4->5)')),\n",
       "   (113, 6, ('(4->5)', '(M2)')),\n",
       "   (113, 6, ('(M2)', '(M3)')),\n",
       "   (113, 6, ('(M3)', '(10->13)')),\n",
       "   (113, 6, ('(10->13)', '(M4)')),\n",
       "   (113, 6, ('(M4)', '(14_end)'))],\n",
       "  [(113, 7, ('(3_beginning)', '(M1)')),\n",
       "   (113, 7, ('(M1)', '(4->5)')),\n",
       "   (113, 7, ('(4->5)', '(M2)')),\n",
       "   (113, 7, ('(M2)', '(M3)')),\n",
       "   (113, 7, ('(M3)', '(11->12)')),\n",
       "   (113, 7, ('(11->12)', '(M4)')),\n",
       "   (113, 7, ('(M4)', '(14_end)'))],\n",
       "  [(113, 8, ('(3_beginning)', '(M1)')),\n",
       "   (113, 8, ('(M1)', '(4->5)')),\n",
       "   (113, 8, ('(4->5)', '(M2)')),\n",
       "   (113, 8, ('(M2)', '(7->8)')),\n",
       "   (113, 8, ('(7->8)', '(8->9)')),\n",
       "   (113, 8, ('(8->9)', '(9_end)'))]]]"
      ]
     },
     "execution_count": 11,
     "metadata": {},
     "output_type": "execute_result"
    }
   ],
   "source": [
    "si_list"
   ]
  },
  {
   "cell_type": "code",
   "execution_count": 12,
   "metadata": {},
   "outputs": [],
   "source": [
    "def recursive_len(item):\n",
    "    if type(item) == list:\n",
    "        return sum(recursive_len(subitem) for subitem in item)\n",
    "    else:\n",
    "        return 1"
   ]
  },
  {
   "cell_type": "code",
   "execution_count": 13,
   "metadata": {},
   "outputs": [
    {
     "data": {
      "text/plain": [
       "286"
      ]
     },
     "execution_count": 13,
     "metadata": {},
     "output_type": "execute_result"
    }
   ],
   "source": [
    "t_len = recursive_len(si_list)\n",
    "x_len = 0\n",
    "delta_len = 0\n",
    "for si in service_intentions:\n",
    "    x_len += len(route_graphs[si].edges)\n",
    "    delta_len += len(paths[si])\n",
    "total_length = t_len*2 + x_len + delta_len\n",
    "total_length"
   ]
  },
  {
   "cell_type": "markdown",
   "metadata": {},
   "source": [
    "### Variables\n",
    "\n",
    "|t_in| = sum of the length of all service intentions, total number of paths per si and route sections per path  \n",
    "|t_out| same as t_in  \n",
    "\n",
    "|x| all service intentions and their route sections\n",
    "\n",
    "|delta| all service intentions and their paths\n",
    "\n",
    "$v = [t_{in}, t_{out} , x, \\delta]$"
   ]
  },
  {
   "cell_type": "markdown",
   "metadata": {},
   "source": [
    "#### Minimize objective function"
   ]
  },
  {
   "cell_type": "markdown",
   "metadata": {},
   "source": [
    "$J(x)=\\{ \\frac{1}{60} \\sum_{SI, R, RS} win_{rs}max(0, \n",
    "t_{si,r,rs}^{in} - LatIn_{si,rs}) + wout_{rs} max(0, t_{si,r,rs}^{out} - LatOut_{si,rs}) + p_{si,rs}x_{si,rs} \\}$  \n",
    "\n"
   ]
  },
  {
   "cell_type": "markdown",
   "metadata": {},
   "source": [
    "#### Subject to"
   ]
  },
  {
   "cell_type": "markdown",
   "metadata": {},
   "source": [
    "time into a section comes before time out: \n",
    "\n",
    "\n",
    "(1)  $t_{si,r,rs}^{in} \\leq t_{si,r,rs}^{out}$  \n",
    "\n",
    "time into next section comes after time out from previous section:  \n",
    "(2)  $t_{si,r,rs}^{out} \\leq t_{si,r,rs+1}^{in}$\n",
    "\n",
    "if r is the selected path, satisfy minimum running and stopping time:  \n",
    "(3)  $t_{si,r,rs}^{out} - t_{si,r,rs}^{in} \\geq mrt_{si, r, rs} + mst_{si, r, rs} - M(1-\\delta_{si,r})$\n",
    "\n",
    "Earliest in constraint:  \n",
    "(4)  $t_{si,r,rs}^{in} \\geq EarIn_{si,r,rs} - M(1-\\delta_{si,r})$  \n",
    "\n",
    "Earliest out constraint:  \n",
    "(5)  $t_{si,r,rs}^{out} \\geq EarOut_{si,r,rs} - M(1-\\delta_{si,r})$\n",
    "\n",
    "Select only one path to every service:  \n",
    "(6)  $\\sum_{r \\in P} \\delta_{si,r} = 1$\n",
    "\n",
    "\n"
   ]
  },
  {
   "cell_type": "code",
   "execution_count": 14,
   "metadata": {},
   "outputs": [],
   "source": [
    "def str_to_sec(s):\n",
    "    s=s.split(':')\n",
    "    return int(s[0])*60*60+int(s[1])*60+int(s[2])"
   ]
  },
  {
   "cell_type": "markdown",
   "metadata": {},
   "source": [
    "### Matrix approach"
   ]
  },
  {
   "cell_type": "code",
   "execution_count": 15,
   "metadata": {},
   "outputs": [
    {
     "name": "stdout",
     "output_type": "stream",
     "text": [
      "18\n"
     ]
    }
   ],
   "source": [
    "\n",
    "A = np.array([])\n",
    "b = []\n",
    "\n",
    "#load (1)\n",
    "i = 0\n",
    "for si in si_list:\n",
    "    for r in si:\n",
    "        for rs in r:\n",
    "            temp = np.zeros(total_length)\n",
    "            temp[i] = 1 #tin\n",
    "            temp[i+t_len] = -1 #tout\n",
    "            b.append(0)\n",
    "            i+=1\n",
    "            if len(A)==0:\n",
    "                A = temp\n",
    "            else:\n",
    "                A = np.vstack((A,temp))\n",
    "#load (2)\n",
    "i = 0\n",
    "for si in si_list:\n",
    "    for r in si:\n",
    "        for j, rs in enumerate(r):\n",
    "            if j!=len(r)-1:\n",
    "                temp = np.zeros(total_length)\n",
    "                temp[i+1] = -1 #tin\n",
    "                temp[i+t_len] = 1 #tout\n",
    "                b.append(0)\n",
    "\n",
    "                if len(A)==0:\n",
    "                    A = temp\n",
    "                else:\n",
    "                    A = np.vstack((A,temp))\n",
    "            i+=1\n",
    "\n",
    "#load (3)\n",
    "i = 0\n",
    "j = 0\n",
    "M = 1000000\n",
    "for si, si_id in zip(si_list, service_intentions):\n",
    "    for r in si:\n",
    "        for rs in r:\n",
    "                edge_data = route_graphs[si_id].edges[rs[2]]['edge_data']\n",
    "            \n",
    "                if ('min_stopping_time' in edge_data) or ('minimum_running_time' in edge_data):\n",
    "                    mst = 0\n",
    "                    mrt = 0\n",
    "                    if 'min_stopping_time' in edge_data:\n",
    "                        mst = isodate.parse_duration(edge_data['min_stopping_time']).seconds\n",
    "                    if 'minimum_running_time' in edge_data:\n",
    "                        mrt = isodate.parse_duration(edge_data['minimum_running_time']).seconds\n",
    "                \n",
    "                    temp = np.zeros(total_length)\n",
    "                    temp[i] = 1 #tin\n",
    "                    temp[i+t_len+1] = -1 #tout\n",
    "                    temp[j+t_len+t_len+x_len] = M\n",
    "                    b.append(M-mst-mrt)\n",
    "                    \n",
    "                    if len(A)==0:\n",
    "                        A = temp\n",
    "                    else:\n",
    "                        A = np.vstack((A,temp))\n",
    "                i+=1\n",
    "        j+=1\n",
    "        \n",
    "print(j)        \n",
    "#load (4)\n",
    "i = 0\n",
    "j = 0\n",
    "M = 1000000\n",
    "for si, si_id in zip(si_list, service_intentions):\n",
    "    for r in si:\n",
    "        for rs in r:\n",
    "                edge_data = route_graphs[si_id].edges[rs[2]]['edge_data']\n",
    "            \n",
    "                if ('entry_earliest' in edge_data):\n",
    "                    EarIn = str_to_sec(edge_data['entry_earliest'])\n",
    "                        \n",
    "                    temp = np.zeros(total_length)\n",
    "                    temp[i] = -1 #tin\n",
    "                    temp[j+t_len+t_len+x_len] = M\n",
    "                    b.append(M-EarIn)\n",
    "                    if len(A)==0:\n",
    "                        A = temp\n",
    "                    else:\n",
    "                        A = np.vstack((A,temp))\n",
    "                i+=1\n",
    "        j+=1\n",
    "        \n",
    "\n",
    "#load (5)\n",
    "i = 0\n",
    "j = 0\n",
    "M = 1000000\n",
    "for si, si_id in zip(si_list, service_intentions):\n",
    "    for r in si:\n",
    "        for rs in r:\n",
    "                edge_data = route_graphs[si_id].edges[rs[2]]['edge_data']\n",
    "            \n",
    "                if ('exit_earliest' in edge_data):\n",
    "                    EarOut = str_to_sec(edge_data['exit_earliest'])\n",
    "                        \n",
    "                    temp = np.zeros(total_length)\n",
    "                    temp[i + t_len] = -1 #tin\n",
    "                    temp[j+t_len+t_len+x_len] = M\n",
    "                    b.append(M-EarOut)\n",
    "                    if len(A)==0:\n",
    "                        A = temp\n",
    "                    else:\n",
    "                        A = np.vstack((A,temp))\n",
    "                i+=1\n",
    "        j+=1\n",
    "b = np.array(b).astype('float64')\n",
    "c = np.array([1.0]*total_length)"
   ]
  },
  {
   "cell_type": "markdown",
   "metadata": {},
   "source": [
    "### Modelling approach"
   ]
  },
  {
   "cell_type": "code",
   "execution_count": 16,
   "metadata": {},
   "outputs": [],
   "source": [
    "from cvxopt.modeling import variable, op, max, sum, matrix"
   ]
  },
  {
   "cell_type": "code",
   "execution_count": 17,
   "metadata": {},
   "outputs": [],
   "source": [
    "\n",
    "tin = [variable(1)]*t_len\n",
    "tout = [variable(1)]*t_len\n",
    "#xs = [variable(1)]*x_len\n",
    "deltas = [variable(1)]*delta_len\n",
    "cs = []\n",
    "\n",
    "#load (1)\n",
    "i = 0\n",
    "for si in si_list:\n",
    "    for r in si:\n",
    "        for rs in r:\n",
    "            tcon = (tin[i]-tout[i] <= 0)\n",
    "            cs.append(tcon)\n",
    "            i+=1\n",
    "#load (2)\n",
    "i = 0\n",
    "for si in si_list:\n",
    "    for r in si:\n",
    "        for j, rs in enumerate(r):\n",
    "            if j!=len(r)-1:\n",
    "                tcon = (-tin[i+1]+tout[i] <= 0)\n",
    "                cs.append(tcon)\n",
    "            i+=1\n",
    "\n",
    "#load (3)\n",
    "i = 0\n",
    "j = 0\n",
    "M = 1000000\n",
    "for si, si_id in zip(si_list, service_intentions):\n",
    "    for r in si:\n",
    "        for rs in r:\n",
    "                edge_data = route_graphs[si_id].edges[rs[2]]['edge_data']\n",
    "            \n",
    "                if ('min_stopping_time' in edge_data) or ('minimum_running_time' in edge_data):\n",
    "                    mst = 0\n",
    "                    mrt = 0\n",
    "                    if 'min_stopping_time' in edge_data:\n",
    "                        mst = isodate.parse_duration(edge_data['min_stopping_time']).seconds\n",
    "                    if 'minimum_running_time' in edge_data:\n",
    "                        mrt = isodate.parse_duration(edge_data['minimum_running_time']).seconds\n",
    "                \n",
    "                    \n",
    "                    tcon = (tin[i] - tout[i] + M*deltas[j] <= M-mst-mrt)\n",
    "                    cs.append(tcon)\n",
    "                    \n",
    "                i+=1\n",
    "        j+=1\n",
    "           \n",
    "#load (4)\n",
    "i = 0\n",
    "j = 0\n",
    "M = 1000000\n",
    "for si, si_id in zip(si_list, service_intentions):\n",
    "    for r in si:\n",
    "        for rs in r:\n",
    "                edge_data = route_graphs[si_id].edges[rs[2]]['edge_data']\n",
    "            \n",
    "                if ('entry_earliest' in edge_data):\n",
    "                    EarIn = str_to_sec(edge_data['entry_earliest'])\n",
    "                    tcon = (-tin[i] + M*deltas[j] <= M-EarIn)\n",
    "                    cs.append(tcon)\n",
    "                    \n",
    "                i+=1\n",
    "        j+=1\n",
    "        \n",
    "\n",
    "#load (5)\n",
    "i = 0\n",
    "j = 0\n",
    "M = 1000000\n",
    "for si, si_id in zip(si_list, service_intentions):\n",
    "    for r in si:\n",
    "        for rs in r:\n",
    "                edge_data = route_graphs[si_id].edges[rs[2]]['edge_data']\n",
    "            \n",
    "                if ('exit_earliest' in edge_data):\n",
    "                    EarOut = str_to_sec(edge_data['exit_earliest'])\n",
    "                        \n",
    "                    tcon = (-tout[i] + M*deltas[j] <= M-EarOut)\n",
    "                    cs.append(tcon)\n",
    "                        \n",
    "                i+=1\n",
    "        j+=1\n",
    "\n",
    "\n",
    "#load (6)\n",
    "j = 0\n",
    "for si, si_id in zip(si_list, service_intentions):\n",
    "    tempsum = 0\n",
    "    for r in si:\n",
    "        tempsum += deltas[j]\n",
    "        j +=1\n",
    "    tcon = (tempsum == 1.0)\n",
    "    cs.append(tcon)\n",
    "    \n",
    "            "
   ]
  },
  {
   "cell_type": "code",
   "execution_count": 18,
   "metadata": {},
   "outputs": [],
   "source": [
    "objective = 0\n",
    "i = 0\n",
    "for si, si_id in zip(si_list, service_intentions):\n",
    "    for r in si:\n",
    "        for rs in r:\n",
    "            edge_data = route_graphs[si_id].edges[rs[2]]['edge_data']\n",
    "            if 'entry_delay_weight' in edge_data and 'entry_latest' in edge_data:\n",
    "                objective += float(edge_data['entry_delay_weight'])*max(0, tin[i]-str_to_sec(edge_data['entry_latest']))\n",
    "            if 'exit_delay_weight' in edge_data and 'exit_latest' in edge_data:\n",
    "                objective += float(edge_data['exit_delay_weight'])*max(0, tout[i]-str_to_sec(edge_data['exit_latest']))\n",
    "            i+=1\n",
    "i = 0\n",
    "for si, si_id in zip(si_list, service_intentions):\n",
    "    for edge in route_graphs[si_id].edges(data=True):\n",
    "        p = 0\n",
    "        if 'penalty' in edge[2]['edge_data']:\n",
    "            p = edge[2]['edge_data']['penalty']\n",
    "            if p == None:\n",
    "                p = 0\n",
    "            else:\n",
    "                p = float(p)\n",
    "            #objective += xs[i]*p\n",
    "        i+=1"
   ]
  },
  {
   "cell_type": "code",
   "execution_count": 19,
   "metadata": {},
   "outputs": [
    {
     "ename": "ValueError",
     "evalue": "Rank(A) < p or Rank([G; A]) < n",
     "output_type": "error",
     "traceback": [
      "\u001b[0;31m---------------------------------------------------------------------------\u001b[0m",
      "\u001b[0;31mArithmeticError\u001b[0m                           Traceback (most recent call last)",
      "\u001b[0;32m~/.local/lib/python3.6/site-packages/cvxopt/coneprog.py\u001b[0m in \u001b[0;36mconelp\u001b[0;34m(c, G, h, dims, A, b, primalstart, dualstart, kktsolver, xnewcopy, xdot, xaxpy, xscal, ynewcopy, ydot, yaxpy, yscal, **kwargs)\u001b[0m\n\u001b[1;32m    679\u001b[0m         \u001b[0;32mfor\u001b[0m \u001b[0mrti\u001b[0m \u001b[0;32min\u001b[0m \u001b[0mW\u001b[0m\u001b[0;34m[\u001b[0m\u001b[0;34m'rti'\u001b[0m\u001b[0;34m]\u001b[0m\u001b[0;34m:\u001b[0m \u001b[0mrti\u001b[0m\u001b[0;34m[\u001b[0m\u001b[0;34m:\u001b[0m\u001b[0;34m:\u001b[0m\u001b[0mrti\u001b[0m\u001b[0;34m.\u001b[0m\u001b[0msize\u001b[0m\u001b[0;34m[\u001b[0m\u001b[0;36m0\u001b[0m\u001b[0;34m]\u001b[0m\u001b[0;34m+\u001b[0m\u001b[0;36m1\u001b[0m \u001b[0;34m]\u001b[0m \u001b[0;34m=\u001b[0m \u001b[0;36m1.0\u001b[0m\u001b[0;34m\u001b[0m\u001b[0;34m\u001b[0m\u001b[0m\n\u001b[0;32m--> 680\u001b[0;31m         \u001b[0;32mtry\u001b[0m\u001b[0;34m:\u001b[0m \u001b[0mf\u001b[0m \u001b[0;34m=\u001b[0m \u001b[0mkktsolver\u001b[0m\u001b[0;34m(\u001b[0m\u001b[0mW\u001b[0m\u001b[0;34m)\u001b[0m\u001b[0;34m\u001b[0m\u001b[0;34m\u001b[0m\u001b[0m\n\u001b[0m\u001b[1;32m    681\u001b[0m         \u001b[0;32mexcept\u001b[0m \u001b[0mArithmeticError\u001b[0m\u001b[0;34m:\u001b[0m\u001b[0;34m\u001b[0m\u001b[0;34m\u001b[0m\u001b[0m\n",
      "\u001b[0;32m~/.local/lib/python3.6/site-packages/cvxopt/coneprog.py\u001b[0m in \u001b[0;36mkktsolver\u001b[0;34m(W)\u001b[0m\n\u001b[1;32m    584\u001b[0m         \u001b[0;32mdef\u001b[0m \u001b[0mkktsolver\u001b[0m\u001b[0;34m(\u001b[0m\u001b[0mW\u001b[0m\u001b[0;34m)\u001b[0m\u001b[0;34m:\u001b[0m\u001b[0;34m\u001b[0m\u001b[0;34m\u001b[0m\u001b[0m\n\u001b[0;32m--> 585\u001b[0;31m             \u001b[0;32mreturn\u001b[0m \u001b[0mfactor\u001b[0m\u001b[0;34m(\u001b[0m\u001b[0mW\u001b[0m\u001b[0;34m)\u001b[0m\u001b[0;34m\u001b[0m\u001b[0;34m\u001b[0m\u001b[0m\n\u001b[0m\u001b[1;32m    586\u001b[0m \u001b[0;34m\u001b[0m\u001b[0m\n",
      "\u001b[0;32m~/.local/lib/python3.6/site-packages/cvxopt/misc.py\u001b[0m in \u001b[0;36mfactor\u001b[0;34m(W, H, Df)\u001b[0m\n\u001b[1;32m   1471\u001b[0m             \u001b[0mblas\u001b[0m\u001b[0;34m.\u001b[0m\u001b[0msyrk\u001b[0m\u001b[0;34m(\u001b[0m\u001b[0mAsct\u001b[0m\u001b[0;34m,\u001b[0m \u001b[0mF\u001b[0m\u001b[0;34m[\u001b[0m\u001b[0;34m'K'\u001b[0m\u001b[0;34m]\u001b[0m\u001b[0;34m,\u001b[0m \u001b[0mtrans\u001b[0m \u001b[0;34m=\u001b[0m \u001b[0;34m'T'\u001b[0m\u001b[0;34m)\u001b[0m\u001b[0;34m\u001b[0m\u001b[0;34m\u001b[0m\u001b[0m\n\u001b[0;32m-> 1472\u001b[0;31m             \u001b[0mlapack\u001b[0m\u001b[0;34m.\u001b[0m\u001b[0mpotrf\u001b[0m\u001b[0;34m(\u001b[0m\u001b[0mF\u001b[0m\u001b[0;34m[\u001b[0m\u001b[0;34m'K'\u001b[0m\u001b[0;34m]\u001b[0m\u001b[0;34m)\u001b[0m\u001b[0;34m\u001b[0m\u001b[0;34m\u001b[0m\u001b[0m\n\u001b[0m\u001b[1;32m   1473\u001b[0m \u001b[0;34m\u001b[0m\u001b[0m\n",
      "\u001b[0;31mArithmeticError\u001b[0m: 2",
      "\nDuring handling of the above exception, another exception occurred:\n",
      "\u001b[0;31mValueError\u001b[0m                                Traceback (most recent call last)",
      "\u001b[0;32m<ipython-input-19-95f6c62ce7be>\u001b[0m in \u001b[0;36m<module>\u001b[0;34m\u001b[0m\n\u001b[1;32m      1\u001b[0m \u001b[0mlp\u001b[0m \u001b[0;34m=\u001b[0m \u001b[0mop\u001b[0m\u001b[0;34m(\u001b[0m\u001b[0mobjective\u001b[0m\u001b[0;34m,\u001b[0m \u001b[0mcs\u001b[0m\u001b[0;34m)\u001b[0m\u001b[0;34m\u001b[0m\u001b[0;34m\u001b[0m\u001b[0m\n\u001b[0;32m----> 2\u001b[0;31m \u001b[0mlp\u001b[0m\u001b[0;34m.\u001b[0m\u001b[0msolve\u001b[0m\u001b[0;34m(\u001b[0m\u001b[0;34m)\u001b[0m\u001b[0;34m\u001b[0m\u001b[0;34m\u001b[0m\u001b[0m\n\u001b[0m",
      "\u001b[0;32m~/.local/lib/python3.6/site-packages/cvxopt/modeling.py\u001b[0m in \u001b[0;36msolve\u001b[0;34m(self, format, solver, **kwargs)\u001b[0m\n\u001b[1;32m   2627\u001b[0m             \u001b[0mb\u001b[0m \u001b[0;34m=\u001b[0m \u001b[0mmatrix\u001b[0m\u001b[0;34m(\u001b[0m\u001b[0;36m0.0\u001b[0m\u001b[0;34m,\u001b[0m \u001b[0;34m(\u001b[0m\u001b[0;36m0\u001b[0m\u001b[0;34m,\u001b[0m\u001b[0;36m1\u001b[0m\u001b[0;34m)\u001b[0m\u001b[0;34m)\u001b[0m\u001b[0;34m\u001b[0m\u001b[0;34m\u001b[0m\u001b[0m\n\u001b[1;32m   2628\u001b[0m \u001b[0;34m\u001b[0m\u001b[0m\n\u001b[0;32m-> 2629\u001b[0;31m         \u001b[0msol\u001b[0m \u001b[0;34m=\u001b[0m \u001b[0msolvers\u001b[0m\u001b[0;34m.\u001b[0m\u001b[0mlp\u001b[0m\u001b[0;34m(\u001b[0m\u001b[0mc\u001b[0m\u001b[0;34m[\u001b[0m\u001b[0;34m:\u001b[0m\u001b[0;34m]\u001b[0m\u001b[0;34m,\u001b[0m \u001b[0mG\u001b[0m\u001b[0;34m,\u001b[0m \u001b[0mh\u001b[0m\u001b[0;34m,\u001b[0m \u001b[0mA\u001b[0m\u001b[0;34m,\u001b[0m \u001b[0mb\u001b[0m\u001b[0;34m,\u001b[0m \u001b[0msolver\u001b[0m\u001b[0;34m=\u001b[0m\u001b[0msolver\u001b[0m\u001b[0;34m,\u001b[0m \u001b[0;34m**\u001b[0m\u001b[0mkwargs\u001b[0m\u001b[0;34m)\u001b[0m\u001b[0;34m\u001b[0m\u001b[0;34m\u001b[0m\u001b[0m\n\u001b[0m\u001b[1;32m   2630\u001b[0m \u001b[0;34m\u001b[0m\u001b[0m\n\u001b[1;32m   2631\u001b[0m         \u001b[0mx\u001b[0m\u001b[0;34m.\u001b[0m\u001b[0mvalue\u001b[0m \u001b[0;34m=\u001b[0m \u001b[0msol\u001b[0m\u001b[0;34m[\u001b[0m\u001b[0;34m'x'\u001b[0m\u001b[0;34m]\u001b[0m\u001b[0;34m\u001b[0m\u001b[0;34m\u001b[0m\u001b[0m\n",
      "\u001b[0;32m~/.local/lib/python3.6/site-packages/cvxopt/coneprog.py\u001b[0m in \u001b[0;36mlp\u001b[0;34m(c, G, h, A, b, kktsolver, solver, primalstart, dualstart, **kwargs)\u001b[0m\n\u001b[1;32m   3008\u001b[0m \u001b[0;34m\u001b[0m\u001b[0m\n\u001b[1;32m   3009\u001b[0m     return conelp(c, G, h, {'l': m, 'q': [], 's': []}, A,  b, primalstart,\n\u001b[0;32m-> 3010\u001b[0;31m         dualstart, kktsolver = kktsolver, options = options)\n\u001b[0m\u001b[1;32m   3011\u001b[0m \u001b[0;34m\u001b[0m\u001b[0m\n\u001b[1;32m   3012\u001b[0m \u001b[0;34m\u001b[0m\u001b[0m\n",
      "\u001b[0;32m~/.local/lib/python3.6/site-packages/cvxopt/coneprog.py\u001b[0m in \u001b[0;36mconelp\u001b[0;34m(c, G, h, dims, A, b, primalstart, dualstart, kktsolver, xnewcopy, xdot, xaxpy, xscal, ynewcopy, ydot, yaxpy, yscal, **kwargs)\u001b[0m\n\u001b[1;32m    680\u001b[0m         \u001b[0;32mtry\u001b[0m\u001b[0;34m:\u001b[0m \u001b[0mf\u001b[0m \u001b[0;34m=\u001b[0m \u001b[0mkktsolver\u001b[0m\u001b[0;34m(\u001b[0m\u001b[0mW\u001b[0m\u001b[0;34m)\u001b[0m\u001b[0;34m\u001b[0m\u001b[0;34m\u001b[0m\u001b[0m\n\u001b[1;32m    681\u001b[0m         \u001b[0;32mexcept\u001b[0m \u001b[0mArithmeticError\u001b[0m\u001b[0;34m:\u001b[0m\u001b[0;34m\u001b[0m\u001b[0;34m\u001b[0m\u001b[0m\n\u001b[0;32m--> 682\u001b[0;31m             \u001b[0;32mraise\u001b[0m \u001b[0mValueError\u001b[0m\u001b[0;34m(\u001b[0m\u001b[0;34m\"Rank(A) < p or Rank([G; A]) < n\"\u001b[0m\u001b[0;34m)\u001b[0m\u001b[0;34m\u001b[0m\u001b[0;34m\u001b[0m\u001b[0m\n\u001b[0m\u001b[1;32m    683\u001b[0m \u001b[0;34m\u001b[0m\u001b[0m\n\u001b[1;32m    684\u001b[0m     \u001b[0;32mif\u001b[0m \u001b[0mprimalstart\u001b[0m \u001b[0;32mis\u001b[0m \u001b[0;32mNone\u001b[0m\u001b[0;34m:\u001b[0m\u001b[0;34m\u001b[0m\u001b[0;34m\u001b[0m\u001b[0m\n",
      "\u001b[0;31mValueError\u001b[0m: Rank(A) < p or Rank([G; A]) < n"
     ]
    }
   ],
   "source": [
    "lp = op(objective, cs)\n",
    "lp.solve()"
   ]
  },
  {
   "cell_type": "code",
   "execution_count": 20,
   "metadata": {},
   "outputs": [],
   "source": [
    "from cvxopt.modeling import variable, op, max, sum, matrix"
   ]
  },
  {
   "cell_type": "code",
   "execution_count": 21,
   "metadata": {},
   "outputs": [],
   "source": [
    "A = [[2.,1.,-1.,0.], [1.,2.,0.,-1.]]\n",
    "b = [3.,3.,0.,0.]\n",
    "c = [-4.,-5.]"
   ]
  },
  {
   "cell_type": "code",
   "execution_count": 22,
   "metadata": {},
   "outputs": [
    {
     "ename": "NameError",
     "evalue": "name 'dot' is not defined",
     "output_type": "error",
     "traceback": [
      "\u001b[0;31m---------------------------------------------------------------------------\u001b[0m",
      "\u001b[0;31mNameError\u001b[0m                                 Traceback (most recent call last)",
      "\u001b[0;32m<ipython-input-22-051b4b941fb7>\u001b[0m in \u001b[0;36m<module>\u001b[0;34m\u001b[0m\n\u001b[1;32m      4\u001b[0m \u001b[0mc\u001b[0m \u001b[0;34m=\u001b[0m \u001b[0mmatrix\u001b[0m\u001b[0;34m(\u001b[0m\u001b[0mc\u001b[0m\u001b[0;34m)\u001b[0m\u001b[0;34m\u001b[0m\u001b[0;34m\u001b[0m\u001b[0m\n\u001b[1;32m      5\u001b[0m \u001b[0mineq\u001b[0m \u001b[0;34m=\u001b[0m \u001b[0;34m(\u001b[0m \u001b[0mA\u001b[0m\u001b[0;34m*\u001b[0m\u001b[0mx\u001b[0m \u001b[0;34m<=\u001b[0m \u001b[0mb\u001b[0m \u001b[0;34m)\u001b[0m\u001b[0;34m\u001b[0m\u001b[0;34m\u001b[0m\u001b[0m\n\u001b[0;32m----> 6\u001b[0;31m \u001b[0mobj\u001b[0m \u001b[0;34m=\u001b[0m \u001b[0mdot\u001b[0m\u001b[0;34m(\u001b[0m\u001b[0mc\u001b[0m\u001b[0;34m,\u001b[0m\u001b[0mx\u001b[0m\u001b[0;34m)\u001b[0m\u001b[0;34m\u001b[0m\u001b[0;34m\u001b[0m\u001b[0m\n\u001b[0m\u001b[1;32m      7\u001b[0m \u001b[0mlp2\u001b[0m \u001b[0;34m=\u001b[0m \u001b[0mop\u001b[0m\u001b[0;34m(\u001b[0m\u001b[0mobj\u001b[0m\u001b[0;34m,\u001b[0m \u001b[0mineq\u001b[0m\u001b[0;34m)\u001b[0m\u001b[0;34m\u001b[0m\u001b[0;34m\u001b[0m\u001b[0m\n\u001b[1;32m      8\u001b[0m \u001b[0mlp2\u001b[0m\u001b[0;34m.\u001b[0m\u001b[0msolve\u001b[0m\u001b[0;34m(\u001b[0m\u001b[0;34m)\u001b[0m\u001b[0;34m\u001b[0m\u001b[0;34m\u001b[0m\u001b[0m\n",
      "\u001b[0;31mNameError\u001b[0m: name 'dot' is not defined"
     ]
    }
   ],
   "source": [
    "x = variable(2)\n",
    "A = matrix(A)\n",
    "b = matrix(b)\n",
    "c = matrix(c)\n",
    "ineq = ( A*x <= b )\n",
    "obj = dot(c,x)\n",
    "lp2 = op(obj, ineq)\n",
    "lp2.solve()"
   ]
  },
  {
   "cell_type": "code",
   "execution_count": 23,
   "metadata": {},
   "outputs": [
    {
     "name": "stdout",
     "output_type": "stream",
     "text": [
      "     pcost       dcost       gap    pres   dres   k/t\n",
      " 0: -1.1350e+01 -2.0812e+01  7e+00  0e+00  5e-01  1e+00\n",
      " 1: -1.1943e+01 -1.4696e+01  2e+00  2e-16  1e-01  3e-01\n",
      " 2: -1.1999e+01 -1.2027e+01  2e-02  1e-16  1e-03  3e-03\n",
      " 3: -1.2000e+01 -1.2000e+01  2e-04  2e-16  1e-05  3e-05\n",
      " 4: -1.2000e+01 -1.2000e+01  2e-06  2e-16  1e-07  3e-07\n",
      " 5: -1.2000e+01 -1.2000e+01  2e-08  1e-16  1e-09  3e-09\n",
      "Optimal solution found.\n",
      "[ 3.00e+00]\n",
      "\n"
     ]
    }
   ],
   "source": [
    "from cvxopt.modeling import op\n",
    "xs = []\n",
    "for i in range(2):\n",
    "    temp = variable()\n",
    "    xs.append(temp)\n",
    "c1 = ( 0.3*xs[0]+0.1*xs[1] <= 2.7 )\n",
    "c2 = ( xs[0]+2*xs[1] <= 3 )\n",
    "c3 = ( xs[0] >= 2 )\n",
    "c4 = ( xs[1] >= 0 )\n",
    "lp1 = op(-4*xs[0]-5*xs[1], [c1,c2,c3,c4])\n",
    "lp1.solve()\n",
    "lp1.status\n",
    "print(xs[0].value)"
   ]
  },
  {
   "cell_type": "code",
   "execution_count": 24,
   "metadata": {},
   "outputs": [
    {
     "data": {
      "text/plain": [
       "{'penalty': None,\n",
       " 'minimum_running_time': 'PT32S',\n",
       " 'section_marker': 'C',\n",
       " 'start_end': 'end',\n",
       " 'exit_latest': '08:16:00',\n",
       " 'entry_delay_weight': 1,\n",
       " 'exit_delay_weight': 1,\n",
       " 'sequence_number': 9}"
      ]
     },
     "execution_count": 24,
     "metadata": {},
     "output_type": "execute_result"
    }
   ],
   "source": [
    "edge_data"
   ]
  },
  {
   "cell_type": "code",
   "execution_count": 25,
   "metadata": {},
   "outputs": [
    {
     "data": {
      "text/plain": [
       "<bound method OutEdgeView.data of OutEdgeView([('(1_beginning)', '(M1)'), ('(M1)', '(4->5)'), ('(4->5)', '(M2)'), ('(M2)', '(M3)'), ('(M2)', '(7->8)'), ('(M3)', '(10->13)'), ('(M3)', '(11->12)'), ('(10->13)', '(M4)'), ('(M4)', '(14_end)'), ('(2_beginning)', '(M1)'), ('(3_beginning)', '(M1)'), ('(7->8)', '(8->9)'), ('(8->9)', '(9_end)'), ('(11->12)', '(M4)')])>"
      ]
     },
     "execution_count": 25,
     "metadata": {},
     "output_type": "execute_result"
    }
   ],
   "source": [
    "route_graphs[111].edges.data"
   ]
  },
  {
   "cell_type": "code",
   "execution_count": null,
   "metadata": {},
   "outputs": [],
   "source": []
  },
  {
   "cell_type": "code",
   "execution_count": 26,
   "metadata": {},
   "outputs": [],
   "source": [
    "import cvxpy"
   ]
  },
  {
   "cell_type": "code",
   "execution_count": null,
   "metadata": {},
   "outputs": [],
   "source": []
  }
 ],
 "metadata": {
  "kernelspec": {
   "display_name": "Python 3",
   "language": "python",
   "name": "python3"
  },
  "language_info": {
   "codemirror_mode": {
    "name": "ipython",
    "version": 3
   },
   "file_extension": ".py",
   "mimetype": "text/x-python",
   "name": "python",
   "nbconvert_exporter": "python",
   "pygments_lexer": "ipython3",
   "version": "3.6.9"
  }
 },
 "nbformat": 4,
 "nbformat_minor": 1
}
