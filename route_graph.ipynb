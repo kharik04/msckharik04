{
 "cells": [
  {
   "cell_type": "markdown",
   "metadata": {
    "collapsed": true
   },
   "source": [
    "# Construction of Route Graphs"
   ]
  },
  {
   "cell_type": "code",
   "execution_count": 1,
   "metadata": {},
   "outputs": [],
   "source": [
    "import json\n",
    "import time\n",
    "import networkx as nx\n",
    "import matplotlib.pyplot as plt\n",
    "import numpy as np\n",
    "import isodate\n",
    "import cvxpy as cp"
   ]
  },
  {
   "cell_type": "markdown",
   "metadata": {},
   "source": [
    "### Load Json"
   ]
  },
  {
   "cell_type": "code",
   "execution_count": 2,
   "metadata": {},
   "outputs": [],
   "source": [
    "scenario = \"sample_scenario.json\"  # adjust path to the sample instance if it is not located there\n",
    "with open(scenario) as fp:\n",
    "    scenario = json.load(fp)"
   ]
  },
  {
   "cell_type": "markdown",
   "metadata": {},
   "source": [
    "### Process section requirements"
   ]
  },
  {
   "cell_type": "code",
   "execution_count": 3,
   "metadata": {},
   "outputs": [],
   "source": [
    "service_intentions = {}\n",
    "for si in scenario['service_intentions']:\n",
    "    requirements = {}\n",
    "    for i,req in enumerate(si['section_requirements']):\n",
    "        requirements[req['section_marker']] = {key:value for key,value in req.items()}\n",
    "        if i == 0:\n",
    "            requirements[req['section_marker']]['start_end'] = 'start'\n",
    "        elif i == len(si['section_requirements']) - 1:\n",
    "            requirements[req['section_marker']]['start_end'] = 'end'\n",
    "        else: \n",
    "            requirements[req['section_marker']]['start_end'] = None\n",
    "    service_intentions[si['id']] = requirements"
   ]
  },
  {
   "cell_type": "markdown",
   "metadata": {},
   "source": [
    "### Printing of nodes"
   ]
  },
  {
   "cell_type": "code",
   "execution_count": 4,
   "metadata": {},
   "outputs": [],
   "source": [
    "def from_node_id(route_path, route_section, index_in_path):\n",
    "    if \"route_alternative_marker_at_entry\" in route_section.keys() and \\\n",
    "            route_section[\"route_alternative_marker_at_entry\"] is not None and \\\n",
    "            len(route_section[\"route_alternative_marker_at_entry\"]) > 0:\n",
    "                return \"(\" + str(route_section[\"route_alternative_marker_at_entry\"][0]) + \")\"\n",
    "    else:\n",
    "        if index_in_path == 0:  # can only get here if this node is a very beginning of a route\n",
    "            return \"(\" + str(route_section[\"sequence_number\"]) + \"_beginning)\"\n",
    "        else:\n",
    "            return \"(\" + (str(route_path[\"route_sections\"][index_in_path - 1][\"sequence_number\"]) + \"->\" +\n",
    "                          str(route_section[\"sequence_number\"])) + \")\"\n",
    "def to_node_id(route_path, route_section, index_in_path):\n",
    "    if \"route_alternative_marker_at_exit\" in route_section.keys() and \\\n",
    "            route_section[\"route_alternative_marker_at_exit\"] is not None and \\\n",
    "            len(route_section[\"route_alternative_marker_at_exit\"]) > 0:\n",
    "\n",
    "                return \"(\" + str(route_section[\"route_alternative_marker_at_exit\"][0]) + \")\"\n",
    "    else:\n",
    "        if index_in_path == (len(route_path[\"route_sections\"]) - 1): # meaning this node is a very end of a route\n",
    "            return \"(\" + str(route_section[\"sequence_number\"]) + \"_end\" + \")\"\n",
    "        else:\n",
    "            return \"(\" + (str(route_section[\"sequence_number\"]) + \"->\" +\n",
    "                          str(route_path[\"route_sections\"][index_in_path + 1][\"sequence_number\"])) + \")\""
   ]
  },
  {
   "cell_type": "markdown",
   "metadata": {},
   "source": [
    "### Construct graph for every SI, and appropriate edge constraints"
   ]
  },
  {
   "cell_type": "code",
   "execution_count": 5,
   "metadata": {},
   "outputs": [],
   "source": [
    "route_section_keys = ['penalty', 'minimum_running_time']\n",
    "section_requirement_keys = ['start_end','min_stopping_time', 'entry_earliest', 'entry_latest',\n",
    "                           'exit_earliest', 'exit_latest', 'entry_delay_weight',\n",
    "                           'exit_delay_weight']"
   ]
  },
  {
   "cell_type": "code",
   "execution_count": 6,
   "metadata": {},
   "outputs": [
    {
     "name": "stdout",
     "output_type": "stream",
     "text": [
      "\n",
      "Constructing route graph for route 111\n",
      "new route\n",
      "Adding Edge from (1_beginning) to (M1) with sequence number 1\n",
      "{'penalty': None, 'minimum_running_time': 'PT53S', 'section_marker': 'A', 'start_end': 'start', 'entry_earliest': '08:20:00', 'entry_delay_weight': 1, 'exit_delay_weight': 1, 'sequence_number': 1}\n",
      "Adding Edge from (M1) to (4->5) with sequence number 4\n",
      "{'penalty': None, 'minimum_running_time': 'PT32S', 'section_marker': None, 'sequence_number': 4}\n",
      "Adding Edge from (4->5) to (M2) with sequence number 5\n",
      "{'penalty': None, 'minimum_running_time': 'PT32S', 'section_marker': 'B', 'start_end': None, 'min_stopping_time': 'PT3M', 'exit_earliest': '08:30:00', 'entry_delay_weight': 1, 'exit_delay_weight': 1, 'sequence_number': 5}\n",
      "Adding Edge from (M2) to (M3) with sequence number 6\n",
      "{'penalty': None, 'minimum_running_time': 'PT32S', 'section_marker': None, 'sequence_number': 6}\n",
      "Adding Edge from (M3) to (10->13) with sequence number 10\n",
      "{'penalty': None, 'minimum_running_time': 'PT32S', 'section_marker': None, 'sequence_number': 10}\n",
      "Adding Edge from (10->13) to (M4) with sequence number 13\n",
      "{'penalty': None, 'minimum_running_time': 'PT32S', 'section_marker': None, 'sequence_number': 13}\n",
      "Adding Edge from (M4) to (14_end) with sequence number 14\n",
      "{'penalty': None, 'minimum_running_time': 'PT32S', 'section_marker': 'C', 'start_end': 'end', 'exit_latest': '08:50:00', 'entry_delay_weight': 1, 'exit_delay_weight': 1, 'sequence_number': 14}\n",
      "new route\n",
      "Adding Edge from (2_beginning) to (M1) with sequence number 2\n",
      "{'penalty': None, 'minimum_running_time': 'PT53S', 'section_marker': 'A', 'start_end': 'start', 'entry_earliest': '08:20:00', 'entry_delay_weight': 1, 'exit_delay_weight': 1, 'sequence_number': 2}\n",
      "new route\n",
      "Adding Edge from (3_beginning) to (M1) with sequence number 3\n",
      "{'penalty': None, 'minimum_running_time': 'PT53S', 'section_marker': 'A', 'start_end': 'start', 'entry_earliest': '08:20:00', 'entry_delay_weight': 1, 'exit_delay_weight': 1, 'sequence_number': 3}\n",
      "new route\n",
      "Adding Edge from (M2) to (7->8) with sequence number 7\n",
      "{'penalty': None, 'minimum_running_time': 'PT32S', 'section_marker': None, 'sequence_number': 7}\n",
      "Adding Edge from (7->8) to (8->9) with sequence number 8\n",
      "{'penalty': None, 'minimum_running_time': 'PT32S', 'section_marker': None, 'sequence_number': 8}\n",
      "Adding Edge from (8->9) to (9_end) with sequence number 9\n",
      "{'penalty': None, 'minimum_running_time': 'PT32S', 'section_marker': 'C', 'start_end': 'end', 'exit_latest': '08:50:00', 'entry_delay_weight': 1, 'exit_delay_weight': 1, 'sequence_number': 9}\n",
      "new route\n",
      "Adding Edge from (M3) to (11->12) with sequence number 11\n",
      "{'penalty': None, 'minimum_running_time': 'PT32S', 'section_marker': None, 'sequence_number': 11}\n",
      "Adding Edge from (11->12) to (M4) with sequence number 12\n",
      "{'penalty': None, 'minimum_running_time': 'PT32S', 'section_marker': None, 'sequence_number': 12}\n",
      "\n",
      "Constructing route graph for route 113\n",
      "new route\n",
      "Adding Edge from (1_beginning) to (M1) with sequence number 1\n",
      "{'penalty': None, 'minimum_running_time': 'PT53S', 'section_marker': 'A', 'start_end': 'start', 'entry_earliest': '07:50:00', 'entry_delay_weight': 1, 'exit_delay_weight': 1, 'sequence_number': 1}\n",
      "Adding Edge from (M1) to (4->5) with sequence number 4\n",
      "{'penalty': None, 'minimum_running_time': 'PT32S', 'section_marker': None, 'sequence_number': 4}\n",
      "Adding Edge from (4->5) to (M2) with sequence number 5\n",
      "{'penalty': None, 'minimum_running_time': 'PT32S', 'section_marker': 'B', 'sequence_number': 5}\n",
      "Adding Edge from (M2) to (M3) with sequence number 6\n",
      "{'penalty': None, 'minimum_running_time': 'PT32S', 'section_marker': None, 'sequence_number': 6}\n",
      "Adding Edge from (M3) to (10->13) with sequence number 10\n",
      "{'penalty': None, 'minimum_running_time': 'PT32S', 'section_marker': None, 'sequence_number': 10}\n",
      "Adding Edge from (10->13) to (M4) with sequence number 13\n",
      "{'penalty': None, 'minimum_running_time': 'PT32S', 'section_marker': None, 'sequence_number': 13}\n",
      "Adding Edge from (M4) to (14_end) with sequence number 14\n",
      "{'penalty': None, 'minimum_running_time': 'PT32S', 'section_marker': 'C', 'start_end': 'end', 'exit_latest': '08:16:00', 'entry_delay_weight': 1, 'exit_delay_weight': 1, 'sequence_number': 14}\n",
      "new route\n",
      "Adding Edge from (2_beginning) to (M1) with sequence number 2\n",
      "{'penalty': None, 'minimum_running_time': 'PT53S', 'section_marker': 'A', 'start_end': 'start', 'entry_earliest': '07:50:00', 'entry_delay_weight': 1, 'exit_delay_weight': 1, 'sequence_number': 2}\n",
      "new route\n",
      "Adding Edge from (3_beginning) to (M1) with sequence number 3\n",
      "{'penalty': None, 'minimum_running_time': 'PT53S', 'section_marker': 'A', 'start_end': 'start', 'entry_earliest': '07:50:00', 'entry_delay_weight': 1, 'exit_delay_weight': 1, 'sequence_number': 3}\n",
      "new route\n",
      "Adding Edge from (M2) to (7->8) with sequence number 7\n",
      "{'penalty': None, 'minimum_running_time': 'PT32S', 'section_marker': None, 'sequence_number': 7}\n",
      "Adding Edge from (7->8) to (8->9) with sequence number 8\n",
      "{'penalty': None, 'minimum_running_time': 'PT32S', 'section_marker': None, 'sequence_number': 8}\n",
      "Adding Edge from (8->9) to (9_end) with sequence number 9\n",
      "{'penalty': None, 'minimum_running_time': 'PT32S', 'section_marker': 'C', 'start_end': 'end', 'exit_latest': '08:16:00', 'entry_delay_weight': 1, 'exit_delay_weight': 1, 'sequence_number': 9}\n",
      "new route\n",
      "Adding Edge from (M3) to (11->12) with sequence number 11\n",
      "{'penalty': None, 'minimum_running_time': 'PT32S', 'section_marker': None, 'sequence_number': 11}\n",
      "Adding Edge from (11->12) to (M4) with sequence number 12\n",
      "{'penalty': None, 'minimum_running_time': 'PT32S', 'section_marker': None, 'sequence_number': 12}\n",
      "Finished building fahrweg-graphen in 0.0019335746765136719 seconds\n"
     ]
    }
   ],
   "source": [
    "start_time = time.time()\n",
    "\n",
    "# now build the graph. Nodes are called \"previous_FAB -> next_FAB\" within lineare abschnittsfolgen and \"AK\" if\n",
    "# there is an Abschnittskennzeichen 'AK' on it\n",
    "route_graphs = dict()\n",
    "for route in scenario[\"routes\"]:# iterates over si?\n",
    "    \n",
    "    print(f\"\\nConstructing route graph for route {route['id']}\")\n",
    "    # set global graph settings\n",
    "    G = nx.DiGraph(route_id = route[\"id\"], name=\"Route-Graph for route \"+str(route[\"id\"]))\n",
    "\n",
    "    # add edges with data contained in the preprocessed graph\n",
    "    for path in route[\"route_paths\"]:#iterate over admissible routes\n",
    "        print('new route')\n",
    "        for (i, route_section) in enumerate(path[\"route_sections\"]):\n",
    "            sn = route_section['sequence_number']\n",
    "            print(\"Adding Edge from {} to {} with sequence number {}\".format(from_node_id(path, route_section, i), to_node_id(path, route_section, i), sn))\n",
    "            edge_data = {}\n",
    "            for key in route_section_keys:\n",
    "                if key in route_section:\n",
    "                    edge_data[key] = route_section[key]\n",
    "                else:\n",
    "                    edge_data[key] = None\n",
    "            #get section marker\n",
    "            section_marker = None\n",
    "            if 'section_marker' in route_section:\n",
    "                section_marker = route_section['section_marker'][0]\n",
    "            edge_data['section_marker'] = section_marker\n",
    "            \n",
    "            if section_marker in service_intentions[route['id']]:\n",
    "                for key in section_requirement_keys:\n",
    "                    if key in service_intentions[route['id']][section_marker]:\n",
    "                            edge_data[key] = service_intentions[route['id']][section_marker][key]\n",
    "        \n",
    "            edge_data['sequence_number'] = sn\n",
    "            \n",
    "            print(edge_data)\n",
    "            G.add_edge(from_node_id(path, route_section, i),\n",
    "                       to_node_id(path, route_section, i),\n",
    "                       edge_data = edge_data)\n",
    "\n",
    "    route_graphs[route[\"id\"]] = G\n",
    "\n",
    "print(\"Finished building fahrweg-graphen in {} seconds\".format(str(time.time() - start_time)))"
   ]
  },
  {
   "cell_type": "code",
   "execution_count": 7,
   "metadata": {},
   "outputs": [],
   "source": [
    "G = nx.DiGraph(route_id = 0, name=\"Route-Graph for route \"+str(0))\n",
    "edge_data = {'penalty': None, 'minimum_running_time': 'PT53S', 'section_marker': 'A', 'start_end': 'start', 'entry_earliest': '07:50:00', 'entry_delay_weight': 1, 'exit_delay_weight': 1, 'sequence_number': 1}\n",
    "G.add_edge(0, 1, edge_data = edge_data)\n",
    "edge_data = {'penalty': None, 'minimum_running_time': 'PT32S', 'section_marker': 'C', 'start_end': 'end', 'exit_latest': '08:16:00', 'entry_delay_weight': 1, 'exit_delay_weight': 1, 'sequence_number': 9}\n",
    "G.add_edge(1, 2, edge_data = edge_data)\n",
    "edge_data = {'penalty': None, 'minimum_running_time': 'PT2000S', 'section_marker': 'C', 'start_end': 'end', 'exit_latest': '08:18:00', 'entry_delay_weight': 1, 'exit_delay_weight': 1, 'sequence_number': 9}\n",
    "G.add_edge(1, 3, edge_data = edge_data)"
   ]
  },
  {
   "cell_type": "markdown",
   "metadata": {},
   "source": [
    "### Draw Graphs"
   ]
  },
  {
   "cell_type": "code",
   "execution_count": 8,
   "metadata": {},
   "outputs": [
    {
     "data": {
      "image/png": "[encoded data removed]",
      "text/plain": [
       "<Figure size 432x288 with 1 Axes>"
      ]
     },
     "metadata": {},
     "output_type": "display_data"
    }
   ],
   "source": [
    "route_graph = G#route_graphs[111]\n",
    "\n",
    "\"\"\"\n",
    "for node in route_graph.nodes():\n",
    "    route_graph.node[node]['label'] = node\n",
    "\n",
    "edge_labels = {}\n",
    "for node1, node2, data in route_graph.edges(data=True):\n",
    "    edge_labels[(node1, node2)] = data['sequence_number'] \n",
    "\n",
    "for edge in route_graph.edges():\n",
    "    route_graph.edges[edge]['label'] = edge_labels[edge]\n",
    "\n",
    "# export as graphML file, see below\n",
    "nx.write_graphml(route_graph, \"graph-111\"+\".graphml\")\n",
    "\"\"\"\n",
    "edge_labels = {}\n",
    "for node1, node2, data in route_graph.edges(data=True):\n",
    "    \n",
    "    edge_labels[(node1, node2)] = data['edge_data']['sequence_number']\n",
    "    \n",
    "# draw directly from networkx\n",
    "pos = nx.spring_layout(route_graph)\n",
    "nx.draw(route_graph, pos, edge_color='black', width=1, linewidths=1, node_size=500, node_color='pink', alpha=0.9)\n",
    "nx.draw_networkx_edge_labels(route_graph,pos,edge_labels=edge_labels,font_color='red')\n",
    "plt.show()"
   ]
  },
  {
   "cell_type": "code",
   "execution_count": 9,
   "metadata": {},
   "outputs": [
    {
     "data": {
      "image/png": "[encoded data removed]",
      "text/plain": [
       "<Figure size 432x288 with 1 Axes>"
      ]
     },
     "metadata": {},
     "output_type": "display_data"
    }
   ],
   "source": [
    "route_graph = route_graphs[113]\n",
    "\n",
    "\"\"\"\n",
    "for node in route_graph.nodes():\n",
    "    route_graph.node[node]['label'] = node\n",
    "\n",
    "edge_labels = {}\n",
    "for node1, node2, data in route_graph.edges(data=True):\n",
    "    edge_labels[(node1, node2)] = data['sequence_number'] \n",
    "\n",
    "for edge in route_graph.edges():\n",
    "    route_graph.edges[edge]['label'] = edge_labels[edge]\n",
    "\n",
    "# export as graphML file, see below\n",
    "nx.write_graphml(route_graph, \"graph-111\"+\".graphml\")\n",
    "\"\"\"\n",
    "edge_labels = {}\n",
    "for node1, node2, data in route_graph.edges(data=True):\n",
    "    edge_labels[(node1, node2)] = data['edge_data']['sequence_number']\n",
    "\n",
    "# draw directly from networkx\n",
    "pos = nx.spring_layout(route_graph)\n",
    "nx.draw(route_graph, pos, edge_color='black', width=1, linewidths=1, node_size=500, node_color='pink', alpha=0.9)\n",
    "nx.draw_networkx_edge_labels(route_graph,pos,edge_labels=edge_labels,font_color='red')\n",
    "plt.show()"
   ]
  },
  {
   "cell_type": "code",
   "execution_count": 10,
   "metadata": {},
   "outputs": [],
   "source": [
    "#route_graphs = {0:G}\n",
    "#service_intentions = [0]"
   ]
  },
  {
   "cell_type": "markdown",
   "metadata": {},
   "source": [
    "### Find all admissible routes"
   ]
  },
  {
   "cell_type": "code",
   "execution_count": 11,
   "metadata": {},
   "outputs": [],
   "source": [
    "paths = {}\n",
    "for si in service_intentions:\n",
    "    startnodes=[]\n",
    "    endnodes = []\n",
    "    G = route_graphs[si]\n",
    "    for edge in G.edges(data=True):\n",
    "        if 'start_end' in edge[2]['edge_data']:\n",
    "            if edge[2]['edge_data']['start_end'] == 'start':\n",
    "                startnodes.append(edge[0])\n",
    "            if edge[2]['edge_data']['start_end'] == 'end':\n",
    "                endnodes.append(edge[1])\n",
    "    paths_si = []\n",
    "    for s in startnodes:\n",
    "        for e in endnodes:\n",
    "            for path in nx.all_simple_paths(G, source=s, target=e):\n",
    "                paths_si.append([(path[i], path[i+1]) for i in range(len(path)-1)])\n",
    "    paths[si] = paths_si"
   ]
  },
  {
   "cell_type": "code",
   "execution_count": 12,
   "metadata": {},
   "outputs": [],
   "source": [
    "si_list = []\n",
    "t_index_by_edge = {}\n",
    "delta_index_by_edge = {}\n",
    "edges_by_path = {}\n",
    "get_index_by_delta = {}\n",
    "j=0\n",
    "k=0\n",
    "for si in paths:\n",
    "    pathlist = []\n",
    "    ttemp = {}\n",
    "    dtemp = {}\n",
    "    for i,path in enumerate(paths[si]):\n",
    "        srlist = []\n",
    "        etemp = {}\n",
    "        for sr in path:\n",
    "            srlist.append((si,i,sr))\n",
    "            if sr in ttemp:\n",
    "                ttemp[sr].append(j)\n",
    "            else:\n",
    "                ttemp[sr] = [j]\n",
    "            \n",
    "            \n",
    "            if sr in dtemp:\n",
    "                dtemp[sr].append(k)\n",
    "            else:\n",
    "                dtemp[sr] = [k]\n",
    "            \n",
    "            etemp[sr] = j\n",
    "            if k in get_index_by_delta:\n",
    "                get_index_by_delta[k].append(j)\n",
    "            else:\n",
    "                get_index_by_delta[k] = [j]\n",
    "            j+=1\n",
    "        edges_by_path[k] = etemp\n",
    "            \n",
    "        k+=1\n",
    "        pathlist.append(srlist)\n",
    "    t_index_by_edge[si] = ttemp\n",
    "    delta_index_by_edge[si] = dtemp\n",
    "    si_list.append(pathlist)"
   ]
  },
  {
   "cell_type": "code",
   "execution_count": 13,
   "metadata": {},
   "outputs": [],
   "source": [
    "xindex = {}\n",
    "enum = 0\n",
    "for si in service_intentions:\n",
    "    xindexsi = {}\n",
    "    for i,e in enumerate(route_graphs[si].edges):\n",
    "        xindexsi[e] = i+enum\n",
    "    enum+=i+1\n",
    "    xindex[si] = xindexsi"
   ]
  },
  {
   "cell_type": "code",
   "execution_count": 14,
   "metadata": {},
   "outputs": [],
   "source": [
    "import itertools\n",
    "betaindex = []\n",
    "for (si1, si2) in list(itertools.combinations([key for key in service_intentions],2)):\n",
    "    intsc = list(set.intersection(set(route_graphs[si1].edges), set(route_graphs[si2].edges)))\n",
    "    for e in intsc:\n",
    "        betaindex.append((si1, si2, e))"
   ]
  },
  {
   "cell_type": "code",
   "execution_count": 15,
   "metadata": {},
   "outputs": [],
   "source": [
    "def recursive_len(item):\n",
    "    if type(item) == list:\n",
    "        return sum(recursive_len(subitem) for subitem in item)\n",
    "    else:\n",
    "        return 1"
   ]
  },
  {
   "cell_type": "code",
   "execution_count": 16,
   "metadata": {},
   "outputs": [
    {
     "data": {
      "text/plain": [
       "300"
      ]
     },
     "execution_count": 16,
     "metadata": {},
     "output_type": "execute_result"
    }
   ],
   "source": [
    "t_len = recursive_len(si_list)\n",
    "x_len = 0\n",
    "delta_len = 0\n",
    "for si in service_intentions:\n",
    "    x_len += len(route_graphs[si].edges)\n",
    "    delta_len += len(paths[si])\n",
    "beta_len = len(betaindex)\n",
    "total_length = t_len*2 + x_len + delta_len + beta_len\n",
    "total_length"
   ]
  },
  {
   "cell_type": "markdown",
   "metadata": {},
   "source": [
    "### Variables\n",
    "\n",
    "|t_in| = sum of the length of all service intentions, total number of paths per si and route sections per path  \n",
    "|t_out| same as t_in  \n",
    "\n",
    "|x| all service intentions and their route sections\n",
    "\n",
    "|delta| all service intentions and their paths\n",
    "\n",
    "$v = [t_{in}, t_{out} , x, \\delta]$"
   ]
  },
  {
   "cell_type": "markdown",
   "metadata": {},
   "source": [
    "#### Minimize objective function"
   ]
  },
  {
   "cell_type": "markdown",
   "metadata": {},
   "source": [
    "$J(x)=\\{ \\frac{1}{60} \\sum_{SI, R, RS} win_{rs}max(0, \n",
    "t_{si,r,rs}^{in} - LatIn_{si,rs}) + wout_{rs} max(0, t_{si,r,rs}^{out} - LatOut_{si,rs}) + p_{si,rs}x_{si,rs} \\}$  \n",
    "\n"
   ]
  },
  {
   "cell_type": "markdown",
   "metadata": {},
   "source": [
    "#### Subject to"
   ]
  },
  {
   "cell_type": "markdown",
   "metadata": {},
   "source": [
    "time into a section comes before time out: \n",
    "\n",
    "\n",
    "(1)  $t_{si,r,rs}^{in} \\leq t_{si,r,rs}^{out}$  \n",
    "\n",
    "time into next section comes after time out from previous section:  \n",
    "(2)  $t_{si,r,rs}^{out} \\leq t_{si,r,rs+1}^{in}$\n",
    "\n",
    "if r is the selected path, satisfy minimum running and stopping time:  \n",
    "(3)  $t_{si,r,rs}^{out} - t_{si,r,rs}^{in} \\geq mrt_{si, r, rs} + mst_{si, r, rs} - M(1-\\delta_{si,r})$\n",
    "\n",
    "Earliest in constraint:  \n",
    "(4)  $t_{si,r,rs}^{in} \\geq EarIn_{si,r,rs} - M(1-\\delta_{si,r})$  \n",
    "\n",
    "Earliest out constraint:  \n",
    "(5)  $t_{si,r,rs}^{out} \\geq EarOut_{si,r,rs} - M(1-\\delta_{si,r})$\n",
    "\n",
    "Select only one path to every service:  \n",
    "(6)  $\\sum_{r \\in P} \\delta_{si,r} = 1$  \n",
    "\n",
    "All route sections on the chosen track are occupied  \n",
    "(7)  $x_{si, re} \\geq \\delta_{si, r}$  \n",
    "\n",
    "(8) $t_{si_1,r_1,re}^{in} - t_{si_2,r_2,re}^{in} \\leq M(1-\\beta_{si_1,si_2,re}) + M(2- \\delta_{si_1,r_1} - \\delta_{si_2,r_2})$  \n",
    "\n",
    "(9) $t_{si_2,r_2,re}^{in} - t_{si_1,r_1,re}^{in} + \\epsilon \\leq M\\beta_{si_1,si_2,re} + M(2- \\delta_{si_1,r_1} - \\delta_{si_2,r_2})$\n",
    "\n",
    "(10) $t_{si_1,r_1,re}^{out} - t_{si_2,r_2,re}^{in} + R \\leq M(1-\\beta_{si_1,si_2,re}) + M(2- \\delta_{si_1,r_1} - \\delta_{si_2,r_2})$\n",
    "\n",
    "(11) $t_{si_2,r_2,re}^{out} - t_{si_1,r_1,re}^{in} + R \\leq M\\beta_{si_1,si_2,re} + M(2- \\delta_{si_1,r_1} - \\delta_{si_2,r_2})$"
   ]
  },
  {
   "cell_type": "markdown",
   "metadata": {},
   "source": [
    "LatIn = entry_latest  \n",
    "EarOut = exit_earliest  \n",
    "EarIn = entry_earliest  \n",
    "LatOut = exit_latest"
   ]
  },
  {
   "cell_type": "code",
   "execution_count": 17,
   "metadata": {},
   "outputs": [],
   "source": [
    "from time import strftime\n",
    "from time import gmtime\n",
    "\n",
    "def str_to_sec(s):\n",
    "    s=s.split(':')\n",
    "    return int(s[0])*60*60+int(s[1])*60+int(s[2])\n",
    "def sec_to_str(x):\n",
    "    return strftime(\"%H:%M:%S\", gmtime(x))"
   ]
  },
  {
   "cell_type": "code",
   "execution_count": 18,
   "metadata": {},
   "outputs": [
    {
     "data": {
      "text/plain": [
       "[[[(111, 0, ('(1_beginning)', '(M1)')),\n",
       "   (111, 0, ('(M1)', '(4->5)')),\n",
       "   (111, 0, ('(4->5)', '(M2)')),\n",
       "   (111, 0, ('(M2)', '(M3)')),\n",
       "   (111, 0, ('(M3)', '(10->13)')),\n",
       "   (111, 0, ('(10->13)', '(M4)')),\n",
       "   (111, 0, ('(M4)', '(14_end)'))],\n",
       "  [(111, 1, ('(1_beginning)', '(M1)')),\n",
       "   (111, 1, ('(M1)', '(4->5)')),\n",
       "   (111, 1, ('(4->5)', '(M2)')),\n",
       "   (111, 1, ('(M2)', '(M3)')),\n",
       "   (111, 1, ('(M3)', '(11->12)')),\n",
       "   (111, 1, ('(11->12)', '(M4)')),\n",
       "   (111, 1, ('(M4)', '(14_end)'))],\n",
       "  [(111, 2, ('(1_beginning)', '(M1)')),\n",
       "   (111, 2, ('(M1)', '(4->5)')),\n",
       "   (111, 2, ('(4->5)', '(M2)')),\n",
       "   (111, 2, ('(M2)', '(7->8)')),\n",
       "   (111, 2, ('(7->8)', '(8->9)')),\n",
       "   (111, 2, ('(8->9)', '(9_end)'))],\n",
       "  [(111, 3, ('(2_beginning)', '(M1)')),\n",
       "   (111, 3, ('(M1)', '(4->5)')),\n",
       "   (111, 3, ('(4->5)', '(M2)')),\n",
       "   (111, 3, ('(M2)', '(M3)')),\n",
       "   (111, 3, ('(M3)', '(10->13)')),\n",
       "   (111, 3, ('(10->13)', '(M4)')),\n",
       "   (111, 3, ('(M4)', '(14_end)'))],\n",
       "  [(111, 4, ('(2_beginning)', '(M1)')),\n",
       "   (111, 4, ('(M1)', '(4->5)')),\n",
       "   (111, 4, ('(4->5)', '(M2)')),\n",
       "   (111, 4, ('(M2)', '(M3)')),\n",
       "   (111, 4, ('(M3)', '(11->12)')),\n",
       "   (111, 4, ('(11->12)', '(M4)')),\n",
       "   (111, 4, ('(M4)', '(14_end)'))],\n",
       "  [(111, 5, ('(2_beginning)', '(M1)')),\n",
       "   (111, 5, ('(M1)', '(4->5)')),\n",
       "   (111, 5, ('(4->5)', '(M2)')),\n",
       "   (111, 5, ('(M2)', '(7->8)')),\n",
       "   (111, 5, ('(7->8)', '(8->9)')),\n",
       "   (111, 5, ('(8->9)', '(9_end)'))],\n",
       "  [(111, 6, ('(3_beginning)', '(M1)')),\n",
       "   (111, 6, ('(M1)', '(4->5)')),\n",
       "   (111, 6, ('(4->5)', '(M2)')),\n",
       "   (111, 6, ('(M2)', '(M3)')),\n",
       "   (111, 6, ('(M3)', '(10->13)')),\n",
       "   (111, 6, ('(10->13)', '(M4)')),\n",
       "   (111, 6, ('(M4)', '(14_end)'))],\n",
       "  [(111, 7, ('(3_beginning)', '(M1)')),\n",
       "   (111, 7, ('(M1)', '(4->5)')),\n",
       "   (111, 7, ('(4->5)', '(M2)')),\n",
       "   (111, 7, ('(M2)', '(M3)')),\n",
       "   (111, 7, ('(M3)', '(11->12)')),\n",
       "   (111, 7, ('(11->12)', '(M4)')),\n",
       "   (111, 7, ('(M4)', '(14_end)'))],\n",
       "  [(111, 8, ('(3_beginning)', '(M1)')),\n",
       "   (111, 8, ('(M1)', '(4->5)')),\n",
       "   (111, 8, ('(4->5)', '(M2)')),\n",
       "   (111, 8, ('(M2)', '(7->8)')),\n",
       "   (111, 8, ('(7->8)', '(8->9)')),\n",
       "   (111, 8, ('(8->9)', '(9_end)'))]],\n",
       " [[(113, 0, ('(1_beginning)', '(M1)')),\n",
       "   (113, 0, ('(M1)', '(4->5)')),\n",
       "   (113, 0, ('(4->5)', '(M2)')),\n",
       "   (113, 0, ('(M2)', '(M3)')),\n",
       "   (113, 0, ('(M3)', '(10->13)')),\n",
       "   (113, 0, ('(10->13)', '(M4)')),\n",
       "   (113, 0, ('(M4)', '(14_end)'))],\n",
       "  [(113, 1, ('(1_beginning)', '(M1)')),\n",
       "   (113, 1, ('(M1)', '(4->5)')),\n",
       "   (113, 1, ('(4->5)', '(M2)')),\n",
       "   (113, 1, ('(M2)', '(M3)')),\n",
       "   (113, 1, ('(M3)', '(11->12)')),\n",
       "   (113, 1, ('(11->12)', '(M4)')),\n",
       "   (113, 1, ('(M4)', '(14_end)'))],\n",
       "  [(113, 2, ('(1_beginning)', '(M1)')),\n",
       "   (113, 2, ('(M1)', '(4->5)')),\n",
       "   (113, 2, ('(4->5)', '(M2)')),\n",
       "   (113, 2, ('(M2)', '(7->8)')),\n",
       "   (113, 2, ('(7->8)', '(8->9)')),\n",
       "   (113, 2, ('(8->9)', '(9_end)'))],\n",
       "  [(113, 3, ('(2_beginning)', '(M1)')),\n",
       "   (113, 3, ('(M1)', '(4->5)')),\n",
       "   (113, 3, ('(4->5)', '(M2)')),\n",
       "   (113, 3, ('(M2)', '(M3)')),\n",
       "   (113, 3, ('(M3)', '(10->13)')),\n",
       "   (113, 3, ('(10->13)', '(M4)')),\n",
       "   (113, 3, ('(M4)', '(14_end)'))],\n",
       "  [(113, 4, ('(2_beginning)', '(M1)')),\n",
       "   (113, 4, ('(M1)', '(4->5)')),\n",
       "   (113, 4, ('(4->5)', '(M2)')),\n",
       "   (113, 4, ('(M2)', '(M3)')),\n",
       "   (113, 4, ('(M3)', '(11->12)')),\n",
       "   (113, 4, ('(11->12)', '(M4)')),\n",
       "   (113, 4, ('(M4)', '(14_end)'))],\n",
       "  [(113, 5, ('(2_beginning)', '(M1)')),\n",
       "   (113, 5, ('(M1)', '(4->5)')),\n",
       "   (113, 5, ('(4->5)', '(M2)')),\n",
       "   (113, 5, ('(M2)', '(7->8)')),\n",
       "   (113, 5, ('(7->8)', '(8->9)')),\n",
       "   (113, 5, ('(8->9)', '(9_end)'))],\n",
       "  [(113, 6, ('(3_beginning)', '(M1)')),\n",
       "   (113, 6, ('(M1)', '(4->5)')),\n",
       "   (113, 6, ('(4->5)', '(M2)')),\n",
       "   (113, 6, ('(M2)', '(M3)')),\n",
       "   (113, 6, ('(M3)', '(10->13)')),\n",
       "   (113, 6, ('(10->13)', '(M4)')),\n",
       "   (113, 6, ('(M4)', '(14_end)'))],\n",
       "  [(113, 7, ('(3_beginning)', '(M1)')),\n",
       "   (113, 7, ('(M1)', '(4->5)')),\n",
       "   (113, 7, ('(4->5)', '(M2)')),\n",
       "   (113, 7, ('(M2)', '(M3)')),\n",
       "   (113, 7, ('(M3)', '(11->12)')),\n",
       "   (113, 7, ('(11->12)', '(M4)')),\n",
       "   (113, 7, ('(M4)', '(14_end)'))],\n",
       "  [(113, 8, ('(3_beginning)', '(M1)')),\n",
       "   (113, 8, ('(M1)', '(4->5)')),\n",
       "   (113, 8, ('(4->5)', '(M2)')),\n",
       "   (113, 8, ('(M2)', '(7->8)')),\n",
       "   (113, 8, ('(7->8)', '(8->9)')),\n",
       "   (113, 8, ('(8->9)', '(9_end)'))]]]"
      ]
     },
     "execution_count": 18,
     "metadata": {},
     "output_type": "execute_result"
    }
   ],
   "source": [
    "si_list"
   ]
  },
  {
   "cell_type": "markdown",
   "metadata": {},
   "source": [
    "## Modelling approach"
   ]
  },
  {
   "cell_type": "markdown",
   "metadata": {},
   "source": [
    "### Constraints"
   ]
  },
  {
   "cell_type": "code",
   "execution_count": 48,
   "metadata": {},
   "outputs": [],
   "source": [
    "tin = cp.Variable(t_len, nonneg = True)\n",
    "tout = cp.Variable(t_len, nonneg = True)\n",
    "xs = cp.Variable(x_len,boolean = True)\n",
    "deltas = cp.Variable(delta_len, boolean = True)\n",
    "betas = cp.Variable(beta_len, boolean = True)\n",
    "cs = []\n",
    "\n",
    "#load (1)\n",
    "i = 0\n",
    "for si in si_list:\n",
    "    for r in si:\n",
    "        for rs in r:\n",
    "            tcon = (tin[i] <= tout[i])\n",
    "            cs.append(tcon)\n",
    "            i+=1\n",
    "#load (2)\n",
    "i = 0\n",
    "for si in si_list:\n",
    "    for r in si:\n",
    "        for j, rs in enumerate(r):\n",
    "            if j!=len(r)-1:\n",
    "                tcon = (tout[i] == tin[i+1])\n",
    "                cs.append(tcon)\n",
    "            i+=1\n",
    "#load (3)\n",
    "i = 0\n",
    "j = 0\n",
    "M = 10000000\n",
    "for si, si_id in zip(si_list, service_intentions):\n",
    "    for r in si:\n",
    "        for rs in r:\n",
    "                edge_data = route_graphs[si_id].edges[rs[2]]['edge_data']\n",
    "            \n",
    "                if ('min_stopping_time' in edge_data) or ('minimum_running_time' in edge_data):\n",
    "                    mst = 0\n",
    "                    mrt = 0\n",
    "                    if 'min_stopping_time' in edge_data:\n",
    "                        mst = isodate.parse_duration(edge_data['min_stopping_time']).seconds\n",
    "                    if 'minimum_running_time' in edge_data:\n",
    "                        mrt = isodate.parse_duration(edge_data['minimum_running_time']).seconds\n",
    "                \n",
    "                    \n",
    "                    tcon = (tout[i] - tin[i] >= mst+mrt - M*(1-deltas[j]))\n",
    "                    cs.append(tcon)\n",
    "                    \n",
    "                i+=1\n",
    "        j+=1\n",
    "           \n",
    "#load (4)\n",
    "i = 0\n",
    "j = 0\n",
    "for si, si_id in zip(si_list, service_intentions):\n",
    "    for r in si:\n",
    "        for rs in r:\n",
    "                edge_data = route_graphs[si_id].edges[rs[2]]['edge_data']\n",
    "            \n",
    "                if ('entry_earliest' in edge_data):\n",
    "                    EarIn = str_to_sec(edge_data['entry_earliest'])\n",
    "                    tcon = (tin[i] >= EarIn - M*(1-deltas[j]))\n",
    "                    cs.append(tcon)\n",
    "                    \n",
    "                i+=1\n",
    "        j+=1\n",
    "        \n",
    "\n",
    "#load (5)\n",
    "i = 0\n",
    "j = 0\n",
    "for si, si_id in zip(si_list, service_intentions):\n",
    "    for r in si:\n",
    "        for rs in r:\n",
    "                edge_data = route_graphs[si_id].edges[rs[2]]['edge_data']\n",
    "            \n",
    "                if ('exit_earliest' in edge_data):\n",
    "                    EarOut = str_to_sec(edge_data['exit_earliest'])\n",
    "                        \n",
    "                    tcon = (tout[i] >= EarOut - M*(1-deltas[j]))\n",
    "                    cs.append(tcon)\n",
    "                        \n",
    "                i+=1\n",
    "        j+=1\n",
    "\n",
    "\n",
    "#load (6)\n",
    "j = 0\n",
    "for si, si_id in zip(si_list, service_intentions):\n",
    "    tempsum = 0\n",
    "    for r in si:\n",
    "        tempsum += deltas[j]\n",
    "        j +=1\n",
    "    tcon = (tempsum == 1)\n",
    "    cs.append(tcon)\n",
    "    \n",
    "#load (7)\n",
    "j=0\n",
    "for si in paths:\n",
    "    for path in paths[si]:\n",
    "        for e in path:\n",
    "            tcon = (xs[xindex[si][e]] >= deltas[j])\n",
    "            cs.append(tcon)\n",
    "    j+=1\n",
    "    \n",
    "#load (8)\n",
    "i = 0\n",
    "eps = 0\n",
    "R = 30\n",
    "for (si1, si2, e) in betaindex:\n",
    "    deltaidx1 = delta_index_by_edge[si1][e]\n",
    "    deltaidx2 = delta_index_by_edge[si2][e]\n",
    "    for idx1 in deltaidx1:\n",
    "        for idx2 in deltaidx2:\n",
    "            tcon = (tin[edges_by_path[idx1][e]] - tin[edges_by_path[idx2][e]] <= M*(1-betas[i]) + M*(2-deltas[idx1] - deltas[idx2]))\n",
    "            cs.append(tcon)\n",
    "            tcon = (tin[edges_by_path[idx2][e]] - tin[edges_by_path[idx1][e]] + eps <= M*betas[i] + M*(2-deltas[idx1] - deltas[idx2]))\n",
    "            cs.append(tcon)\n",
    "            tcon = (tout[edges_by_path[idx1][e]] - tin[edges_by_path[idx2][e]] + R <= M*(1-betas[i]) + M*(2-deltas[idx1] - deltas[idx2]))\n",
    "            cs.append(tcon)\n",
    "            tcon = (tout[edges_by_path[idx2][e]] - tin[edges_by_path[idx1][e]] + R <= M*betas[i] + M*(2-deltas[idx1] - deltas[idx2]))\n",
    "            cs.append(tcon)\n",
    "    "
   ]
  },
  {
   "cell_type": "markdown",
   "metadata": {},
   "source": [
    "(8) $t_{si_1,r_1,re}^{in} - t_{si_2,r_2,re}^{in} \\leq M(1-\\beta_{si_1,si_2,re}) + M(2- \\delta_{si_1,r_1} - \\delta_{si_2,r_2})$  \n",
    "\n",
    "(9) $t_{si_2,r_2,re}^{in} - t_{si_1,r_1,re}^{in} + \\epsilon \\leq M\\beta_{si_1,si_2,re} + M(2- \\delta_{si_1,r_1} - \\delta_{si_2,r_2})$\n",
    "\n",
    "(10) $t_{si_1,r_1,re}^{out} - t_{si_2,r_2,re}^{in} + R \\leq M(1-\\beta_{si_1,si_2,re}) + M(2- \\delta_{si_1,r_1} - \\delta_{si_2,r_2})$\n",
    "\n",
    "(11) $t_{si_2,r_2,re}^{out} - t_{si_1,r_1,re}^{in} + R \\leq M\\beta_{si_1,si_2,re} + M(2- \\delta_{si_1,r_1} - \\delta_{si_2,r_2})$"
   ]
  },
  {
   "cell_type": "markdown",
   "metadata": {},
   "source": [
    "### Objective function"
   ]
  },
  {
   "cell_type": "code",
   "execution_count": 49,
   "metadata": {},
   "outputs": [],
   "source": [
    "objective = 0\n",
    "i = 0\n",
    "j=0\n",
    "M2 = 100000\n",
    "for si, si_id in zip(si_list, service_intentions):\n",
    "    for r in si:\n",
    "        for rs in r:\n",
    "            edge_data = route_graphs[si_id].edges[rs[2]]['edge_data']\n",
    "            if 'entry_delay_weight' in edge_data and 'entry_latest' in edge_data:\n",
    "                objective += float(edge_data['entry_delay_weight'])*cp.maximum(0, tin[i]-str_to_sec(edge_data['entry_latest']))\n",
    "            if 'exit_delay_weight' in edge_data and 'exit_latest' in edge_data:\n",
    "                objective += float(edge_data['exit_delay_weight'])*cp.maximum(0, tout[i]-str_to_sec(edge_data['exit_latest']))  \n",
    "            i+=1\n",
    "        j+=1\n",
    "i = 0\n",
    "j=0\n",
    "for si, si_id in zip(si_list, service_intentions):\n",
    "    for edge in route_graphs[si_id].edges(data=True):\n",
    "        e = (edge[0],edge[1])\n",
    "        p = 0\n",
    "        if 'penalty' in edge[2]['edge_data']:\n",
    "            p = edge[2]['edge_data']['penalty']\n",
    "            if p == None:\n",
    "                p = 0\n",
    "            else:\n",
    "                p = float(p)\n",
    "            objective += xs[xindex[si_id][e]]*p\n",
    "        i+=1"
   ]
  },
  {
   "cell_type": "code",
   "execution_count": 50,
   "metadata": {},
   "outputs": [
    {
     "data": {
      "text/plain": [
       "Expression(CONVEX, NONNEGATIVE, ())"
      ]
     },
     "execution_count": 50,
     "metadata": {},
     "output_type": "execute_result"
    }
   ],
   "source": [
    "objective"
   ]
  },
  {
   "cell_type": "markdown",
   "metadata": {},
   "source": [
    "### Solver"
   ]
  },
  {
   "cell_type": "code",
   "execution_count": 51,
   "metadata": {},
   "outputs": [
    {
     "name": "stdout",
     "output_type": "stream",
     "text": [
      "===============================================================================\n",
      "                                     CVXPY                                     \n",
      "                                    v1.1.14                                    \n",
      "===============================================================================\n",
      "(CVXPY) Aug 09 09:53:20 AM: Your problem has 300 variables, 1787 constraints, and 0 parameters.\n",
      "(CVXPY) Aug 09 09:53:20 AM: It is compliant with the following grammars: DCP, DQCP\n",
      "(CVXPY) Aug 09 09:53:20 AM: (If you need to solve this problem multiple times, but with different data, consider using parameters.)\n",
      "(CVXPY) Aug 09 09:53:20 AM: CVXPY will first compile your problem; then, it will invoke a numerical solver to obtain a solution.\n",
      "-------------------------------------------------------------------------------\n",
      "                                  Compilation                                  \n",
      "-------------------------------------------------------------------------------\n",
      "(CVXPY) Aug 09 09:53:21 AM: Compiling problem (target solver=MOSEK).\n",
      "(CVXPY) Aug 09 09:53:21 AM: Reduction chain: Dcp2Cone -> CvxAttr2Constr -> ConeMatrixStuffing -> MOSEK\n",
      "(CVXPY) Aug 09 09:53:21 AM: Applying reduction Dcp2Cone\n",
      "(CVXPY) Aug 09 09:53:21 AM: Applying reduction CvxAttr2Constr\n",
      "(CVXPY) Aug 09 09:53:22 AM: Applying reduction ConeMatrixStuffing\n",
      "(CVXPY) Aug 09 09:53:23 AM: Applying reduction MOSEK\n",
      "(CVXPY) Aug 09 09:53:24 AM: Finished problem compilation (took 3.755e+00 seconds).\n",
      "-------------------------------------------------------------------------------\n",
      "                                Numerical solver                               \n",
      "-------------------------------------------------------------------------------\n",
      "(CVXPY) Aug 09 09:53:24 AM: Invoking solver MOSEK  to obtain a solution.\n",
      "\n",
      "\n",
      "Problem\n",
      "  Name                   :                 \n",
      "  Objective sense        : min             \n",
      "  Type                   : LO (linear optimization problem)\n",
      "  Constraints            : 2123            \n",
      "  Cones                  : 0               \n",
      "  Scalar variables       : 318             \n",
      "  Matrix variables       : 0               \n",
      "  Integer variables      : 60              \n",
      "\n",
      "Optimizer started.\n",
      "Mixed integer optimizer started.\n",
      "Threads used: 4\n",
      "Presolve started.\n",
      "Presolve terminated. Time = 0.01\n",
      "Presolved problem: 175 variables, 1583 constraints, 7188 non-zeros\n",
      "Presolved problem: 0 general integer, 19 binary, 156 continuous\n",
      "Clique table size: 2\n",
      "BRANCHES RELAXS   ACT_NDS  DEPTH    BEST_INT_OBJ         BEST_RELAX_OBJ       REL_GAP(%)  TIME  \n",
      "0        1        1        0        NA                   0.0000000000e+00     NA          0.1   \n",
      "0        1        1        0        0.0000000000e+00     0.0000000000e+00     0.00e+00    0.1   \n",
      "An optimal solution satisfying the relative gap tolerance of 1.00e-02(%) has been located.\n",
      "The relative gap is 0.00e+00(%).\n",
      "An optimal solution satisfying the absolute gap tolerance of 0.00e+00 has been located.\n",
      "The absolute gap is 0.00e+00.\n",
      "\n",
      "Objective of best integer solution : 0.000000000000e+00      \n",
      "Best objective bound               : 0.000000000000e+00      \n",
      "Construct solution objective       : Not employed\n",
      "User objective cut value           : Not employed\n",
      "Number of cuts generated           : 0\n",
      "Number of branches                 : 0\n",
      "Number of relaxations solved       : 1\n",
      "Number of interior point iterations: 17\n",
      "Number of simplex iterations       : 0\n",
      "Time spend presolving the root     : 0.01\n",
      "Time spend optimizing the root     : 0.03\n",
      "Mixed integer optimizer terminated. Time: 0.07\n",
      "\n",
      "Optimizer terminated. Time: 0.08    \n",
      "\n",
      "\n",
      "Integer solution solution summary\n",
      "  Problem status  : PRIMAL_FEASIBLE\n",
      "  Solution status : INTEGER_OPTIMAL\n",
      "  Primal.  obj: 0.0000000000e+00    nrm: 2e+07    Viol.  con: 0e+00    var: 0e+00    itg: 0e+00  \n",
      "-------------------------------------------------------------------------------\n",
      "                                    Summary                                    \n",
      "-------------------------------------------------------------------------------\n",
      "(CVXPY) Aug 09 09:53:24 AM: Problem status: optimal\n",
      "(CVXPY) Aug 09 09:53:24 AM: Optimal value: 0.000e+00\n",
      "(CVXPY) Aug 09 09:53:24 AM: Compilation took 3.755e+00 seconds\n",
      "(CVXPY) Aug 09 09:53:24 AM: Solver (including time spent in interface) took 9.308e-02 seconds\n"
     ]
    },
    {
     "data": {
      "text/plain": [
       "0.0"
      ]
     },
     "execution_count": 51,
     "metadata": {},
     "output_type": "execute_result"
    }
   ],
   "source": [
    "prob = cp.Problem(cp.Minimize(objective),\n",
    "                 cs)\n",
    "prob.solve(solver = 'MOSEK', verbose = True)"
   ]
  },
  {
   "cell_type": "code",
   "execution_count": 56,
   "metadata": {
    "scrolled": false
   },
   "outputs": [],
   "source": [
    "for tag,v in zip(['tin', 'tout', 'x', 'delta'],[tin, tout, xs, deltas]):\n",
    "    for e in v:\n",
    "        pass\n",
    "        #print(tag, e.value)"
   ]
  },
  {
   "cell_type": "code",
   "execution_count": 57,
   "metadata": {},
   "outputs": [
    {
     "ename": "AttributeError",
     "evalue": "'numpy.ndarray' object has no attribute 'value'",
     "output_type": "error",
     "traceback": [
      "\u001b[0;31m---------------------------------------------------------------------------\u001b[0m",
      "\u001b[0;31mAttributeError\u001b[0m                            Traceback (most recent call last)",
      "\u001b[0;32m<ipython-input-57-74ce732e3ccb>\u001b[0m in \u001b[0;36m<module>\u001b[0;34m\u001b[0m\n\u001b[0;32m----> 1\u001b[0;31m \u001b[0mdeltas\u001b[0m \u001b[0;34m=\u001b[0m \u001b[0mdeltas\u001b[0m\u001b[0;34m.\u001b[0m\u001b[0mvalue\u001b[0m\u001b[0;34m\u001b[0m\u001b[0;34m\u001b[0m\u001b[0m\n\u001b[0m\u001b[1;32m      2\u001b[0m \u001b[0mtin\u001b[0m \u001b[0;34m=\u001b[0m \u001b[0mtin\u001b[0m\u001b[0;34m.\u001b[0m\u001b[0mvalue\u001b[0m\u001b[0;34m\u001b[0m\u001b[0;34m\u001b[0m\u001b[0m\n\u001b[1;32m      3\u001b[0m \u001b[0mtout\u001b[0m \u001b[0;34m=\u001b[0m \u001b[0mtout\u001b[0m\u001b[0;34m.\u001b[0m\u001b[0mvalue\u001b[0m\u001b[0;34m\u001b[0m\u001b[0;34m\u001b[0m\u001b[0m\n",
      "\u001b[0;31mAttributeError\u001b[0m: 'numpy.ndarray' object has no attribute 'value'"
     ]
    }
   ],
   "source": [
    "deltas = deltas.value\n",
    "tin = tin.value\n",
    "tout = tout.value"
   ]
  },
  {
   "cell_type": "code",
   "execution_count": 58,
   "metadata": {},
   "outputs": [],
   "source": [
    "ad_paths = np.where(deltas==1)[0]"
   ]
  },
  {
   "cell_type": "code",
   "execution_count": 61,
   "metadata": {},
   "outputs": [
    {
     "name": "stdout",
     "output_type": "stream",
     "text": [
      "si: 111, edge: ('(1_beginning)', '(M1)'), tin: 08:25:03, tout: 08:25:56\n",
      "si: 111, edge: ('(M1)', '(4->5)'), tin: 08:25:56, tout: 08:26:28\n",
      "si: 111, edge: ('(4->5)', '(M2)'), tin: 08:26:28, tout: 08:30:00\n",
      "si: 111, edge: ('(M2)', '(M3)'), tin: 08:30:00, tout: 08:30:32\n",
      "si: 111, edge: ('(M3)', '(10->13)'), tin: 08:30:32, tout: 08:31:04\n",
      "si: 111, edge: ('(10->13)', '(M4)'), tin: 08:31:04, tout: 08:49:28\n",
      "si: 111, edge: ('(M4)', '(14_end)'), tin: 08:49:28, tout: 08:50:00\n",
      "si: 113, edge: ('(1_beginning)', '(M1)'), tin: 07:50:00, tout: 07:50:53\n",
      "si: 113, edge: ('(M1)', '(4->5)'), tin: 07:50:53, tout: 07:51:25\n",
      "si: 113, edge: ('(4->5)', '(M2)'), tin: 07:51:25, tout: 07:51:57\n",
      "si: 113, edge: ('(M2)', '(M3)'), tin: 07:51:57, tout: 07:52:29\n",
      "si: 113, edge: ('(M3)', '(10->13)'), tin: 07:52:29, tout: 07:53:01\n",
      "si: 113, edge: ('(10->13)', '(M4)'), tin: 07:53:01, tout: 08:15:28\n",
      "si: 113, edge: ('(M4)', '(14_end)'), tin: 08:15:28, tout: 08:16:00\n"
     ]
    }
   ],
   "source": [
    "paths_flat = []\n",
    "for si in paths:\n",
    "    paths_flat += paths[si]\n",
    "for (si,ad_path) in zip(service_intentions, ad_paths):\n",
    "    p = paths_flat[ad_path]\n",
    "    for idx,e in zip(get_index_by_delta[ad_path],p):\n",
    "        print(f'si: {si}, edge: {e}, tin: {sec_to_str(tin[idx])}, tout: {sec_to_str(tout[idx])}')\n",
    "        #print(route_graphs[si].edges[e])\n",
    "        "
   ]
  },
  {
   "cell_type": "markdown",
   "metadata": {},
   "source": [
    "## Appendix"
   ]
  },
  {
   "cell_type": "markdown",
   "metadata": {},
   "source": [
    "### Matrix approach"
   ]
  },
  {
   "cell_type": "code",
   "execution_count": 15,
   "metadata": {},
   "outputs": [
    {
     "name": "stdout",
     "output_type": "stream",
     "text": [
      "18\n"
     ]
    }
   ],
   "source": [
    "\n",
    "A = np.array([])\n",
    "b = []\n",
    "\n",
    "#load (1)\n",
    "i = 0\n",
    "for si in si_list:\n",
    "    for r in si:\n",
    "        for rs in r:\n",
    "            temp = np.zeros(total_length)\n",
    "            temp[i] = 1 #tin\n",
    "            temp[i+t_len] = -1 #tout\n",
    "            b.append(0)\n",
    "            i+=1\n",
    "            if len(A)==0:\n",
    "                A = temp\n",
    "            else:\n",
    "                A = np.vstack((A,temp))\n",
    "#load (2)\n",
    "i = 0\n",
    "for si in si_list:\n",
    "    for r in si:\n",
    "        for j, rs in enumerate(r):\n",
    "            if j!=len(r)-1:\n",
    "                temp = np.zeros(total_length)\n",
    "                temp[i+1] = -1 #tin\n",
    "                temp[i+t_len] = 1 #tout\n",
    "                b.append(0)\n",
    "\n",
    "                if len(A)==0:\n",
    "                    A = temp\n",
    "                else:\n",
    "                    A = np.vstack((A,temp))\n",
    "            i+=1\n",
    "\n",
    "#load (3)\n",
    "i = 0\n",
    "j = 0\n",
    "M = 1000000\n",
    "for si, si_id in zip(si_list, service_intentions):\n",
    "    for r in si:\n",
    "        for rs in r:\n",
    "                edge_data = route_graphs[si_id].edges[rs[2]]['edge_data']\n",
    "            \n",
    "                if ('min_stopping_time' in edge_data) or ('minimum_running_time' in edge_data):\n",
    "                    mst = 0\n",
    "                    mrt = 0\n",
    "                    if 'min_stopping_time' in edge_data:\n",
    "                        mst = isodate.parse_duration(edge_data['min_stopping_time']).seconds\n",
    "                    if 'minimum_running_time' in edge_data:\n",
    "                        mrt = isodate.parse_duration(edge_data['minimum_running_time']).seconds\n",
    "                \n",
    "                    temp = np.zeros(total_length)\n",
    "                    temp[i] = 1 #tin\n",
    "                    temp[i+t_len+1] = -1 #tout\n",
    "                    temp[j+t_len+t_len+x_len] = M\n",
    "                    b.append(M-mst-mrt)\n",
    "                    \n",
    "                    if len(A)==0:\n",
    "                        A = temp\n",
    "                    else:\n",
    "                        A = np.vstack((A,temp))\n",
    "                i+=1\n",
    "        j+=1\n",
    "        \n",
    "print(j)        \n",
    "#load (4)\n",
    "i = 0\n",
    "j = 0\n",
    "M = 1000000\n",
    "for si, si_id in zip(si_list, service_intentions):\n",
    "    for r in si:\n",
    "        for rs in r:\n",
    "                edge_data = route_graphs[si_id].edges[rs[2]]['edge_data']\n",
    "            \n",
    "                if ('entry_earliest' in edge_data):\n",
    "                    EarIn = str_to_sec(edge_data['entry_earliest'])\n",
    "                        \n",
    "                    temp = np.zeros(total_length)\n",
    "                    temp[i] = -1 #tin\n",
    "                    temp[j+t_len+t_len+x_len] = M\n",
    "                    b.append(M-EarIn)\n",
    "                    if len(A)==0:\n",
    "                        A = temp\n",
    "                    else:\n",
    "                        A = np.vstack((A,temp))\n",
    "                i+=1\n",
    "        j+=1\n",
    "        \n",
    "\n",
    "#load (5)\n",
    "i = 0\n",
    "j = 0\n",
    "M = 1000000\n",
    "for si, si_id in zip(si_list, service_intentions):\n",
    "    for r in si:\n",
    "        for rs in r:\n",
    "                edge_data = route_graphs[si_id].edges[rs[2]]['edge_data']\n",
    "            \n",
    "                if ('exit_earliest' in edge_data):\n",
    "                    EarOut = str_to_sec(edge_data['exit_earliest'])\n",
    "                        \n",
    "                    temp = np.zeros(total_length)\n",
    "                    temp[i + t_len] = -1 #tin\n",
    "                    temp[j+t_len+t_len+x_len] = M\n",
    "                    b.append(M-EarOut)\n",
    "                    if len(A)==0:\n",
    "                        A = temp\n",
    "                    else:\n",
    "                        A = np.vstack((A,temp))\n",
    "                i+=1\n",
    "        j+=1\n",
    "b = np.array(b).astype('float64')\n",
    "c = np.array([1.0]*total_length)"
   ]
  }
 ],
 "metadata": {
  "kernelspec": {
   "display_name": "Python 3",
   "language": "python",
   "name": "python3"
  },
  "language_info": {
   "codemirror_mode": {
    "name": "ipython",
    "version": 3
   },
   "file_extension": ".py",
   "mimetype": "text/x-python",
   "name": "python",
   "nbconvert_exporter": "python",
   "pygments_lexer": "ipython3",
   "version": "3.6.9"
  }
 },
 "nbformat": 4,
 "nbformat_minor": 1
}
