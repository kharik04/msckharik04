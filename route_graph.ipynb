{
 "cells": [
  {
   "cell_type": "markdown",
   "metadata": {
    "collapsed": true
   },
   "source": [
    "# Construction of Route Graphs"
   ]
  },
  {
   "cell_type": "code",
   "execution_count": 248,
   "metadata": {},
   "outputs": [],
   "source": [
    "import json\n",
    "import time\n",
    "import networkx as nx\n",
    "import matplotlib.pyplot as plt\n",
    "import numpy as np\n",
    "import isodate"
   ]
  },
  {
   "cell_type": "markdown",
   "metadata": {},
   "source": [
    "### Load Json"
   ]
  },
  {
   "cell_type": "code",
   "execution_count": 31,
   "metadata": {},
   "outputs": [],
   "source": [
    "scenario = \"sample_scenario.json\"  # adjust path to the sample instance if it is not located there\n",
    "with open(scenario) as fp:\n",
    "    scenario = json.load(fp)"
   ]
  },
  {
   "cell_type": "markdown",
   "metadata": {},
   "source": [
    "### Process section requirements"
   ]
  },
  {
   "cell_type": "code",
   "execution_count": 121,
   "metadata": {},
   "outputs": [],
   "source": [
    "service_intentions = {}\n",
    "for si in scenario['service_intentions']:\n",
    "    requirements = {}\n",
    "    for i,req in enumerate(si['section_requirements']):\n",
    "        requirements[req['section_marker']] = {key:value for key,value in req.items()}\n",
    "        if i == 0:\n",
    "            requirements[req['section_marker']]['start_end'] = 'start'\n",
    "        elif i == len(si['section_requirements']) - 1:\n",
    "            requirements[req['section_marker']]['start_end'] = 'end'\n",
    "        else: \n",
    "            requirements[req['section_marker']]['start_end'] = None\n",
    "    service_intentions[si['id']] = requirements"
   ]
  },
  {
   "cell_type": "markdown",
   "metadata": {},
   "source": [
    "### Printing of nodes"
   ]
  },
  {
   "cell_type": "code",
   "execution_count": 122,
   "metadata": {},
   "outputs": [],
   "source": [
    "def from_node_id(route_path, route_section, index_in_path):\n",
    "    if \"route_alternative_marker_at_entry\" in route_section.keys() and \\\n",
    "            route_section[\"route_alternative_marker_at_entry\"] is not None and \\\n",
    "            len(route_section[\"route_alternative_marker_at_entry\"]) > 0:\n",
    "                return \"(\" + str(route_section[\"route_alternative_marker_at_entry\"][0]) + \")\"\n",
    "    else:\n",
    "        if index_in_path == 0:  # can only get here if this node is a very beginning of a route\n",
    "            return \"(\" + str(route_section[\"sequence_number\"]) + \"_beginning)\"\n",
    "        else:\n",
    "            return \"(\" + (str(route_path[\"route_sections\"][index_in_path - 1][\"sequence_number\"]) + \"->\" +\n",
    "                          str(route_section[\"sequence_number\"])) + \")\"\n",
    "def to_node_id(route_path, route_section, index_in_path):\n",
    "    if \"route_alternative_marker_at_exit\" in route_section.keys() and \\\n",
    "            route_section[\"route_alternative_marker_at_exit\"] is not None and \\\n",
    "            len(route_section[\"route_alternative_marker_at_exit\"]) > 0:\n",
    "\n",
    "                return \"(\" + str(route_section[\"route_alternative_marker_at_exit\"][0]) + \")\"\n",
    "    else:\n",
    "        if index_in_path == (len(route_path[\"route_sections\"]) - 1): # meaning this node is a very end of a route\n",
    "            return \"(\" + str(route_section[\"sequence_number\"]) + \"_end\" + \")\"\n",
    "        else:\n",
    "            return \"(\" + (str(route_section[\"sequence_number\"]) + \"->\" +\n",
    "                          str(route_path[\"route_sections\"][index_in_path + 1][\"sequence_number\"])) + \")\""
   ]
  },
  {
   "cell_type": "markdown",
   "metadata": {},
   "source": [
    "### Construct graph for every SI, and appropriate edge constraints"
   ]
  },
  {
   "cell_type": "code",
   "execution_count": 123,
   "metadata": {},
   "outputs": [],
   "source": [
    "route_section_keys = ['penalty', 'minimum_running_time']\n",
    "section_requirement_keys = ['start_end','min_stopping_time', 'entry_earliest', 'entry_latest',\n",
    "                           'exit_earliest', 'exit_latest', 'entry_delay_weight',\n",
    "                           'exit_delay_weight']"
   ]
  },
  {
   "cell_type": "code",
   "execution_count": 124,
   "metadata": {},
   "outputs": [
    {
     "name": "stdout",
     "output_type": "stream",
     "text": [
      "\n",
      "Constructing route graph for route 111\n",
      "new route\n",
      "Adding Edge from (1_beginning) to (M1) with sequence number 1\n",
      "{'penalty': None, 'minimum_running_time': 'PT53S', 'section_marker': 'A', 'start_end': 'start', 'entry_earliest': '08:20:00', 'entry_delay_weight': 1, 'exit_delay_weight': 1, 'sequence_number': 1}\n",
      "Adding Edge from (M1) to (4->5) with sequence number 4\n",
      "{'penalty': None, 'minimum_running_time': 'PT32S', 'section_marker': None, 'sequence_number': 4}\n",
      "Adding Edge from (4->5) to (M2) with sequence number 5\n",
      "{'penalty': None, 'minimum_running_time': 'PT32S', 'section_marker': 'B', 'start_end': None, 'min_stopping_time': 'PT3M', 'exit_earliest': '08:30:00', 'entry_delay_weight': 1, 'exit_delay_weight': 1, 'sequence_number': 5}\n",
      "Adding Edge from (M2) to (M3) with sequence number 6\n",
      "{'penalty': None, 'minimum_running_time': 'PT32S', 'section_marker': None, 'sequence_number': 6}\n",
      "Adding Edge from (M3) to (10->13) with sequence number 10\n",
      "{'penalty': None, 'minimum_running_time': 'PT32S', 'section_marker': None, 'sequence_number': 10}\n",
      "Adding Edge from (10->13) to (M4) with sequence number 13\n",
      "{'penalty': None, 'minimum_running_time': 'PT32S', 'section_marker': None, 'sequence_number': 13}\n",
      "Adding Edge from (M4) to (14_end) with sequence number 14\n",
      "{'penalty': None, 'minimum_running_time': 'PT32S', 'section_marker': 'C', 'start_end': 'end', 'exit_latest': '08:50:00', 'entry_delay_weight': 1, 'exit_delay_weight': 1, 'sequence_number': 14}\n",
      "new route\n",
      "Adding Edge from (2_beginning) to (M1) with sequence number 2\n",
      "{'penalty': None, 'minimum_running_time': 'PT53S', 'section_marker': 'A', 'start_end': 'start', 'entry_earliest': '08:20:00', 'entry_delay_weight': 1, 'exit_delay_weight': 1, 'sequence_number': 2}\n",
      "new route\n",
      "Adding Edge from (3_beginning) to (M1) with sequence number 3\n",
      "{'penalty': None, 'minimum_running_time': 'PT53S', 'section_marker': 'A', 'start_end': 'start', 'entry_earliest': '08:20:00', 'entry_delay_weight': 1, 'exit_delay_weight': 1, 'sequence_number': 3}\n",
      "new route\n",
      "Adding Edge from (M2) to (7->8) with sequence number 7\n",
      "{'penalty': None, 'minimum_running_time': 'PT32S', 'section_marker': None, 'sequence_number': 7}\n",
      "Adding Edge from (7->8) to (8->9) with sequence number 8\n",
      "{'penalty': None, 'minimum_running_time': 'PT32S', 'section_marker': None, 'sequence_number': 8}\n",
      "Adding Edge from (8->9) to (9_end) with sequence number 9\n",
      "{'penalty': None, 'minimum_running_time': 'PT32S', 'section_marker': 'C', 'start_end': 'end', 'exit_latest': '08:50:00', 'entry_delay_weight': 1, 'exit_delay_weight': 1, 'sequence_number': 9}\n",
      "new route\n",
      "Adding Edge from (M3) to (11->12) with sequence number 11\n",
      "{'penalty': None, 'minimum_running_time': 'PT32S', 'section_marker': None, 'sequence_number': 11}\n",
      "Adding Edge from (11->12) to (M4) with sequence number 12\n",
      "{'penalty': None, 'minimum_running_time': 'PT32S', 'section_marker': None, 'sequence_number': 12}\n",
      "\n",
      "Constructing route graph for route 113\n",
      "new route\n",
      "Adding Edge from (1_beginning) to (M1) with sequence number 1\n",
      "{'penalty': None, 'minimum_running_time': 'PT53S', 'section_marker': 'A', 'start_end': 'start', 'entry_earliest': '07:50:00', 'entry_delay_weight': 1, 'exit_delay_weight': 1, 'sequence_number': 1}\n",
      "Adding Edge from (M1) to (4->5) with sequence number 4\n",
      "{'penalty': None, 'minimum_running_time': 'PT32S', 'section_marker': None, 'sequence_number': 4}\n",
      "Adding Edge from (4->5) to (M2) with sequence number 5\n",
      "{'penalty': None, 'minimum_running_time': 'PT32S', 'section_marker': 'B', 'sequence_number': 5}\n",
      "Adding Edge from (M2) to (M3) with sequence number 6\n",
      "{'penalty': None, 'minimum_running_time': 'PT32S', 'section_marker': None, 'sequence_number': 6}\n",
      "Adding Edge from (M3) to (10->13) with sequence number 10\n",
      "{'penalty': None, 'minimum_running_time': 'PT32S', 'section_marker': None, 'sequence_number': 10}\n",
      "Adding Edge from (10->13) to (M4) with sequence number 13\n",
      "{'penalty': None, 'minimum_running_time': 'PT32S', 'section_marker': None, 'sequence_number': 13}\n",
      "Adding Edge from (M4) to (14_end) with sequence number 14\n",
      "{'penalty': None, 'minimum_running_time': 'PT32S', 'section_marker': 'C', 'start_end': 'end', 'exit_latest': '08:16:00', 'entry_delay_weight': 1, 'exit_delay_weight': 1, 'sequence_number': 14}\n",
      "new route\n",
      "Adding Edge from (2_beginning) to (M1) with sequence number 2\n",
      "{'penalty': None, 'minimum_running_time': 'PT53S', 'section_marker': 'A', 'start_end': 'start', 'entry_earliest': '07:50:00', 'entry_delay_weight': 1, 'exit_delay_weight': 1, 'sequence_number': 2}\n",
      "new route\n",
      "Adding Edge from (3_beginning) to (M1) with sequence number 3\n",
      "{'penalty': None, 'minimum_running_time': 'PT53S', 'section_marker': 'A', 'start_end': 'start', 'entry_earliest': '07:50:00', 'entry_delay_weight': 1, 'exit_delay_weight': 1, 'sequence_number': 3}\n",
      "new route\n",
      "Adding Edge from (M2) to (7->8) with sequence number 7\n",
      "{'penalty': None, 'minimum_running_time': 'PT32S', 'section_marker': None, 'sequence_number': 7}\n",
      "Adding Edge from (7->8) to (8->9) with sequence number 8\n",
      "{'penalty': None, 'minimum_running_time': 'PT32S', 'section_marker': None, 'sequence_number': 8}\n",
      "Adding Edge from (8->9) to (9_end) with sequence number 9\n",
      "{'penalty': None, 'minimum_running_time': 'PT32S', 'section_marker': 'C', 'start_end': 'end', 'exit_latest': '08:16:00', 'entry_delay_weight': 1, 'exit_delay_weight': 1, 'sequence_number': 9}\n",
      "new route\n",
      "Adding Edge from (M3) to (11->12) with sequence number 11\n",
      "{'penalty': None, 'minimum_running_time': 'PT32S', 'section_marker': None, 'sequence_number': 11}\n",
      "Adding Edge from (11->12) to (M4) with sequence number 12\n",
      "{'penalty': None, 'minimum_running_time': 'PT32S', 'section_marker': None, 'sequence_number': 12}\n",
      "Finished building fahrweg-graphen in 0.001995563507080078 seconds\n"
     ]
    }
   ],
   "source": [
    "start_time = time.time()\n",
    "\n",
    "# now build the graph. Nodes are called \"previous_FAB -> next_FAB\" within lineare abschnittsfolgen and \"AK\" if\n",
    "# there is an Abschnittskennzeichen 'AK' on it\n",
    "route_graphs = dict()\n",
    "for route in scenario[\"routes\"]:# iterates over si?\n",
    "    \n",
    "    print(f\"\\nConstructing route graph for route {route['id']}\")\n",
    "    # set global graph settings\n",
    "    G = nx.DiGraph(route_id = route[\"id\"], name=\"Route-Graph for route \"+str(route[\"id\"]))\n",
    "\n",
    "    # add edges with data contained in the preprocessed graph\n",
    "    for path in route[\"route_paths\"]:#iterate over admissible routes\n",
    "        print('new route')\n",
    "        for (i, route_section) in enumerate(path[\"route_sections\"]):\n",
    "            sn = route_section['sequence_number']\n",
    "            print(\"Adding Edge from {} to {} with sequence number {}\".format(from_node_id(path, route_section, i), to_node_id(path, route_section, i), sn))\n",
    "            edge_data = {}\n",
    "            for key in route_section_keys:\n",
    "                if key in route_section:\n",
    "                    edge_data[key] = route_section[key]\n",
    "                else:\n",
    "                    edge_data[key] = None\n",
    "            #get section marker\n",
    "            section_marker = None\n",
    "            if 'section_marker' in route_section:\n",
    "                section_marker = route_section['section_marker'][0]\n",
    "            edge_data['section_marker'] = section_marker\n",
    "            \n",
    "            if section_marker in service_intentions[route['id']]:\n",
    "                for key in section_requirement_keys:\n",
    "                    if key in service_intentions[route['id']][section_marker]:\n",
    "                            edge_data[key] = service_intentions[route['id']][section_marker][key]\n",
    "        \n",
    "            edge_data['sequence_number'] = sn\n",
    "            \n",
    "            print(edge_data)\n",
    "            G.add_edge(from_node_id(path, route_section, i),\n",
    "                       to_node_id(path, route_section, i),\n",
    "                       edge_data = edge_data)\n",
    "\n",
    "    route_graphs[route[\"id\"]] = G\n",
    "\n",
    "print(\"Finished building fahrweg-graphen in {} seconds\".format(str(time.time() - start_time)))"
   ]
  },
  {
   "cell_type": "markdown",
   "metadata": {},
   "source": [
    "### Draw Graphs"
   ]
  },
  {
   "cell_type": "code",
   "execution_count": 125,
   "metadata": {},
   "outputs": [
    {
     "data": {
      "image/png": "[encoded data removed]",
      "text/plain": [
       "<Figure size 432x288 with 1 Axes>"
      ]
     },
     "metadata": {},
     "output_type": "display_data"
    }
   ],
   "source": [
    "route_graph = route_graphs[111]\n",
    "\n",
    "\"\"\"\n",
    "for node in route_graph.nodes():\n",
    "    route_graph.node[node]['label'] = node\n",
    "\n",
    "edge_labels = {}\n",
    "for node1, node2, data in route_graph.edges(data=True):\n",
    "    edge_labels[(node1, node2)] = data['sequence_number'] \n",
    "\n",
    "for edge in route_graph.edges():\n",
    "    route_graph.edges[edge]['label'] = edge_labels[edge]\n",
    "\n",
    "# export as graphML file, see below\n",
    "nx.write_graphml(route_graph, \"graph-111\"+\".graphml\")\n",
    "\"\"\"\n",
    "edge_labels = {}\n",
    "for node1, node2, data in route_graph.edges(data=True):\n",
    "    \n",
    "    edge_labels[(node1, node2)] = data['edge_data']['sequence_number']\n",
    "    \n",
    "# draw directly from networkx\n",
    "pos = nx.spring_layout(route_graph)\n",
    "nx.draw(route_graph, pos, edge_color='black', width=1, linewidths=1, node_size=500, node_color='pink', alpha=0.9)\n",
    "nx.draw_networkx_edge_labels(route_graph,pos,edge_labels=edge_labels,font_color='red')\n",
    "plt.show()"
   ]
  },
  {
   "cell_type": "code",
   "execution_count": 126,
   "metadata": {},
   "outputs": [
    {
     "data": {
      "image/png": "[encoded data removed]",
      "text/plain": [
       "<Figure size 432x288 with 1 Axes>"
      ]
     },
     "metadata": {},
     "output_type": "display_data"
    }
   ],
   "source": [
    "route_graph = route_graphs[113]\n",
    "\n",
    "\"\"\"\n",
    "for node in route_graph.nodes():\n",
    "    route_graph.node[node]['label'] = node\n",
    "\n",
    "edge_labels = {}\n",
    "for node1, node2, data in route_graph.edges(data=True):\n",
    "    edge_labels[(node1, node2)] = data['sequence_number'] \n",
    "\n",
    "for edge in route_graph.edges():\n",
    "    route_graph.edges[edge]['label'] = edge_labels[edge]\n",
    "\n",
    "# export as graphML file, see below\n",
    "nx.write_graphml(route_graph, \"graph-111\"+\".graphml\")\n",
    "\"\"\"\n",
    "edge_labels = {}\n",
    "for node1, node2, data in route_graph.edges(data=True):\n",
    "    edge_labels[(node1, node2)] = data['edge_data']['sequence_number']\n",
    "\n",
    "# draw directly from networkx\n",
    "pos = nx.spring_layout(route_graph)\n",
    "nx.draw(route_graph, pos, edge_color='black', width=1, linewidths=1, node_size=500, node_color='pink', alpha=0.9)\n",
    "nx.draw_networkx_edge_labels(route_graph,pos,edge_labels=edge_labels,font_color='red')\n",
    "plt.show()"
   ]
  },
  {
   "cell_type": "markdown",
   "metadata": {},
   "source": [
    "### Find all admissible routes"
   ]
  },
  {
   "cell_type": "code",
   "execution_count": 162,
   "metadata": {},
   "outputs": [],
   "source": [
    "paths = {}\n",
    "for si in service_intentions:\n",
    "    startnodes=[]\n",
    "    endnodes = []\n",
    "    G = route_graphs[si]\n",
    "    for edge in G.edges(data=True):\n",
    "        if 'start_end' in edge[2]['edge_data']:\n",
    "            if edge[2]['edge_data']['start_end'] == 'start':\n",
    "                startnodes.append(edge[0])\n",
    "            if edge[2]['edge_data']['start_end'] == 'end':\n",
    "                endnodes.append(edge[1])\n",
    "    paths_si = []\n",
    "    for s in startnodes:\n",
    "        for e in endnodes:\n",
    "            for path in nx.all_simple_paths(G, source=s, target=e):\n",
    "                paths_si.append([(path[i], path[i+1]) for i in range(len(path)-1)])\n",
    "    paths[si] = paths_si"
   ]
  },
  {
   "cell_type": "code",
   "execution_count": 227,
   "metadata": {},
   "outputs": [],
   "source": [
    "si_list = []\n",
    "for si in paths:\n",
    "    pathlist = []\n",
    "    for i,path in enumerate(paths[si]):\n",
    "        srlist = []\n",
    "        for sr in path:\n",
    "            srlist.append((si,i,sr))\n",
    "        pathlist.append(srlist)\n",
    "    si_list.append(pathlist)"
   ]
  },
  {
   "cell_type": "code",
   "execution_count": 228,
   "metadata": {
    "scrolled": true
   },
   "outputs": [
    {
     "data": {
      "text/plain": [
       "[[[(111, 0, ('(1_beginning)', '(M1)')),\n",
       "   (111, 0, ('(M1)', '(4->5)')),\n",
       "   (111, 0, ('(4->5)', '(M2)')),\n",
       "   (111, 0, ('(M2)', '(M3)')),\n",
       "   (111, 0, ('(M3)', '(10->13)')),\n",
       "   (111, 0, ('(10->13)', '(M4)')),\n",
       "   (111, 0, ('(M4)', '(14_end)'))],\n",
       "  [(111, 1, ('(1_beginning)', '(M1)')),\n",
       "   (111, 1, ('(M1)', '(4->5)')),\n",
       "   (111, 1, ('(4->5)', '(M2)')),\n",
       "   (111, 1, ('(M2)', '(M3)')),\n",
       "   (111, 1, ('(M3)', '(11->12)')),\n",
       "   (111, 1, ('(11->12)', '(M4)')),\n",
       "   (111, 1, ('(M4)', '(14_end)'))],\n",
       "  [(111, 2, ('(1_beginning)', '(M1)')),\n",
       "   (111, 2, ('(M1)', '(4->5)')),\n",
       "   (111, 2, ('(4->5)', '(M2)')),\n",
       "   (111, 2, ('(M2)', '(7->8)')),\n",
       "   (111, 2, ('(7->8)', '(8->9)')),\n",
       "   (111, 2, ('(8->9)', '(9_end)'))],\n",
       "  [(111, 3, ('(2_beginning)', '(M1)')),\n",
       "   (111, 3, ('(M1)', '(4->5)')),\n",
       "   (111, 3, ('(4->5)', '(M2)')),\n",
       "   (111, 3, ('(M2)', '(M3)')),\n",
       "   (111, 3, ('(M3)', '(10->13)')),\n",
       "   (111, 3, ('(10->13)', '(M4)')),\n",
       "   (111, 3, ('(M4)', '(14_end)'))],\n",
       "  [(111, 4, ('(2_beginning)', '(M1)')),\n",
       "   (111, 4, ('(M1)', '(4->5)')),\n",
       "   (111, 4, ('(4->5)', '(M2)')),\n",
       "   (111, 4, ('(M2)', '(M3)')),\n",
       "   (111, 4, ('(M3)', '(11->12)')),\n",
       "   (111, 4, ('(11->12)', '(M4)')),\n",
       "   (111, 4, ('(M4)', '(14_end)'))],\n",
       "  [(111, 5, ('(2_beginning)', '(M1)')),\n",
       "   (111, 5, ('(M1)', '(4->5)')),\n",
       "   (111, 5, ('(4->5)', '(M2)')),\n",
       "   (111, 5, ('(M2)', '(7->8)')),\n",
       "   (111, 5, ('(7->8)', '(8->9)')),\n",
       "   (111, 5, ('(8->9)', '(9_end)'))],\n",
       "  [(111, 6, ('(3_beginning)', '(M1)')),\n",
       "   (111, 6, ('(M1)', '(4->5)')),\n",
       "   (111, 6, ('(4->5)', '(M2)')),\n",
       "   (111, 6, ('(M2)', '(M3)')),\n",
       "   (111, 6, ('(M3)', '(10->13)')),\n",
       "   (111, 6, ('(10->13)', '(M4)')),\n",
       "   (111, 6, ('(M4)', '(14_end)'))],\n",
       "  [(111, 7, ('(3_beginning)', '(M1)')),\n",
       "   (111, 7, ('(M1)', '(4->5)')),\n",
       "   (111, 7, ('(4->5)', '(M2)')),\n",
       "   (111, 7, ('(M2)', '(M3)')),\n",
       "   (111, 7, ('(M3)', '(11->12)')),\n",
       "   (111, 7, ('(11->12)', '(M4)')),\n",
       "   (111, 7, ('(M4)', '(14_end)'))],\n",
       "  [(111, 8, ('(3_beginning)', '(M1)')),\n",
       "   (111, 8, ('(M1)', '(4->5)')),\n",
       "   (111, 8, ('(4->5)', '(M2)')),\n",
       "   (111, 8, ('(M2)', '(7->8)')),\n",
       "   (111, 8, ('(7->8)', '(8->9)')),\n",
       "   (111, 8, ('(8->9)', '(9_end)'))]],\n",
       " [[(113, 0, ('(1_beginning)', '(M1)')),\n",
       "   (113, 0, ('(M1)', '(4->5)')),\n",
       "   (113, 0, ('(4->5)', '(M2)')),\n",
       "   (113, 0, ('(M2)', '(M3)')),\n",
       "   (113, 0, ('(M3)', '(10->13)')),\n",
       "   (113, 0, ('(10->13)', '(M4)')),\n",
       "   (113, 0, ('(M4)', '(14_end)'))],\n",
       "  [(113, 1, ('(1_beginning)', '(M1)')),\n",
       "   (113, 1, ('(M1)', '(4->5)')),\n",
       "   (113, 1, ('(4->5)', '(M2)')),\n",
       "   (113, 1, ('(M2)', '(M3)')),\n",
       "   (113, 1, ('(M3)', '(11->12)')),\n",
       "   (113, 1, ('(11->12)', '(M4)')),\n",
       "   (113, 1, ('(M4)', '(14_end)'))],\n",
       "  [(113, 2, ('(1_beginning)', '(M1)')),\n",
       "   (113, 2, ('(M1)', '(4->5)')),\n",
       "   (113, 2, ('(4->5)', '(M2)')),\n",
       "   (113, 2, ('(M2)', '(7->8)')),\n",
       "   (113, 2, ('(7->8)', '(8->9)')),\n",
       "   (113, 2, ('(8->9)', '(9_end)'))],\n",
       "  [(113, 3, ('(2_beginning)', '(M1)')),\n",
       "   (113, 3, ('(M1)', '(4->5)')),\n",
       "   (113, 3, ('(4->5)', '(M2)')),\n",
       "   (113, 3, ('(M2)', '(M3)')),\n",
       "   (113, 3, ('(M3)', '(10->13)')),\n",
       "   (113, 3, ('(10->13)', '(M4)')),\n",
       "   (113, 3, ('(M4)', '(14_end)'))],\n",
       "  [(113, 4, ('(2_beginning)', '(M1)')),\n",
       "   (113, 4, ('(M1)', '(4->5)')),\n",
       "   (113, 4, ('(4->5)', '(M2)')),\n",
       "   (113, 4, ('(M2)', '(M3)')),\n",
       "   (113, 4, ('(M3)', '(11->12)')),\n",
       "   (113, 4, ('(11->12)', '(M4)')),\n",
       "   (113, 4, ('(M4)', '(14_end)'))],\n",
       "  [(113, 5, ('(2_beginning)', '(M1)')),\n",
       "   (113, 5, ('(M1)', '(4->5)')),\n",
       "   (113, 5, ('(4->5)', '(M2)')),\n",
       "   (113, 5, ('(M2)', '(7->8)')),\n",
       "   (113, 5, ('(7->8)', '(8->9)')),\n",
       "   (113, 5, ('(8->9)', '(9_end)'))],\n",
       "  [(113, 6, ('(3_beginning)', '(M1)')),\n",
       "   (113, 6, ('(M1)', '(4->5)')),\n",
       "   (113, 6, ('(4->5)', '(M2)')),\n",
       "   (113, 6, ('(M2)', '(M3)')),\n",
       "   (113, 6, ('(M3)', '(10->13)')),\n",
       "   (113, 6, ('(10->13)', '(M4)')),\n",
       "   (113, 6, ('(M4)', '(14_end)'))],\n",
       "  [(113, 7, ('(3_beginning)', '(M1)')),\n",
       "   (113, 7, ('(M1)', '(4->5)')),\n",
       "   (113, 7, ('(4->5)', '(M2)')),\n",
       "   (113, 7, ('(M2)', '(M3)')),\n",
       "   (113, 7, ('(M3)', '(11->12)')),\n",
       "   (113, 7, ('(11->12)', '(M4)')),\n",
       "   (113, 7, ('(M4)', '(14_end)'))],\n",
       "  [(113, 8, ('(3_beginning)', '(M1)')),\n",
       "   (113, 8, ('(M1)', '(4->5)')),\n",
       "   (113, 8, ('(4->5)', '(M2)')),\n",
       "   (113, 8, ('(M2)', '(7->8)')),\n",
       "   (113, 8, ('(7->8)', '(8->9)')),\n",
       "   (113, 8, ('(8->9)', '(9_end)'))]]]"
      ]
     },
     "execution_count": 228,
     "metadata": {},
     "output_type": "execute_result"
    }
   ],
   "source": [
    "si_list"
   ]
  },
  {
   "cell_type": "code",
   "execution_count": 229,
   "metadata": {},
   "outputs": [],
   "source": [
    "def recursive_len(item):\n",
    "    if type(item) == list:\n",
    "        return sum(recursive_len(subitem) for subitem in item)\n",
    "    else:\n",
    "        return 1"
   ]
  },
  {
   "cell_type": "code",
   "execution_count": 230,
   "metadata": {},
   "outputs": [
    {
     "data": {
      "text/plain": [
       "286"
      ]
     },
     "execution_count": 230,
     "metadata": {},
     "output_type": "execute_result"
    }
   ],
   "source": [
    "t_len = recursive_len(si_list)\n",
    "x_len = 0\n",
    "delta_len = 0\n",
    "for si in service_intentions:\n",
    "    x_len += len(route_graphs[si].edges)\n",
    "    delta_len += len(paths[si])\n",
    "total_length = t_len*2 + x_len + delta_len\n",
    "total_length"
   ]
  },
  {
   "cell_type": "markdown",
   "metadata": {},
   "source": [
    "### Variables\n",
    "\n",
    "|t_in| = sum of the length of all service intentions, total number of paths per si and route sections per path  \n",
    "|t_out| same as t_in  \n",
    "\n",
    "|x| all service intentions and their route sections\n",
    "\n",
    "|delta| all service intentions and their paths\n",
    "\n",
    "$v = [t_{in}, t_{out} , x, \\delta]$"
   ]
  },
  {
   "cell_type": "markdown",
   "metadata": {},
   "source": [
    "#### Minimize objective function"
   ]
  },
  {
   "cell_type": "markdown",
   "metadata": {},
   "source": [
    "$J(x)=\\{ \\frac{1}{60} \\sum_{SI, R, RS} win_{rs}max(0, \n",
    "t_{si,r,rs}^{in} - LatIn_{si,rs}) + wout_{rs} max(0, t_{si,r,rs}^{out} - LatOut_{si,rs}) + p_{si,rs}x_{si,rs} \\}$  \n",
    "\n"
   ]
  },
  {
   "cell_type": "markdown",
   "metadata": {},
   "source": [
    "#### Subject to"
   ]
  },
  {
   "cell_type": "markdown",
   "metadata": {},
   "source": [
    "time into a section comes before time out: \n",
    "\n",
    "\n",
    "(1)  $t_{si,r,rs}^{in} \\leq t_{si,r,rs}^{out}$  \n",
    "\n",
    "time into next section comes after time out from previous section:  \n",
    "(2)  $t_{si,r,rs}^{out} \\leq t_{si,r,rs+1}^{in}$\n",
    "\n",
    "if r is the selected path, satisfy minimum running and stopping time:  \n",
    "(3)  $t_{si,r,rs}^{out} - t_{si,r,rs}^{in} \\geq mrt_{si, r, rs} + mst_{si, r, rs} - M(1-\\delta_{si,r})$\n",
    "\n",
    "Earliest in constraint:  \n",
    "(4)  $t_{si,r,rs}^{in} \\geq EarIn_{si,r,rs} - M(1-\\delta_{si,r})$  \n",
    "\n",
    "Earliest out constraint:  \n",
    "(5)  $t_{si,r,rs}^{out} \\geq EarOut_{si,r,rs} - M(1-\\delta_{si,r})$\n",
    "\n",
    "Select only one path to every service:  \n",
    "(6)  $\\sum_{r \\in P} \\delta_{si,r} = 1$\n",
    "\n",
    "\n"
   ]
  },
  {
   "cell_type": "code",
   "execution_count": 243,
   "metadata": {},
   "outputs": [
    {
     "name": "stdout",
     "output_type": "stream",
     "text": [
      "{'penalty': None, 'minimum_running_time': 'PT53S', 'section_marker': 'A', 'start_end': 'start', 'entry_earliest': '08:20:00', 'entry_delay_weight': 1, 'exit_delay_weight': 1, 'sequence_number': 1}\n",
      "{'penalty': None, 'minimum_running_time': 'PT32S', 'section_marker': None, 'sequence_number': 4}\n",
      "{'penalty': None, 'minimum_running_time': 'PT32S', 'section_marker': 'B', 'start_end': None, 'min_stopping_time': 'PT3M', 'exit_earliest': '08:30:00', 'entry_delay_weight': 1, 'exit_delay_weight': 1, 'sequence_number': 5}\n",
      "{'penalty': None, 'minimum_running_time': 'PT32S', 'section_marker': None, 'sequence_number': 6}\n",
      "{'penalty': None, 'minimum_running_time': 'PT32S', 'section_marker': None, 'sequence_number': 10}\n",
      "{'penalty': None, 'minimum_running_time': 'PT32S', 'section_marker': None, 'sequence_number': 13}\n",
      "{'penalty': None, 'minimum_running_time': 'PT32S', 'section_marker': 'C', 'start_end': 'end', 'exit_latest': '08:50:00', 'entry_delay_weight': 1, 'exit_delay_weight': 1, 'sequence_number': 14}\n",
      "{'penalty': None, 'minimum_running_time': 'PT53S', 'section_marker': 'A', 'start_end': 'start', 'entry_earliest': '08:20:00', 'entry_delay_weight': 1, 'exit_delay_weight': 1, 'sequence_number': 1}\n",
      "{'penalty': None, 'minimum_running_time': 'PT32S', 'section_marker': None, 'sequence_number': 4}\n",
      "{'penalty': None, 'minimum_running_time': 'PT32S', 'section_marker': 'B', 'start_end': None, 'min_stopping_time': 'PT3M', 'exit_earliest': '08:30:00', 'entry_delay_weight': 1, 'exit_delay_weight': 1, 'sequence_number': 5}\n",
      "{'penalty': None, 'minimum_running_time': 'PT32S', 'section_marker': None, 'sequence_number': 6}\n",
      "{'penalty': None, 'minimum_running_time': 'PT32S', 'section_marker': None, 'sequence_number': 11}\n",
      "{'penalty': None, 'minimum_running_time': 'PT32S', 'section_marker': None, 'sequence_number': 12}\n",
      "{'penalty': None, 'minimum_running_time': 'PT32S', 'section_marker': 'C', 'start_end': 'end', 'exit_latest': '08:50:00', 'entry_delay_weight': 1, 'exit_delay_weight': 1, 'sequence_number': 14}\n",
      "{'penalty': None, 'minimum_running_time': 'PT53S', 'section_marker': 'A', 'start_end': 'start', 'entry_earliest': '08:20:00', 'entry_delay_weight': 1, 'exit_delay_weight': 1, 'sequence_number': 1}\n",
      "{'penalty': None, 'minimum_running_time': 'PT32S', 'section_marker': None, 'sequence_number': 4}\n",
      "{'penalty': None, 'minimum_running_time': 'PT32S', 'section_marker': 'B', 'start_end': None, 'min_stopping_time': 'PT3M', 'exit_earliest': '08:30:00', 'entry_delay_weight': 1, 'exit_delay_weight': 1, 'sequence_number': 5}\n",
      "{'penalty': None, 'minimum_running_time': 'PT32S', 'section_marker': None, 'sequence_number': 7}\n",
      "{'penalty': None, 'minimum_running_time': 'PT32S', 'section_marker': None, 'sequence_number': 8}\n",
      "{'penalty': None, 'minimum_running_time': 'PT32S', 'section_marker': 'C', 'start_end': 'end', 'exit_latest': '08:50:00', 'entry_delay_weight': 1, 'exit_delay_weight': 1, 'sequence_number': 9}\n",
      "{'penalty': None, 'minimum_running_time': 'PT53S', 'section_marker': 'A', 'start_end': 'start', 'entry_earliest': '08:20:00', 'entry_delay_weight': 1, 'exit_delay_weight': 1, 'sequence_number': 2}\n",
      "{'penalty': None, 'minimum_running_time': 'PT32S', 'section_marker': None, 'sequence_number': 4}\n",
      "{'penalty': None, 'minimum_running_time': 'PT32S', 'section_marker': 'B', 'start_end': None, 'min_stopping_time': 'PT3M', 'exit_earliest': '08:30:00', 'entry_delay_weight': 1, 'exit_delay_weight': 1, 'sequence_number': 5}\n",
      "{'penalty': None, 'minimum_running_time': 'PT32S', 'section_marker': None, 'sequence_number': 6}\n",
      "{'penalty': None, 'minimum_running_time': 'PT32S', 'section_marker': None, 'sequence_number': 10}\n",
      "{'penalty': None, 'minimum_running_time': 'PT32S', 'section_marker': None, 'sequence_number': 13}\n",
      "{'penalty': None, 'minimum_running_time': 'PT32S', 'section_marker': 'C', 'start_end': 'end', 'exit_latest': '08:50:00', 'entry_delay_weight': 1, 'exit_delay_weight': 1, 'sequence_number': 14}\n",
      "{'penalty': None, 'minimum_running_time': 'PT53S', 'section_marker': 'A', 'start_end': 'start', 'entry_earliest': '08:20:00', 'entry_delay_weight': 1, 'exit_delay_weight': 1, 'sequence_number': 2}\n",
      "{'penalty': None, 'minimum_running_time': 'PT32S', 'section_marker': None, 'sequence_number': 4}\n",
      "{'penalty': None, 'minimum_running_time': 'PT32S', 'section_marker': 'B', 'start_end': None, 'min_stopping_time': 'PT3M', 'exit_earliest': '08:30:00', 'entry_delay_weight': 1, 'exit_delay_weight': 1, 'sequence_number': 5}\n",
      "{'penalty': None, 'minimum_running_time': 'PT32S', 'section_marker': None, 'sequence_number': 6}\n",
      "{'penalty': None, 'minimum_running_time': 'PT32S', 'section_marker': None, 'sequence_number': 11}\n",
      "{'penalty': None, 'minimum_running_time': 'PT32S', 'section_marker': None, 'sequence_number': 12}\n",
      "{'penalty': None, 'minimum_running_time': 'PT32S', 'section_marker': 'C', 'start_end': 'end', 'exit_latest': '08:50:00', 'entry_delay_weight': 1, 'exit_delay_weight': 1, 'sequence_number': 14}\n",
      "{'penalty': None, 'minimum_running_time': 'PT53S', 'section_marker': 'A', 'start_end': 'start', 'entry_earliest': '08:20:00', 'entry_delay_weight': 1, 'exit_delay_weight': 1, 'sequence_number': 2}\n",
      "{'penalty': None, 'minimum_running_time': 'PT32S', 'section_marker': None, 'sequence_number': 4}\n",
      "{'penalty': None, 'minimum_running_time': 'PT32S', 'section_marker': 'B', 'start_end': None, 'min_stopping_time': 'PT3M', 'exit_earliest': '08:30:00', 'entry_delay_weight': 1, 'exit_delay_weight': 1, 'sequence_number': 5}\n",
      "{'penalty': None, 'minimum_running_time': 'PT32S', 'section_marker': None, 'sequence_number': 7}\n",
      "{'penalty': None, 'minimum_running_time': 'PT32S', 'section_marker': None, 'sequence_number': 8}\n",
      "{'penalty': None, 'minimum_running_time': 'PT32S', 'section_marker': 'C', 'start_end': 'end', 'exit_latest': '08:50:00', 'entry_delay_weight': 1, 'exit_delay_weight': 1, 'sequence_number': 9}\n",
      "{'penalty': None, 'minimum_running_time': 'PT53S', 'section_marker': 'A', 'start_end': 'start', 'entry_earliest': '08:20:00', 'entry_delay_weight': 1, 'exit_delay_weight': 1, 'sequence_number': 3}\n",
      "{'penalty': None, 'minimum_running_time': 'PT32S', 'section_marker': None, 'sequence_number': 4}\n",
      "{'penalty': None, 'minimum_running_time': 'PT32S', 'section_marker': 'B', 'start_end': None, 'min_stopping_time': 'PT3M', 'exit_earliest': '08:30:00', 'entry_delay_weight': 1, 'exit_delay_weight': 1, 'sequence_number': 5}\n",
      "{'penalty': None, 'minimum_running_time': 'PT32S', 'section_marker': None, 'sequence_number': 6}\n",
      "{'penalty': None, 'minimum_running_time': 'PT32S', 'section_marker': None, 'sequence_number': 10}\n",
      "{'penalty': None, 'minimum_running_time': 'PT32S', 'section_marker': None, 'sequence_number': 13}\n",
      "{'penalty': None, 'minimum_running_time': 'PT32S', 'section_marker': 'C', 'start_end': 'end', 'exit_latest': '08:50:00', 'entry_delay_weight': 1, 'exit_delay_weight': 1, 'sequence_number': 14}\n",
      "{'penalty': None, 'minimum_running_time': 'PT53S', 'section_marker': 'A', 'start_end': 'start', 'entry_earliest': '08:20:00', 'entry_delay_weight': 1, 'exit_delay_weight': 1, 'sequence_number': 3}\n",
      "{'penalty': None, 'minimum_running_time': 'PT32S', 'section_marker': None, 'sequence_number': 4}\n",
      "{'penalty': None, 'minimum_running_time': 'PT32S', 'section_marker': 'B', 'start_end': None, 'min_stopping_time': 'PT3M', 'exit_earliest': '08:30:00', 'entry_delay_weight': 1, 'exit_delay_weight': 1, 'sequence_number': 5}\n",
      "{'penalty': None, 'minimum_running_time': 'PT32S', 'section_marker': None, 'sequence_number': 6}\n",
      "{'penalty': None, 'minimum_running_time': 'PT32S', 'section_marker': None, 'sequence_number': 11}\n",
      "{'penalty': None, 'minimum_running_time': 'PT32S', 'section_marker': None, 'sequence_number': 12}\n",
      "{'penalty': None, 'minimum_running_time': 'PT32S', 'section_marker': 'C', 'start_end': 'end', 'exit_latest': '08:50:00', 'entry_delay_weight': 1, 'exit_delay_weight': 1, 'sequence_number': 14}\n",
      "{'penalty': None, 'minimum_running_time': 'PT53S', 'section_marker': 'A', 'start_end': 'start', 'entry_earliest': '08:20:00', 'entry_delay_weight': 1, 'exit_delay_weight': 1, 'sequence_number': 3}\n",
      "{'penalty': None, 'minimum_running_time': 'PT32S', 'section_marker': None, 'sequence_number': 4}\n",
      "{'penalty': None, 'minimum_running_time': 'PT32S', 'section_marker': 'B', 'start_end': None, 'min_stopping_time': 'PT3M', 'exit_earliest': '08:30:00', 'entry_delay_weight': 1, 'exit_delay_weight': 1, 'sequence_number': 5}\n",
      "{'penalty': None, 'minimum_running_time': 'PT32S', 'section_marker': None, 'sequence_number': 7}\n",
      "{'penalty': None, 'minimum_running_time': 'PT32S', 'section_marker': None, 'sequence_number': 8}\n",
      "{'penalty': None, 'minimum_running_time': 'PT32S', 'section_marker': 'C', 'start_end': 'end', 'exit_latest': '08:50:00', 'entry_delay_weight': 1, 'exit_delay_weight': 1, 'sequence_number': 9}\n",
      "{'penalty': None, 'minimum_running_time': 'PT53S', 'section_marker': 'A', 'start_end': 'start', 'entry_earliest': '07:50:00', 'entry_delay_weight': 1, 'exit_delay_weight': 1, 'sequence_number': 1}\n",
      "{'penalty': None, 'minimum_running_time': 'PT32S', 'section_marker': None, 'sequence_number': 4}\n",
      "{'penalty': None, 'minimum_running_time': 'PT32S', 'section_marker': 'B', 'sequence_number': 5}\n",
      "{'penalty': None, 'minimum_running_time': 'PT32S', 'section_marker': None, 'sequence_number': 6}\n",
      "{'penalty': None, 'minimum_running_time': 'PT32S', 'section_marker': None, 'sequence_number': 10}\n",
      "{'penalty': None, 'minimum_running_time': 'PT32S', 'section_marker': None, 'sequence_number': 13}\n",
      "{'penalty': None, 'minimum_running_time': 'PT32S', 'section_marker': 'C', 'start_end': 'end', 'exit_latest': '08:16:00', 'entry_delay_weight': 1, 'exit_delay_weight': 1, 'sequence_number': 14}\n",
      "{'penalty': None, 'minimum_running_time': 'PT53S', 'section_marker': 'A', 'start_end': 'start', 'entry_earliest': '07:50:00', 'entry_delay_weight': 1, 'exit_delay_weight': 1, 'sequence_number': 1}\n",
      "{'penalty': None, 'minimum_running_time': 'PT32S', 'section_marker': None, 'sequence_number': 4}\n",
      "{'penalty': None, 'minimum_running_time': 'PT32S', 'section_marker': 'B', 'sequence_number': 5}\n",
      "{'penalty': None, 'minimum_running_time': 'PT32S', 'section_marker': None, 'sequence_number': 6}\n",
      "{'penalty': None, 'minimum_running_time': 'PT32S', 'section_marker': None, 'sequence_number': 11}\n",
      "{'penalty': None, 'minimum_running_time': 'PT32S', 'section_marker': None, 'sequence_number': 12}\n",
      "{'penalty': None, 'minimum_running_time': 'PT32S', 'section_marker': 'C', 'start_end': 'end', 'exit_latest': '08:16:00', 'entry_delay_weight': 1, 'exit_delay_weight': 1, 'sequence_number': 14}\n",
      "{'penalty': None, 'minimum_running_time': 'PT53S', 'section_marker': 'A', 'start_end': 'start', 'entry_earliest': '07:50:00', 'entry_delay_weight': 1, 'exit_delay_weight': 1, 'sequence_number': 1}\n",
      "{'penalty': None, 'minimum_running_time': 'PT32S', 'section_marker': None, 'sequence_number': 4}\n",
      "{'penalty': None, 'minimum_running_time': 'PT32S', 'section_marker': 'B', 'sequence_number': 5}\n",
      "{'penalty': None, 'minimum_running_time': 'PT32S', 'section_marker': None, 'sequence_number': 7}\n",
      "{'penalty': None, 'minimum_running_time': 'PT32S', 'section_marker': None, 'sequence_number': 8}\n",
      "{'penalty': None, 'minimum_running_time': 'PT32S', 'section_marker': 'C', 'start_end': 'end', 'exit_latest': '08:16:00', 'entry_delay_weight': 1, 'exit_delay_weight': 1, 'sequence_number': 9}\n",
      "{'penalty': None, 'minimum_running_time': 'PT53S', 'section_marker': 'A', 'start_end': 'start', 'entry_earliest': '07:50:00', 'entry_delay_weight': 1, 'exit_delay_weight': 1, 'sequence_number': 2}\n",
      "{'penalty': None, 'minimum_running_time': 'PT32S', 'section_marker': None, 'sequence_number': 4}\n",
      "{'penalty': None, 'minimum_running_time': 'PT32S', 'section_marker': 'B', 'sequence_number': 5}\n",
      "{'penalty': None, 'minimum_running_time': 'PT32S', 'section_marker': None, 'sequence_number': 6}\n",
      "{'penalty': None, 'minimum_running_time': 'PT32S', 'section_marker': None, 'sequence_number': 10}\n",
      "{'penalty': None, 'minimum_running_time': 'PT32S', 'section_marker': None, 'sequence_number': 13}\n",
      "{'penalty': None, 'minimum_running_time': 'PT32S', 'section_marker': 'C', 'start_end': 'end', 'exit_latest': '08:16:00', 'entry_delay_weight': 1, 'exit_delay_weight': 1, 'sequence_number': 14}\n",
      "{'penalty': None, 'minimum_running_time': 'PT53S', 'section_marker': 'A', 'start_end': 'start', 'entry_earliest': '07:50:00', 'entry_delay_weight': 1, 'exit_delay_weight': 1, 'sequence_number': 2}\n",
      "{'penalty': None, 'minimum_running_time': 'PT32S', 'section_marker': None, 'sequence_number': 4}\n",
      "{'penalty': None, 'minimum_running_time': 'PT32S', 'section_marker': 'B', 'sequence_number': 5}\n",
      "{'penalty': None, 'minimum_running_time': 'PT32S', 'section_marker': None, 'sequence_number': 6}\n",
      "{'penalty': None, 'minimum_running_time': 'PT32S', 'section_marker': None, 'sequence_number': 11}\n",
      "{'penalty': None, 'minimum_running_time': 'PT32S', 'section_marker': None, 'sequence_number': 12}\n",
      "{'penalty': None, 'minimum_running_time': 'PT32S', 'section_marker': 'C', 'start_end': 'end', 'exit_latest': '08:16:00', 'entry_delay_weight': 1, 'exit_delay_weight': 1, 'sequence_number': 14}\n",
      "{'penalty': None, 'minimum_running_time': 'PT53S', 'section_marker': 'A', 'start_end': 'start', 'entry_earliest': '07:50:00', 'entry_delay_weight': 1, 'exit_delay_weight': 1, 'sequence_number': 2}\n",
      "{'penalty': None, 'minimum_running_time': 'PT32S', 'section_marker': None, 'sequence_number': 4}\n",
      "{'penalty': None, 'minimum_running_time': 'PT32S', 'section_marker': 'B', 'sequence_number': 5}\n",
      "{'penalty': None, 'minimum_running_time': 'PT32S', 'section_marker': None, 'sequence_number': 7}\n",
      "{'penalty': None, 'minimum_running_time': 'PT32S', 'section_marker': None, 'sequence_number': 8}\n",
      "{'penalty': None, 'minimum_running_time': 'PT32S', 'section_marker': 'C', 'start_end': 'end', 'exit_latest': '08:16:00', 'entry_delay_weight': 1, 'exit_delay_weight': 1, 'sequence_number': 9}\n",
      "{'penalty': None, 'minimum_running_time': 'PT53S', 'section_marker': 'A', 'start_end': 'start', 'entry_earliest': '07:50:00', 'entry_delay_weight': 1, 'exit_delay_weight': 1, 'sequence_number': 3}\n",
      "{'penalty': None, 'minimum_running_time': 'PT32S', 'section_marker': None, 'sequence_number': 4}\n",
      "{'penalty': None, 'minimum_running_time': 'PT32S', 'section_marker': 'B', 'sequence_number': 5}\n",
      "{'penalty': None, 'minimum_running_time': 'PT32S', 'section_marker': None, 'sequence_number': 6}\n",
      "{'penalty': None, 'minimum_running_time': 'PT32S', 'section_marker': None, 'sequence_number': 10}\n",
      "{'penalty': None, 'minimum_running_time': 'PT32S', 'section_marker': None, 'sequence_number': 13}\n",
      "{'penalty': None, 'minimum_running_time': 'PT32S', 'section_marker': 'C', 'start_end': 'end', 'exit_latest': '08:16:00', 'entry_delay_weight': 1, 'exit_delay_weight': 1, 'sequence_number': 14}\n",
      "{'penalty': None, 'minimum_running_time': 'PT53S', 'section_marker': 'A', 'start_end': 'start', 'entry_earliest': '07:50:00', 'entry_delay_weight': 1, 'exit_delay_weight': 1, 'sequence_number': 3}\n",
      "{'penalty': None, 'minimum_running_time': 'PT32S', 'section_marker': None, 'sequence_number': 4}\n",
      "{'penalty': None, 'minimum_running_time': 'PT32S', 'section_marker': 'B', 'sequence_number': 5}\n",
      "{'penalty': None, 'minimum_running_time': 'PT32S', 'section_marker': None, 'sequence_number': 6}\n",
      "{'penalty': None, 'minimum_running_time': 'PT32S', 'section_marker': None, 'sequence_number': 11}\n",
      "{'penalty': None, 'minimum_running_time': 'PT32S', 'section_marker': None, 'sequence_number': 12}\n",
      "{'penalty': None, 'minimum_running_time': 'PT32S', 'section_marker': 'C', 'start_end': 'end', 'exit_latest': '08:16:00', 'entry_delay_weight': 1, 'exit_delay_weight': 1, 'sequence_number': 14}\n",
      "{'penalty': None, 'minimum_running_time': 'PT53S', 'section_marker': 'A', 'start_end': 'start', 'entry_earliest': '07:50:00', 'entry_delay_weight': 1, 'exit_delay_weight': 1, 'sequence_number': 3}\n",
      "{'penalty': None, 'minimum_running_time': 'PT32S', 'section_marker': None, 'sequence_number': 4}\n",
      "{'penalty': None, 'minimum_running_time': 'PT32S', 'section_marker': 'B', 'sequence_number': 5}\n",
      "{'penalty': None, 'minimum_running_time': 'PT32S', 'section_marker': None, 'sequence_number': 7}\n",
      "{'penalty': None, 'minimum_running_time': 'PT32S', 'section_marker': None, 'sequence_number': 8}\n",
      "{'penalty': None, 'minimum_running_time': 'PT32S', 'section_marker': 'C', 'start_end': 'end', 'exit_latest': '08:16:00', 'entry_delay_weight': 1, 'exit_delay_weight': 1, 'sequence_number': 9}\n"
     ]
    }
   ],
   "source": [
    "\n",
    "A = np.array([])\n",
    "\n",
    "#load (1)\n",
    "i = 0\n",
    "for si in si_list:\n",
    "    for r in si:\n",
    "        for rs in r:\n",
    "            temp = np.zeros(total_length)\n",
    "            temp[i] = 1\n",
    "            temp[i+t_len] = -1\n",
    "            i+=1\n",
    "            if len(A)==0:\n",
    "                A = temp\n",
    "            else:\n",
    "                A = np.vstack((A,temp))\n",
    "#load (2)\n",
    "i = 0\n",
    "for si in si_list:\n",
    "    for r in si:\n",
    "        for j, rs in enumerate(r):\n",
    "            if j!=len(r)-1:\n",
    "                temp = np.zeros(total_length)\n",
    "                temp[i] = -1\n",
    "                temp[i+t_len+1] = 1\n",
    "                i+=1\n",
    "                if len(A)==0:\n",
    "                    A = temp\n",
    "                else:\n",
    "                    A = np.vstack((A,temp))\n",
    "\n",
    "#load (3)\n",
    "i = 0\n",
    "j = 0\n",
    "M = 1000\n",
    "for si, si_id in zip(si_list, service_intentions):\n",
    "    for r in si:\n",
    "        for rs in r:\n",
    "                edge_data = route_graphs[si_id].edges[rs[2]]['edge_data']\n",
    "            \n",
    "                if ('min_stopping_time' in edge_data) or ('minimum_running_time' in edge_data):\n",
    "                    mst = 0\n",
    "                    mrt = 0\n",
    "                    if 'min_stopping_time' in edge_data:\n",
    "                        mst = isodate.parse_duration(edge_data['min_stopping_time']).seconds\n",
    "                    if 'minimum_running_time' in edge_data:\n",
    "                        mrt = isodate.parse_duration(edge_data['minimum_running_time']).seconds\n",
    "                \n",
    "                temp = np.zeros(total_length)\n",
    "                temp[i] = -1\n",
    "                temp[i+t_len+1] = 1\n",
    "                i+=1\n",
    "                if len(A)==0:\n",
    "                    A = temp\n",
    "                else:\n",
    "                    A = np.vstack((A,temp))\n"
   ]
  },
  {
   "cell_type": "code",
   "execution_count": 232,
   "metadata": {},
   "outputs": [
    {
     "data": {
      "text/plain": [
       "(342, 286)"
      ]
     },
     "execution_count": 232,
     "metadata": {},
     "output_type": "execute_result"
    }
   ],
   "source": [
    "A.shape"
   ]
  },
  {
   "cell_type": "code",
   "execution_count": 238,
   "metadata": {},
   "outputs": [
    {
     "data": {
      "text/plain": [
       "{'edge_data': {'penalty': None,\n",
       "  'minimum_running_time': 'PT32S',\n",
       "  'section_marker': 'C',\n",
       "  'start_end': 'end',\n",
       "  'exit_latest': '08:50:00',\n",
       "  'entry_delay_weight': 1,\n",
       "  'exit_delay_weight': 1,\n",
       "  'sequence_number': 9}}"
      ]
     },
     "execution_count": 238,
     "metadata": {},
     "output_type": "execute_result"
    }
   ],
   "source": [
    "route_graphs[111].edges[rs[2]]"
   ]
  },
  {
   "cell_type": "code",
   "execution_count": 253,
   "metadata": {},
   "outputs": [
    {
     "data": {
      "text/plain": [
       "32"
      ]
     },
     "execution_count": 253,
     "metadata": {},
     "output_type": "execute_result"
    }
   ],
   "source": [
    "isodate.parse_duration('PT32S').seconds"
   ]
  },
  {
   "cell_type": "code",
   "execution_count": 235,
   "metadata": {},
   "outputs": [
    {
     "data": {
      "text/plain": [
       "('(8->9)', '(9_end)')"
      ]
     },
     "execution_count": 235,
     "metadata": {},
     "output_type": "execute_result"
    }
   ],
   "source": [
    "rs[2]"
   ]
  },
  {
   "cell_type": "code",
   "execution_count": 254,
   "metadata": {},
   "outputs": [
    {
     "data": {
      "text/plain": [
       "32"
      ]
     },
     "execution_count": 254,
     "metadata": {},
     "output_type": "execute_result"
    }
   ],
   "source": [
    "isodate.parse_duration(edge_data['minimum_running_time']).seconds"
   ]
  },
  {
   "cell_type": "code",
   "execution_count": null,
   "metadata": {},
   "outputs": [],
   "source": []
  }
 ],
 "metadata": {
  "kernelspec": {
   "display_name": "Python 3",
   "language": "python",
   "name": "python3"
  },
  "language_info": {
   "codemirror_mode": {
    "name": "ipython",
    "version": 3
   },
   "file_extension": ".py",
   "mimetype": "text/x-python",
   "name": "python",
   "nbconvert_exporter": "python",
   "pygments_lexer": "ipython3",
   "version": "3.8.3"
  }
 },
 "nbformat": 4,
 "nbformat_minor": 1
}
